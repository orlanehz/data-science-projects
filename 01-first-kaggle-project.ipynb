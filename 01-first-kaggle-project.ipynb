{
 "cells": [
  {
   "cell_type": "markdown",
   "id": "treated-cameroon",
   "metadata": {},
   "source": [
    "<h1 align=\"center\">🚕</h1>\n",
    "<h1 align=\"center\">Predicting the Taxi Fare of New York City riders using Machine Learning</h1>"
   ]
  },
  {
   "cell_type": "markdown",
   "id": "utility-variation",
   "metadata": {},
   "source": [
    "<hr/>\n",
    "<div align=\"center\">In this notebook, the goal is to predict the New York City Taxi Fare.</div>"
   ]
  },
  {
   "cell_type": "markdown",
   "id": "chronic-bangkok",
   "metadata": {},
   "source": [
    "## 1. Problem\n",
    "\n",
    "> How well can we predict the fare amount for a taxi ride in New York City, given the pickup and dropoff locations ?"
   ]
  },
  {
   "cell_type": "markdown",
   "id": "alternate-makeup",
   "metadata": {},
   "source": [
    "## 2. Data\n",
    "\n",
    "The data is downloaded from the Kaggle New York City Taxi Fare Prediction competition:\n",
    "https://www.kaggle.com/c/new-york-city-taxi-fare-prediction/data\n",
    "\n",
    "There are two main datasets:\n",
    "- **Train.csv**, the training set, which contains data from January 1, 2009 - June 30, 2015.\n",
    "- **Test.csv**, the test set, which contains data from January 1, 2009 - June 30, 2015."
   ]
  },
  {
   "cell_type": "markdown",
   "id": "informative-lawsuit",
   "metadata": {},
   "source": [
    "## 3. Evaluation\n",
    "\n",
    "The evaluation metric for this competition is the **RMSE** (root mean-squared error) between the actual and predicted fare amount.\n",
    "\n",
    "For more on the evaluation on this project check:\n",
    "https://www.kaggle.com/c/new-york-city-taxi-fare-prediction/overview/evaluation"
   ]
  },
  {
   "cell_type": "markdown",
   "id": "beneficial-paragraph",
   "metadata": {},
   "source": [
    "## 4. Features\n",
    "\n",
    "* **pickup_datetime** - timestamp value indicating when the taxi ride started.\n",
    "* **pickup_longitude** - float for longitude coordinate of where the taxi ride started.\n",
    "* **pickup_latitude** - float for latitude coordinate of where the taxi ride started.\n",
    "* **dropoff_longitude** - float for longitude coordinate of where the taxi ride ended.\n",
    "* **dropoff_latitude** - float for latitude coordinate of where the taxi ride ended.\n",
    "* **passenger_count** - integer indicating the number of passengers in the taxi ride."
   ]
  },
  {
   "cell_type": "markdown",
   "id": "collaborative-machinery",
   "metadata": {},
   "source": [
    "<hr/>"
   ]
  },
  {
   "cell_type": "code",
   "execution_count": 1,
   "id": "racial-usage",
   "metadata": {},
   "outputs": [],
   "source": [
    "# Standard imports\n",
    "\n",
    "# Regular EDA and plotting libraries\n",
    "import numpy as np\n",
    "import pandas as pd\n",
    "import matplotlib.pyplot as plt\n",
    "#import seaborn as sns\n",
    "%matplotlib inline\n",
    "\n",
    "# Models from Scikit-Learn\n",
    "from sklearn.ensemble import RandomForestRegressor\n",
    "\n",
    "# Model Evaluations"
   ]
  },
  {
   "cell_type": "markdown",
   "id": "upset-alloy",
   "metadata": {},
   "source": [
    "### Get the data"
   ]
  },
  {
   "cell_type": "code",
   "execution_count": 2,
   "id": "brave-attack",
   "metadata": {
    "scrolled": true
   },
   "outputs": [
    {
     "name": "stdout",
     "output_type": "stream",
     "text": [
      "new-york-city-taxi-fare-prediction.zip: Skipping, found more recently modified local copy (use --force to force download)\r\n"
     ]
    }
   ],
   "source": [
    "!kaggle competitions download -p datasets/new-york-city-taxi -c new-york-city-taxi-fare-prediction"
   ]
  },
  {
   "cell_type": "code",
   "execution_count": 3,
   "id": "proud-testimony",
   "metadata": {
    "scrolled": false
   },
   "outputs": [
    {
     "name": "stdout",
     "output_type": "stream",
     "text": [
      "Archive:  datasets/new-york-city-taxi/new-york-city-taxi-fare-prediction.zip\n",
      "replace datasets/new-york-city-taxi/GCP-Coupons-Instructions.rtf? [y]es, [n]o, [A]ll, [N]one, [r]ename: ^C\n"
     ]
    }
   ],
   "source": [
    "!unzip datasets/new-york-city-taxi/new-york-city-taxi-fare-prediction.zip -d datasets/new-york-city-taxi"
   ]
  },
  {
   "cell_type": "code",
   "execution_count": 4,
   "id": "excess-parallel",
   "metadata": {},
   "outputs": [],
   "source": [
    "NB_ROWS = 20000 # we are sampling the data down to a manageable size which is good to get started"
   ]
  },
  {
   "cell_type": "code",
   "execution_count": 5,
   "id": "beneficial-valve",
   "metadata": {},
   "outputs": [
    {
     "data": {
      "text/plain": [
       "(20000, 8)"
      ]
     },
     "execution_count": 5,
     "metadata": {},
     "output_type": "execute_result"
    }
   ],
   "source": [
    "taxi = pd.read_csv(\"datasets/new-york-city-taxi/train.csv\", nrows=NB_ROWS)\n",
    "taxi.shape"
   ]
  },
  {
   "cell_type": "markdown",
   "id": "partial-twelve",
   "metadata": {},
   "source": [
    "### EDA\n",
    "\n",
    "We will here try to find out more about the data."
   ]
  },
  {
   "cell_type": "markdown",
   "id": "comic-soldier",
   "metadata": {},
   "source": [
    "#### Copy of the original DataFrame\n",
    "We make a copy of the original DataFrame so when we manipulate the copy, we've still got our original data."
   ]
  },
  {
   "cell_type": "code",
   "execution_count": 6,
   "id": "brilliant-sheffield",
   "metadata": {},
   "outputs": [],
   "source": [
    "taxi_origin = taxi.copy()"
   ]
  },
  {
   "cell_type": "code",
   "execution_count": 7,
   "id": "transparent-uganda",
   "metadata": {},
   "outputs": [
    {
     "data": {
      "text/html": [
       "<div>\n",
       "<style scoped>\n",
       "    .dataframe tbody tr th:only-of-type {\n",
       "        vertical-align: middle;\n",
       "    }\n",
       "\n",
       "    .dataframe tbody tr th {\n",
       "        vertical-align: top;\n",
       "    }\n",
       "\n",
       "    .dataframe thead th {\n",
       "        text-align: right;\n",
       "    }\n",
       "</style>\n",
       "<table border=\"1\" class=\"dataframe\">\n",
       "  <thead>\n",
       "    <tr style=\"text-align: right;\">\n",
       "      <th></th>\n",
       "      <th>key</th>\n",
       "      <th>fare_amount</th>\n",
       "      <th>pickup_datetime</th>\n",
       "      <th>pickup_longitude</th>\n",
       "      <th>pickup_latitude</th>\n",
       "      <th>dropoff_longitude</th>\n",
       "      <th>dropoff_latitude</th>\n",
       "      <th>passenger_count</th>\n",
       "    </tr>\n",
       "  </thead>\n",
       "  <tbody>\n",
       "    <tr>\n",
       "      <th>0</th>\n",
       "      <td>2009-06-15 17:26:21.0000001</td>\n",
       "      <td>4.5</td>\n",
       "      <td>2009-06-15 17:26:21 UTC</td>\n",
       "      <td>-73.844311</td>\n",
       "      <td>40.721319</td>\n",
       "      <td>-73.841610</td>\n",
       "      <td>40.712278</td>\n",
       "      <td>1</td>\n",
       "    </tr>\n",
       "    <tr>\n",
       "      <th>1</th>\n",
       "      <td>2010-01-05 16:52:16.0000002</td>\n",
       "      <td>16.9</td>\n",
       "      <td>2010-01-05 16:52:16 UTC</td>\n",
       "      <td>-74.016048</td>\n",
       "      <td>40.711303</td>\n",
       "      <td>-73.979268</td>\n",
       "      <td>40.782004</td>\n",
       "      <td>1</td>\n",
       "    </tr>\n",
       "    <tr>\n",
       "      <th>2</th>\n",
       "      <td>2011-08-18 00:35:00.00000049</td>\n",
       "      <td>5.7</td>\n",
       "      <td>2011-08-18 00:35:00 UTC</td>\n",
       "      <td>-73.982738</td>\n",
       "      <td>40.761270</td>\n",
       "      <td>-73.991242</td>\n",
       "      <td>40.750562</td>\n",
       "      <td>2</td>\n",
       "    </tr>\n",
       "    <tr>\n",
       "      <th>3</th>\n",
       "      <td>2012-04-21 04:30:42.0000001</td>\n",
       "      <td>7.7</td>\n",
       "      <td>2012-04-21 04:30:42 UTC</td>\n",
       "      <td>-73.987130</td>\n",
       "      <td>40.733143</td>\n",
       "      <td>-73.991567</td>\n",
       "      <td>40.758092</td>\n",
       "      <td>1</td>\n",
       "    </tr>\n",
       "    <tr>\n",
       "      <th>4</th>\n",
       "      <td>2010-03-09 07:51:00.000000135</td>\n",
       "      <td>5.3</td>\n",
       "      <td>2010-03-09 07:51:00 UTC</td>\n",
       "      <td>-73.968095</td>\n",
       "      <td>40.768008</td>\n",
       "      <td>-73.956655</td>\n",
       "      <td>40.783762</td>\n",
       "      <td>1</td>\n",
       "    </tr>\n",
       "  </tbody>\n",
       "</table>\n",
       "</div>"
      ],
      "text/plain": [
       "                             key  fare_amount          pickup_datetime  \\\n",
       "0    2009-06-15 17:26:21.0000001          4.5  2009-06-15 17:26:21 UTC   \n",
       "1    2010-01-05 16:52:16.0000002         16.9  2010-01-05 16:52:16 UTC   \n",
       "2   2011-08-18 00:35:00.00000049          5.7  2011-08-18 00:35:00 UTC   \n",
       "3    2012-04-21 04:30:42.0000001          7.7  2012-04-21 04:30:42 UTC   \n",
       "4  2010-03-09 07:51:00.000000135          5.3  2010-03-09 07:51:00 UTC   \n",
       "\n",
       "   pickup_longitude  pickup_latitude  dropoff_longitude  dropoff_latitude  \\\n",
       "0        -73.844311        40.721319         -73.841610         40.712278   \n",
       "1        -74.016048        40.711303         -73.979268         40.782004   \n",
       "2        -73.982738        40.761270         -73.991242         40.750562   \n",
       "3        -73.987130        40.733143         -73.991567         40.758092   \n",
       "4        -73.968095        40.768008         -73.956655         40.783762   \n",
       "\n",
       "   passenger_count  \n",
       "0                1  \n",
       "1                1  \n",
       "2                2  \n",
       "3                1  \n",
       "4                1  "
      ]
     },
     "execution_count": 7,
     "metadata": {},
     "output_type": "execute_result"
    }
   ],
   "source": [
    "taxi.head()"
   ]
  },
  {
   "cell_type": "code",
   "execution_count": 8,
   "id": "material-banana",
   "metadata": {},
   "outputs": [
    {
     "name": "stdout",
     "output_type": "stream",
     "text": [
      "<class 'pandas.core.frame.DataFrame'>\n",
      "RangeIndex: 20000 entries, 0 to 19999\n",
      "Data columns (total 8 columns):\n",
      " #   Column             Non-Null Count  Dtype  \n",
      "---  ------             --------------  -----  \n",
      " 0   key                20000 non-null  object \n",
      " 1   fare_amount        20000 non-null  float64\n",
      " 2   pickup_datetime    20000 non-null  object \n",
      " 3   pickup_longitude   20000 non-null  float64\n",
      " 4   pickup_latitude    20000 non-null  float64\n",
      " 5   dropoff_longitude  20000 non-null  float64\n",
      " 6   dropoff_latitude   20000 non-null  float64\n",
      " 7   passenger_count    20000 non-null  int64  \n",
      "dtypes: float64(5), int64(1), object(2)\n",
      "memory usage: 1.2+ MB\n"
     ]
    }
   ],
   "source": [
    "taxi.info()"
   ]
  },
  {
   "cell_type": "code",
   "execution_count": 9,
   "id": "professional-effectiveness",
   "metadata": {},
   "outputs": [
    {
     "data": {
      "text/html": [
       "<div>\n",
       "<style scoped>\n",
       "    .dataframe tbody tr th:only-of-type {\n",
       "        vertical-align: middle;\n",
       "    }\n",
       "\n",
       "    .dataframe tbody tr th {\n",
       "        vertical-align: top;\n",
       "    }\n",
       "\n",
       "    .dataframe thead th {\n",
       "        text-align: right;\n",
       "    }\n",
       "</style>\n",
       "<table border=\"1\" class=\"dataframe\">\n",
       "  <thead>\n",
       "    <tr style=\"text-align: right;\">\n",
       "      <th></th>\n",
       "      <th>fare_amount</th>\n",
       "      <th>pickup_longitude</th>\n",
       "      <th>pickup_latitude</th>\n",
       "      <th>dropoff_longitude</th>\n",
       "      <th>dropoff_latitude</th>\n",
       "      <th>passenger_count</th>\n",
       "    </tr>\n",
       "  </thead>\n",
       "  <tbody>\n",
       "    <tr>\n",
       "      <th>count</th>\n",
       "      <td>20000.000000</td>\n",
       "      <td>20000.000000</td>\n",
       "      <td>20000.000000</td>\n",
       "      <td>20000.000000</td>\n",
       "      <td>20000.000000</td>\n",
       "      <td>20000.000000</td>\n",
       "    </tr>\n",
       "    <tr>\n",
       "      <th>mean</th>\n",
       "      <td>11.303321</td>\n",
       "      <td>-72.478584</td>\n",
       "      <td>39.921043</td>\n",
       "      <td>-72.497221</td>\n",
       "      <td>39.913606</td>\n",
       "      <td>1.658000</td>\n",
       "    </tr>\n",
       "    <tr>\n",
       "      <th>std</th>\n",
       "      <td>9.541637</td>\n",
       "      <td>10.525376</td>\n",
       "      <td>6.678592</td>\n",
       "      <td>10.460530</td>\n",
       "      <td>6.139231</td>\n",
       "      <td>1.283674</td>\n",
       "    </tr>\n",
       "    <tr>\n",
       "      <th>min</th>\n",
       "      <td>-3.000000</td>\n",
       "      <td>-74.438233</td>\n",
       "      <td>-74.006893</td>\n",
       "      <td>-84.654241</td>\n",
       "      <td>-74.006377</td>\n",
       "      <td>0.000000</td>\n",
       "    </tr>\n",
       "    <tr>\n",
       "      <th>25%</th>\n",
       "      <td>6.000000</td>\n",
       "      <td>-73.992150</td>\n",
       "      <td>40.734706</td>\n",
       "      <td>-73.991224</td>\n",
       "      <td>40.734537</td>\n",
       "      <td>1.000000</td>\n",
       "    </tr>\n",
       "    <tr>\n",
       "      <th>50%</th>\n",
       "      <td>8.500000</td>\n",
       "      <td>-73.981711</td>\n",
       "      <td>40.752680</td>\n",
       "      <td>-73.980216</td>\n",
       "      <td>40.753583</td>\n",
       "      <td>1.000000</td>\n",
       "    </tr>\n",
       "    <tr>\n",
       "      <th>75%</th>\n",
       "      <td>12.500000</td>\n",
       "      <td>-73.966802</td>\n",
       "      <td>40.767443</td>\n",
       "      <td>-73.963729</td>\n",
       "      <td>40.768135</td>\n",
       "      <td>2.000000</td>\n",
       "    </tr>\n",
       "    <tr>\n",
       "      <th>max</th>\n",
       "      <td>180.000000</td>\n",
       "      <td>40.766125</td>\n",
       "      <td>401.083332</td>\n",
       "      <td>40.802437</td>\n",
       "      <td>41.366138</td>\n",
       "      <td>6.000000</td>\n",
       "    </tr>\n",
       "  </tbody>\n",
       "</table>\n",
       "</div>"
      ],
      "text/plain": [
       "        fare_amount  pickup_longitude  pickup_latitude  dropoff_longitude  \\\n",
       "count  20000.000000      20000.000000     20000.000000       20000.000000   \n",
       "mean      11.303321        -72.478584        39.921043         -72.497221   \n",
       "std        9.541637         10.525376         6.678592          10.460530   \n",
       "min       -3.000000        -74.438233       -74.006893         -84.654241   \n",
       "25%        6.000000        -73.992150        40.734706         -73.991224   \n",
       "50%        8.500000        -73.981711        40.752680         -73.980216   \n",
       "75%       12.500000        -73.966802        40.767443         -73.963729   \n",
       "max      180.000000         40.766125       401.083332          40.802437   \n",
       "\n",
       "       dropoff_latitude  passenger_count  \n",
       "count      20000.000000     20000.000000  \n",
       "mean          39.913606         1.658000  \n",
       "std            6.139231         1.283674  \n",
       "min          -74.006377         0.000000  \n",
       "25%           40.734537         1.000000  \n",
       "50%           40.753583         1.000000  \n",
       "75%           40.768135         2.000000  \n",
       "max           41.366138         6.000000  "
      ]
     },
     "execution_count": 9,
     "metadata": {},
     "output_type": "execute_result"
    }
   ],
   "source": [
    "taxi.describe()"
   ]
  },
  {
   "cell_type": "markdown",
   "id": "hearing-steering",
   "metadata": {},
   "source": [
    "Each row represents one taxi ride. There are 6 attributes: \n",
    "`pickup_datetime`, `pickup_longitude`, `pickup_latitude`, `dropoff_longitude`, `dropoff_latitude` and `passenger_count`.\n",
    "\n",
    "All attributes are numerical except `key` and `pickup_datetime` which are objects. As its name indicates it, `pickup_datetime` represents a date. "
   ]
  },
  {
   "cell_type": "markdown",
   "id": "chronic-monster",
   "metadata": {},
   "source": [
    "#### % of missing values"
   ]
  },
  {
   "cell_type": "code",
   "execution_count": 10,
   "id": "satisfied-honor",
   "metadata": {},
   "outputs": [
    {
     "data": {
      "text/plain": [
       "key                  0\n",
       "fare_amount          0\n",
       "pickup_datetime      0\n",
       "pickup_longitude     0\n",
       "pickup_latitude      0\n",
       "dropoff_longitude    0\n",
       "dropoff_latitude     0\n",
       "passenger_count      0\n",
       "dtype: int64"
      ]
     },
     "execution_count": 10,
     "metadata": {},
     "output_type": "execute_result"
    }
   ],
   "source": [
    "taxi.isna().sum()"
   ]
  },
  {
   "cell_type": "code",
   "execution_count": 11,
   "id": "initial-composite",
   "metadata": {},
   "outputs": [
    {
     "data": {
      "text/plain": [
       "((20000, 8), (20000, 8))"
      ]
     },
     "execution_count": 11,
     "metadata": {},
     "output_type": "execute_result"
    }
   ],
   "source": [
    "taxi_origin.shape, taxi.shape"
   ]
  },
  {
   "cell_type": "markdown",
   "id": "sporting-louisville",
   "metadata": {},
   "source": [
    "We notice that none of the attributes has null values except dropoff gps coordonates."
   ]
  },
  {
   "cell_type": "code",
   "execution_count": 12,
   "id": "greatest-cemetery",
   "metadata": {},
   "outputs": [],
   "source": [
    "taxi = taxi.dropna(how = 'any', axis = 'rows')"
   ]
  },
  {
   "cell_type": "code",
   "execution_count": 13,
   "id": "dated-commons",
   "metadata": {},
   "outputs": [
    {
     "data": {
      "text/plain": [
       "key                  0\n",
       "fare_amount          0\n",
       "pickup_datetime      0\n",
       "pickup_longitude     0\n",
       "pickup_latitude      0\n",
       "dropoff_longitude    0\n",
       "dropoff_latitude     0\n",
       "passenger_count      0\n",
       "dtype: int64"
      ]
     },
     "execution_count": 13,
     "metadata": {},
     "output_type": "execute_result"
    }
   ],
   "source": [
    "taxi.isna().sum()"
   ]
  },
  {
   "cell_type": "markdown",
   "id": "maritime-brief",
   "metadata": {},
   "source": [
    "#### Identifying the target attribute\n",
    "\n",
    "**fare_amount** - float dollar amount of the cost of the taxi ride. This value is only in the training set and this is what we are predicting in the test set."
   ]
  },
  {
   "cell_type": "markdown",
   "id": "developed-mobility",
   "metadata": {},
   "source": [
    "#### Visualizing the Data"
   ]
  },
  {
   "cell_type": "code",
   "execution_count": 14,
   "id": "valued-analysis",
   "metadata": {},
   "outputs": [
    {
     "data": {
      "text/plain": [
       "0    2009-06-15 17:26:21 UTC\n",
       "1    2010-01-05 16:52:16 UTC\n",
       "2    2011-08-18 00:35:00 UTC\n",
       "3    2012-04-21 04:30:42 UTC\n",
       "4    2010-03-09 07:51:00 UTC\n",
       "5    2011-01-06 09:50:45 UTC\n",
       "6    2012-11-20 20:35:00 UTC\n",
       "7    2012-01-04 17:22:00 UTC\n",
       "8    2012-12-03 13:10:00 UTC\n",
       "9    2009-09-02 01:11:00 UTC\n",
       "Name: pickup_datetime, dtype: object"
      ]
     },
     "execution_count": 14,
     "metadata": {},
     "output_type": "execute_result"
    }
   ],
   "source": [
    "taxi.pickup_datetime[:10]"
   ]
  },
  {
   "cell_type": "code",
   "execution_count": 15,
   "id": "amazing-slave",
   "metadata": {},
   "outputs": [
    {
     "data": {
      "image/png": "[encoded data removed]",
      "text/plain": [
       "<Figure size 432x288 with 1 Axes>"
      ]
     },
     "metadata": {
      "needs_background": "light"
     },
     "output_type": "display_data"
    }
   ],
   "source": [
    "fig, ax = plt.subplots()\n",
    "ax.scatter(taxi[\"pickup_datetime\"][:1000], taxi[\"fare_amount\"][:1000]);"
   ]
  },
  {
   "cell_type": "code",
   "execution_count": 16,
   "id": "collect-eleven",
   "metadata": {},
   "outputs": [
    {
     "data": {
      "image/png": "[encoded data removed]",
      "text/plain": [
       "<Figure size 432x288 with 1 Axes>"
      ]
     },
     "metadata": {
      "needs_background": "light"
     },
     "output_type": "display_data"
    }
   ],
   "source": [
    "taxi.fare_amount.plot.hist();"
   ]
  },
  {
   "cell_type": "code",
   "execution_count": 17,
   "id": "imposed-breeding",
   "metadata": {},
   "outputs": [
    {
     "data": {
      "text/plain": [
       "1    13999\n",
       "2     2912\n",
       "5     1327\n",
       "3      860\n",
       "4      420\n",
       "6      407\n",
       "0       75\n",
       "Name: passenger_count, dtype: int64"
      ]
     },
     "execution_count": 17,
     "metadata": {},
     "output_type": "execute_result"
    }
   ],
   "source": [
    "taxi.passenger_count.value_counts()"
   ]
  },
  {
   "cell_type": "code",
   "execution_count": 18,
   "id": "chronic-convergence",
   "metadata": {},
   "outputs": [
    {
     "data": {
      "image/png": "[encoded data removed]",
      "text/plain": [
       "<Figure size 432x288 with 1 Axes>"
      ]
     },
     "metadata": {
      "needs_background": "light"
     },
     "output_type": "display_data"
    }
   ],
   "source": [
    "taxi.passenger_count.plot.hist();"
   ]
  },
  {
   "cell_type": "markdown",
   "id": "informal-biodiversity",
   "metadata": {},
   "source": [
    "#### Visualizing Geographical Data\n",
    "\n",
    "Since there is geographical information (latitude, longitude), we'll plot the data of all races."
   ]
  },
  {
   "cell_type": "code",
   "execution_count": 19,
   "id": "passive-basis",
   "metadata": {},
   "outputs": [
    {
     "data": {
      "image/png": "[encoded data removed]",
      "text/plain": [
       "<Figure size 432x288 with 1 Axes>"
      ]
     },
     "metadata": {
      "needs_background": "light"
     },
     "output_type": "display_data"
    }
   ],
   "source": [
    "taxi.plot(kind=\"scatter\", x=\"pickup_longitude\", y=\"pickup_latitude\", alpha=0.1);"
   ]
  },
  {
   "cell_type": "code",
   "execution_count": 20,
   "id": "statistical-alfred",
   "metadata": {},
   "outputs": [
    {
     "data": {
      "image/png": "[encoded data removed]",
      "text/plain": [
       "<Figure size 432x288 with 1 Axes>"
      ]
     },
     "metadata": {
      "needs_background": "light"
     },
     "output_type": "display_data"
    }
   ],
   "source": [
    "taxi.plot(kind=\"scatter\", x=\"dropoff_longitude\", y=\"dropoff_latitude\", alpha=0.1);"
   ]
  },
  {
   "cell_type": "markdown",
   "id": "excess-closure",
   "metadata": {},
   "source": [
    "It seems that there is a lot of races in Spain."
   ]
  },
  {
   "cell_type": "markdown",
   "id": "harmful-alert",
   "metadata": {},
   "source": [
    "#### Studying the correlations between attributes"
   ]
  },
  {
   "cell_type": "code",
   "execution_count": null,
   "id": "exceptional-oracle",
   "metadata": {},
   "outputs": [],
   "source": []
  },
  {
   "cell_type": "markdown",
   "id": "medium-amount",
   "metadata": {},
   "source": [
    "#### Parsing dates\n",
    "\n",
    "As we are working with time series data, we want to enrich the time and date component as much as possible."
   ]
  },
  {
   "cell_type": "code",
   "execution_count": 21,
   "id": "characteristic-samba",
   "metadata": {},
   "outputs": [],
   "source": [
    "# We import the data again but we parse dates\n",
    "taxi = pd.read_csv(\"datasets/new-york-city-taxi/train.csv\", nrows=NB_ROWS,\n",
    "                  low_memory=False,\n",
    "                  parse_dates=[\"pickup_datetime\"])"
   ]
  },
  {
   "cell_type": "code",
   "execution_count": 22,
   "id": "modified-century",
   "metadata": {},
   "outputs": [
    {
     "data": {
      "text/plain": [
       "datetime64[ns, UTC]"
      ]
     },
     "execution_count": 22,
     "metadata": {},
     "output_type": "execute_result"
    }
   ],
   "source": [
    "taxi.pickup_datetime.dtype"
   ]
  },
  {
   "cell_type": "code",
   "execution_count": 23,
   "id": "fewer-drinking",
   "metadata": {},
   "outputs": [
    {
     "data": {
      "text/plain": [
       "0   2009-06-15 17:26:21+00:00\n",
       "1   2010-01-05 16:52:16+00:00\n",
       "2   2011-08-18 00:35:00+00:00\n",
       "3   2012-04-21 04:30:42+00:00\n",
       "4   2010-03-09 07:51:00+00:00\n",
       "5   2011-01-06 09:50:45+00:00\n",
       "6   2012-11-20 20:35:00+00:00\n",
       "7   2012-01-04 17:22:00+00:00\n",
       "8   2012-12-03 13:10:00+00:00\n",
       "9   2009-09-02 01:11:00+00:00\n",
       "Name: pickup_datetime, dtype: datetime64[ns, UTC]"
      ]
     },
     "execution_count": 23,
     "metadata": {},
     "output_type": "execute_result"
    }
   ],
   "source": [
    "taxi.pickup_datetime[:10]"
   ]
  },
  {
   "cell_type": "code",
   "execution_count": 24,
   "id": "international-candle",
   "metadata": {},
   "outputs": [
    {
     "data": {
      "image/png": "[encoded data removed]",
      "text/plain": [
       "<Figure size 432x288 with 1 Axes>"
      ]
     },
     "metadata": {
      "needs_background": "light"
     },
     "output_type": "display_data"
    }
   ],
   "source": [
    "fig, ax = plt.subplots()\n",
    "ax.scatter(taxi[\"pickup_datetime\"][:1000], taxi[\"fare_amount\"][:1000]);"
   ]
  },
  {
   "cell_type": "code",
   "execution_count": 25,
   "id": "divided-money",
   "metadata": {},
   "outputs": [
    {
     "data": {
      "text/html": [
       "<div>\n",
       "<style scoped>\n",
       "    .dataframe tbody tr th:only-of-type {\n",
       "        vertical-align: middle;\n",
       "    }\n",
       "\n",
       "    .dataframe tbody tr th {\n",
       "        vertical-align: top;\n",
       "    }\n",
       "\n",
       "    .dataframe thead th {\n",
       "        text-align: right;\n",
       "    }\n",
       "</style>\n",
       "<table border=\"1\" class=\"dataframe\">\n",
       "  <thead>\n",
       "    <tr style=\"text-align: right;\">\n",
       "      <th></th>\n",
       "      <th>key</th>\n",
       "      <th>fare_amount</th>\n",
       "      <th>pickup_datetime</th>\n",
       "      <th>pickup_longitude</th>\n",
       "      <th>pickup_latitude</th>\n",
       "      <th>dropoff_longitude</th>\n",
       "      <th>dropoff_latitude</th>\n",
       "      <th>passenger_count</th>\n",
       "    </tr>\n",
       "  </thead>\n",
       "  <tbody>\n",
       "    <tr>\n",
       "      <th>0</th>\n",
       "      <td>2009-06-15 17:26:21.0000001</td>\n",
       "      <td>4.5</td>\n",
       "      <td>2009-06-15 17:26:21+00:00</td>\n",
       "      <td>-73.844311</td>\n",
       "      <td>40.721319</td>\n",
       "      <td>-73.841610</td>\n",
       "      <td>40.712278</td>\n",
       "      <td>1</td>\n",
       "    </tr>\n",
       "    <tr>\n",
       "      <th>1</th>\n",
       "      <td>2010-01-05 16:52:16.0000002</td>\n",
       "      <td>16.9</td>\n",
       "      <td>2010-01-05 16:52:16+00:00</td>\n",
       "      <td>-74.016048</td>\n",
       "      <td>40.711303</td>\n",
       "      <td>-73.979268</td>\n",
       "      <td>40.782004</td>\n",
       "      <td>1</td>\n",
       "    </tr>\n",
       "    <tr>\n",
       "      <th>2</th>\n",
       "      <td>2011-08-18 00:35:00.00000049</td>\n",
       "      <td>5.7</td>\n",
       "      <td>2011-08-18 00:35:00+00:00</td>\n",
       "      <td>-73.982738</td>\n",
       "      <td>40.761270</td>\n",
       "      <td>-73.991242</td>\n",
       "      <td>40.750562</td>\n",
       "      <td>2</td>\n",
       "    </tr>\n",
       "    <tr>\n",
       "      <th>3</th>\n",
       "      <td>2012-04-21 04:30:42.0000001</td>\n",
       "      <td>7.7</td>\n",
       "      <td>2012-04-21 04:30:42+00:00</td>\n",
       "      <td>-73.987130</td>\n",
       "      <td>40.733143</td>\n",
       "      <td>-73.991567</td>\n",
       "      <td>40.758092</td>\n",
       "      <td>1</td>\n",
       "    </tr>\n",
       "    <tr>\n",
       "      <th>4</th>\n",
       "      <td>2010-03-09 07:51:00.000000135</td>\n",
       "      <td>5.3</td>\n",
       "      <td>2010-03-09 07:51:00+00:00</td>\n",
       "      <td>-73.968095</td>\n",
       "      <td>40.768008</td>\n",
       "      <td>-73.956655</td>\n",
       "      <td>40.783762</td>\n",
       "      <td>1</td>\n",
       "    </tr>\n",
       "  </tbody>\n",
       "</table>\n",
       "</div>"
      ],
      "text/plain": [
       "                             key  fare_amount           pickup_datetime  \\\n",
       "0    2009-06-15 17:26:21.0000001          4.5 2009-06-15 17:26:21+00:00   \n",
       "1    2010-01-05 16:52:16.0000002         16.9 2010-01-05 16:52:16+00:00   \n",
       "2   2011-08-18 00:35:00.00000049          5.7 2011-08-18 00:35:00+00:00   \n",
       "3    2012-04-21 04:30:42.0000001          7.7 2012-04-21 04:30:42+00:00   \n",
       "4  2010-03-09 07:51:00.000000135          5.3 2010-03-09 07:51:00+00:00   \n",
       "\n",
       "   pickup_longitude  pickup_latitude  dropoff_longitude  dropoff_latitude  \\\n",
       "0        -73.844311        40.721319         -73.841610         40.712278   \n",
       "1        -74.016048        40.711303         -73.979268         40.782004   \n",
       "2        -73.982738        40.761270         -73.991242         40.750562   \n",
       "3        -73.987130        40.733143         -73.991567         40.758092   \n",
       "4        -73.968095        40.768008         -73.956655         40.783762   \n",
       "\n",
       "   passenger_count  \n",
       "0                1  \n",
       "1                1  \n",
       "2                2  \n",
       "3                1  \n",
       "4                1  "
      ]
     },
     "execution_count": 25,
     "metadata": {},
     "output_type": "execute_result"
    }
   ],
   "source": [
    "taxi.head()"
   ]
  },
  {
   "cell_type": "code",
   "execution_count": 26,
   "id": "amino-carrier",
   "metadata": {},
   "outputs": [
    {
     "data": {
      "text/html": [
       "<div>\n",
       "<style scoped>\n",
       "    .dataframe tbody tr th:only-of-type {\n",
       "        vertical-align: middle;\n",
       "    }\n",
       "\n",
       "    .dataframe tbody tr th {\n",
       "        vertical-align: top;\n",
       "    }\n",
       "\n",
       "    .dataframe thead th {\n",
       "        text-align: right;\n",
       "    }\n",
       "</style>\n",
       "<table border=\"1\" class=\"dataframe\">\n",
       "  <thead>\n",
       "    <tr style=\"text-align: right;\">\n",
       "      <th></th>\n",
       "      <th>0</th>\n",
       "      <th>1</th>\n",
       "      <th>2</th>\n",
       "      <th>3</th>\n",
       "      <th>4</th>\n",
       "    </tr>\n",
       "  </thead>\n",
       "  <tbody>\n",
       "    <tr>\n",
       "      <th>key</th>\n",
       "      <td>2009-06-15 17:26:21.0000001</td>\n",
       "      <td>2010-01-05 16:52:16.0000002</td>\n",
       "      <td>2011-08-18 00:35:00.00000049</td>\n",
       "      <td>2012-04-21 04:30:42.0000001</td>\n",
       "      <td>2010-03-09 07:51:00.000000135</td>\n",
       "    </tr>\n",
       "    <tr>\n",
       "      <th>fare_amount</th>\n",
       "      <td>4.500000</td>\n",
       "      <td>16.900000</td>\n",
       "      <td>5.700000</td>\n",
       "      <td>7.700000</td>\n",
       "      <td>5.300000</td>\n",
       "    </tr>\n",
       "    <tr>\n",
       "      <th>pickup_datetime</th>\n",
       "      <td>2009-06-15 17:26:21+00:00</td>\n",
       "      <td>2010-01-05 16:52:16+00:00</td>\n",
       "      <td>2011-08-18 00:35:00+00:00</td>\n",
       "      <td>2012-04-21 04:30:42+00:00</td>\n",
       "      <td>2010-03-09 07:51:00+00:00</td>\n",
       "    </tr>\n",
       "    <tr>\n",
       "      <th>pickup_longitude</th>\n",
       "      <td>-73.844311</td>\n",
       "      <td>-74.016048</td>\n",
       "      <td>-73.982738</td>\n",
       "      <td>-73.987130</td>\n",
       "      <td>-73.968095</td>\n",
       "    </tr>\n",
       "    <tr>\n",
       "      <th>pickup_latitude</th>\n",
       "      <td>40.721319</td>\n",
       "      <td>40.711303</td>\n",
       "      <td>40.761270</td>\n",
       "      <td>40.733143</td>\n",
       "      <td>40.768008</td>\n",
       "    </tr>\n",
       "    <tr>\n",
       "      <th>dropoff_longitude</th>\n",
       "      <td>-73.841610</td>\n",
       "      <td>-73.979268</td>\n",
       "      <td>-73.991242</td>\n",
       "      <td>-73.991567</td>\n",
       "      <td>-73.956655</td>\n",
       "    </tr>\n",
       "    <tr>\n",
       "      <th>dropoff_latitude</th>\n",
       "      <td>40.712278</td>\n",
       "      <td>40.782004</td>\n",
       "      <td>40.750562</td>\n",
       "      <td>40.758092</td>\n",
       "      <td>40.783762</td>\n",
       "    </tr>\n",
       "    <tr>\n",
       "      <th>passenger_count</th>\n",
       "      <td>1</td>\n",
       "      <td>1</td>\n",
       "      <td>2</td>\n",
       "      <td>1</td>\n",
       "      <td>1</td>\n",
       "    </tr>\n",
       "  </tbody>\n",
       "</table>\n",
       "</div>"
      ],
      "text/plain": [
       "                                             0                            1  \\\n",
       "key                2009-06-15 17:26:21.0000001  2010-01-05 16:52:16.0000002   \n",
       "fare_amount                           4.500000                    16.900000   \n",
       "pickup_datetime      2009-06-15 17:26:21+00:00    2010-01-05 16:52:16+00:00   \n",
       "pickup_longitude                    -73.844311                   -74.016048   \n",
       "pickup_latitude                      40.721319                    40.711303   \n",
       "dropoff_longitude                   -73.841610                   -73.979268   \n",
       "dropoff_latitude                     40.712278                    40.782004   \n",
       "passenger_count                              1                            1   \n",
       "\n",
       "                                              2                            3  \\\n",
       "key                2011-08-18 00:35:00.00000049  2012-04-21 04:30:42.0000001   \n",
       "fare_amount                            5.700000                     7.700000   \n",
       "pickup_datetime       2011-08-18 00:35:00+00:00    2012-04-21 04:30:42+00:00   \n",
       "pickup_longitude                     -73.982738                   -73.987130   \n",
       "pickup_latitude                       40.761270                    40.733143   \n",
       "dropoff_longitude                    -73.991242                   -73.991567   \n",
       "dropoff_latitude                      40.750562                    40.758092   \n",
       "passenger_count                               2                            1   \n",
       "\n",
       "                                               4  \n",
       "key                2010-03-09 07:51:00.000000135  \n",
       "fare_amount                             5.300000  \n",
       "pickup_datetime        2010-03-09 07:51:00+00:00  \n",
       "pickup_longitude                      -73.968095  \n",
       "pickup_latitude                        40.768008  \n",
       "dropoff_longitude                     -73.956655  \n",
       "dropoff_latitude                       40.783762  \n",
       "passenger_count                                1  "
      ]
     },
     "execution_count": 26,
     "metadata": {},
     "output_type": "execute_result"
    }
   ],
   "source": [
    "taxi.head().T"
   ]
  },
  {
   "cell_type": "code",
   "execution_count": 27,
   "id": "particular-capital",
   "metadata": {},
   "outputs": [
    {
     "data": {
      "text/plain": [
       "12739   2009-01-01 01:31:49+00:00\n",
       "17546   2009-01-01 02:05:37+00:00\n",
       "8684    2009-01-01 02:51:52+00:00\n",
       "11623   2009-01-01 15:19:00+00:00\n",
       "10004   2009-01-01 16:52:00+00:00\n",
       "7756    2009-01-01 17:07:00+00:00\n",
       "13904   2009-01-01 19:57:19+00:00\n",
       "16313   2009-01-01 22:40:03+00:00\n",
       "2354    2009-01-02 02:32:41+00:00\n",
       "7704    2009-01-02 06:35:00+00:00\n",
       "Name: pickup_datetime, dtype: datetime64[ns, UTC]"
      ]
     },
     "execution_count": 27,
     "metadata": {},
     "output_type": "execute_result"
    }
   ],
   "source": [
    "# Sort DataFrame in date order\n",
    "taxi.sort_values(by=[\"pickup_datetime\"], inplace=True, ascending=True)\n",
    "taxi.pickup_datetime.head(10)"
   ]
  },
  {
   "cell_type": "code",
   "execution_count": 28,
   "id": "framed-shadow",
   "metadata": {},
   "outputs": [
    {
     "data": {
      "text/plain": [
       "12739    2009\n",
       "Name: pickup_datetime, dtype: int64"
      ]
     },
     "execution_count": 28,
     "metadata": {},
     "output_type": "execute_result"
    }
   ],
   "source": [
    "# Add datetime parameters for pickup_datetime column\n",
    "taxi[:1].pickup_datetime.dt.year"
   ]
  },
  {
   "cell_type": "code",
   "execution_count": 29,
   "id": "brazilian-objective",
   "metadata": {},
   "outputs": [
    {
     "data": {
      "text/plain": [
       "12739    1\n",
       "Name: pickup_datetime, dtype: int64"
      ]
     },
     "execution_count": 29,
     "metadata": {},
     "output_type": "execute_result"
    }
   ],
   "source": [
    "taxi[:1].pickup_datetime.dt.day"
   ]
  },
  {
   "cell_type": "code",
   "execution_count": 30,
   "id": "attempted-pennsylvania",
   "metadata": {},
   "outputs": [],
   "source": [
    "taxi[\"pickupYear\"] = taxi.pickup_datetime.dt.year\n",
    "taxi[\"pickupMonth\"] = taxi.pickup_datetime.dt.month\n",
    "taxi[\"pickupDay\"] = taxi.pickup_datetime.dt.day\n",
    "taxi[\"pickupDayOfWeek\"] = taxi.pickup_datetime.dt.dayofweek\n",
    "taxi[\"pickupDayOfYear\"] = taxi.pickup_datetime.dt.dayofyear"
   ]
  },
  {
   "cell_type": "code",
   "execution_count": 31,
   "id": "joined-medium",
   "metadata": {},
   "outputs": [
    {
     "data": {
      "text/html": [
       "<div>\n",
       "<style scoped>\n",
       "    .dataframe tbody tr th:only-of-type {\n",
       "        vertical-align: middle;\n",
       "    }\n",
       "\n",
       "    .dataframe tbody tr th {\n",
       "        vertical-align: top;\n",
       "    }\n",
       "\n",
       "    .dataframe thead th {\n",
       "        text-align: right;\n",
       "    }\n",
       "</style>\n",
       "<table border=\"1\" class=\"dataframe\">\n",
       "  <thead>\n",
       "    <tr style=\"text-align: right;\">\n",
       "      <th></th>\n",
       "      <th>12739</th>\n",
       "      <th>17546</th>\n",
       "      <th>8684</th>\n",
       "      <th>11623</th>\n",
       "      <th>10004</th>\n",
       "    </tr>\n",
       "  </thead>\n",
       "  <tbody>\n",
       "    <tr>\n",
       "      <th>key</th>\n",
       "      <td>2009-01-01 01:31:49.0000003</td>\n",
       "      <td>2009-01-01 02:05:37.0000004</td>\n",
       "      <td>2009-01-01 02:51:52.0000002</td>\n",
       "      <td>2009-01-01 15:19:00.000000146</td>\n",
       "      <td>2009-01-01 16:52:00.00000053</td>\n",
       "    </tr>\n",
       "    <tr>\n",
       "      <th>fare_amount</th>\n",
       "      <td>8.600000</td>\n",
       "      <td>11.000000</td>\n",
       "      <td>10.200000</td>\n",
       "      <td>5.300000</td>\n",
       "      <td>8.500000</td>\n",
       "    </tr>\n",
       "    <tr>\n",
       "      <th>pickup_datetime</th>\n",
       "      <td>2009-01-01 01:31:49+00:00</td>\n",
       "      <td>2009-01-01 02:05:37+00:00</td>\n",
       "      <td>2009-01-01 02:51:52+00:00</td>\n",
       "      <td>2009-01-01 15:19:00+00:00</td>\n",
       "      <td>2009-01-01 16:52:00+00:00</td>\n",
       "    </tr>\n",
       "    <tr>\n",
       "      <th>pickup_longitude</th>\n",
       "      <td>-73.994192</td>\n",
       "      <td>-73.978433</td>\n",
       "      <td>-73.956172</td>\n",
       "      <td>-73.949937</td>\n",
       "      <td>-73.967647</td>\n",
       "    </tr>\n",
       "    <tr>\n",
       "      <th>pickup_latitude</th>\n",
       "      <td>40.720077</td>\n",
       "      <td>40.744781</td>\n",
       "      <td>40.771965</td>\n",
       "      <td>40.784427</td>\n",
       "      <td>40.763077</td>\n",
       "    </tr>\n",
       "    <tr>\n",
       "      <th>dropoff_longitude</th>\n",
       "      <td>-73.993356</td>\n",
       "      <td>-74.004713</td>\n",
       "      <td>-73.991027</td>\n",
       "      <td>-73.948735</td>\n",
       "      <td>-73.977438</td>\n",
       "    </tr>\n",
       "    <tr>\n",
       "      <th>dropoff_latitude</th>\n",
       "      <td>40.742642</td>\n",
       "      <td>40.734328</td>\n",
       "      <td>40.751035</td>\n",
       "      <td>40.773738</td>\n",
       "      <td>40.787097</td>\n",
       "    </tr>\n",
       "    <tr>\n",
       "      <th>passenger_count</th>\n",
       "      <td>1</td>\n",
       "      <td>1</td>\n",
       "      <td>2</td>\n",
       "      <td>5</td>\n",
       "      <td>2</td>\n",
       "    </tr>\n",
       "    <tr>\n",
       "      <th>pickupYear</th>\n",
       "      <td>2009</td>\n",
       "      <td>2009</td>\n",
       "      <td>2009</td>\n",
       "      <td>2009</td>\n",
       "      <td>2009</td>\n",
       "    </tr>\n",
       "    <tr>\n",
       "      <th>pickupMonth</th>\n",
       "      <td>1</td>\n",
       "      <td>1</td>\n",
       "      <td>1</td>\n",
       "      <td>1</td>\n",
       "      <td>1</td>\n",
       "    </tr>\n",
       "    <tr>\n",
       "      <th>pickupDay</th>\n",
       "      <td>1</td>\n",
       "      <td>1</td>\n",
       "      <td>1</td>\n",
       "      <td>1</td>\n",
       "      <td>1</td>\n",
       "    </tr>\n",
       "    <tr>\n",
       "      <th>pickupDayOfWeek</th>\n",
       "      <td>3</td>\n",
       "      <td>3</td>\n",
       "      <td>3</td>\n",
       "      <td>3</td>\n",
       "      <td>3</td>\n",
       "    </tr>\n",
       "    <tr>\n",
       "      <th>pickupDayOfYear</th>\n",
       "      <td>1</td>\n",
       "      <td>1</td>\n",
       "      <td>1</td>\n",
       "      <td>1</td>\n",
       "      <td>1</td>\n",
       "    </tr>\n",
       "  </tbody>\n",
       "</table>\n",
       "</div>"
      ],
      "text/plain": [
       "                                         12739                        17546  \\\n",
       "key                2009-01-01 01:31:49.0000003  2009-01-01 02:05:37.0000004   \n",
       "fare_amount                           8.600000                    11.000000   \n",
       "pickup_datetime      2009-01-01 01:31:49+00:00    2009-01-01 02:05:37+00:00   \n",
       "pickup_longitude                    -73.994192                   -73.978433   \n",
       "pickup_latitude                      40.720077                    40.744781   \n",
       "dropoff_longitude                   -73.993356                   -74.004713   \n",
       "dropoff_latitude                     40.742642                    40.734328   \n",
       "passenger_count                              1                            1   \n",
       "pickupYear                                2009                         2009   \n",
       "pickupMonth                                  1                            1   \n",
       "pickupDay                                    1                            1   \n",
       "pickupDayOfWeek                              3                            3   \n",
       "pickupDayOfYear                              1                            1   \n",
       "\n",
       "                                         8684                           11623  \\\n",
       "key                2009-01-01 02:51:52.0000002  2009-01-01 15:19:00.000000146   \n",
       "fare_amount                          10.200000                       5.300000   \n",
       "pickup_datetime      2009-01-01 02:51:52+00:00      2009-01-01 15:19:00+00:00   \n",
       "pickup_longitude                    -73.956172                     -73.949937   \n",
       "pickup_latitude                      40.771965                      40.784427   \n",
       "dropoff_longitude                   -73.991027                     -73.948735   \n",
       "dropoff_latitude                     40.751035                      40.773738   \n",
       "passenger_count                              2                              5   \n",
       "pickupYear                                2009                           2009   \n",
       "pickupMonth                                  1                              1   \n",
       "pickupDay                                    1                              1   \n",
       "pickupDayOfWeek                              3                              3   \n",
       "pickupDayOfYear                              1                              1   \n",
       "\n",
       "                                          10004  \n",
       "key                2009-01-01 16:52:00.00000053  \n",
       "fare_amount                            8.500000  \n",
       "pickup_datetime       2009-01-01 16:52:00+00:00  \n",
       "pickup_longitude                     -73.967647  \n",
       "pickup_latitude                       40.763077  \n",
       "dropoff_longitude                    -73.977438  \n",
       "dropoff_latitude                      40.787097  \n",
       "passenger_count                               2  \n",
       "pickupYear                                 2009  \n",
       "pickupMonth                                   1  \n",
       "pickupDay                                     1  \n",
       "pickupDayOfWeek                               3  \n",
       "pickupDayOfYear                               1  "
      ]
     },
     "execution_count": 31,
     "metadata": {},
     "output_type": "execute_result"
    }
   ],
   "source": [
    "taxi.head().T"
   ]
  },
  {
   "cell_type": "code",
   "execution_count": 32,
   "id": "seeing-manchester",
   "metadata": {},
   "outputs": [],
   "source": [
    "taxi.drop(\"pickup_datetime\", axis=1, inplace=True)"
   ]
  },
  {
   "cell_type": "markdown",
   "id": "continuous-berry",
   "metadata": {},
   "source": [
    "## 5. Modeling\n",
    "\n",
    "We've done some EDA. Let's start to do some **model-driven EDA**."
   ]
  },
  {
   "cell_type": "code",
   "execution_count": 33,
   "id": "dominant-groove",
   "metadata": {},
   "outputs": [
    {
     "ename": "ValueError",
     "evalue": "could not convert string to float: '2009-01-01 01:31:49.0000003'",
     "output_type": "error",
     "traceback": [
      "\u001b[0;31m---------------------------------------------------------------------------\u001b[0m",
      "\u001b[0;31mValueError\u001b[0m                                Traceback (most recent call last)",
      "\u001b[0;32m<ipython-input-33-183160b6a8bb>\u001b[0m in \u001b[0;36m<module>\u001b[0;34m\u001b[0m\n\u001b[1;32m      2\u001b[0m model = RandomForestRegressor(n_jobs=1,\n\u001b[1;32m      3\u001b[0m                              random_state=42)\n\u001b[0;32m----> 4\u001b[0;31m \u001b[0mmodel\u001b[0m\u001b[0;34m.\u001b[0m\u001b[0mfit\u001b[0m\u001b[0;34m(\u001b[0m\u001b[0mtaxi\u001b[0m\u001b[0;34m.\u001b[0m\u001b[0mdrop\u001b[0m\u001b[0;34m(\u001b[0m\u001b[0;34m[\u001b[0m\u001b[0;34m\"fare_amount\"\u001b[0m\u001b[0;34m]\u001b[0m\u001b[0;34m,\u001b[0m \u001b[0maxis\u001b[0m\u001b[0;34m=\u001b[0m\u001b[0;36m1\u001b[0m\u001b[0;34m)\u001b[0m\u001b[0;34m,\u001b[0m \u001b[0mtaxi\u001b[0m\u001b[0;34m[\u001b[0m\u001b[0;34m\"fare_amount\"\u001b[0m\u001b[0;34m]\u001b[0m\u001b[0;34m)\u001b[0m\u001b[0;34m\u001b[0m\u001b[0;34m\u001b[0m\u001b[0m\n\u001b[0m",
      "\u001b[0;32m~/opt/miniconda3/envs/myenv/lib/python3.8/site-packages/sklearn/ensemble/_forest.py\u001b[0m in \u001b[0;36mfit\u001b[0;34m(self, X, y, sample_weight)\u001b[0m\n\u001b[1;32m    301\u001b[0m                 \u001b[0;34m\"sparse multilabel-indicator for y is not supported.\"\u001b[0m\u001b[0;34m\u001b[0m\u001b[0;34m\u001b[0m\u001b[0m\n\u001b[1;32m    302\u001b[0m             )\n\u001b[0;32m--> 303\u001b[0;31m         X, y = self._validate_data(X, y, multi_output=True,\n\u001b[0m\u001b[1;32m    304\u001b[0m                                    accept_sparse=\"csc\", dtype=DTYPE)\n\u001b[1;32m    305\u001b[0m         \u001b[0;32mif\u001b[0m \u001b[0msample_weight\u001b[0m \u001b[0;32mis\u001b[0m \u001b[0;32mnot\u001b[0m \u001b[0;32mNone\u001b[0m\u001b[0;34m:\u001b[0m\u001b[0;34m\u001b[0m\u001b[0;34m\u001b[0m\u001b[0m\n",
      "\u001b[0;32m~/opt/miniconda3/envs/myenv/lib/python3.8/site-packages/sklearn/base.py\u001b[0m in \u001b[0;36m_validate_data\u001b[0;34m(self, X, y, reset, validate_separately, **check_params)\u001b[0m\n\u001b[1;32m    430\u001b[0m                 \u001b[0my\u001b[0m \u001b[0;34m=\u001b[0m \u001b[0mcheck_array\u001b[0m\u001b[0;34m(\u001b[0m\u001b[0my\u001b[0m\u001b[0;34m,\u001b[0m \u001b[0;34m**\u001b[0m\u001b[0mcheck_y_params\u001b[0m\u001b[0;34m)\u001b[0m\u001b[0;34m\u001b[0m\u001b[0;34m\u001b[0m\u001b[0m\n\u001b[1;32m    431\u001b[0m             \u001b[0;32melse\u001b[0m\u001b[0;34m:\u001b[0m\u001b[0;34m\u001b[0m\u001b[0;34m\u001b[0m\u001b[0m\n\u001b[0;32m--> 432\u001b[0;31m                 \u001b[0mX\u001b[0m\u001b[0;34m,\u001b[0m \u001b[0my\u001b[0m \u001b[0;34m=\u001b[0m \u001b[0mcheck_X_y\u001b[0m\u001b[0;34m(\u001b[0m\u001b[0mX\u001b[0m\u001b[0;34m,\u001b[0m \u001b[0my\u001b[0m\u001b[0;34m,\u001b[0m \u001b[0;34m**\u001b[0m\u001b[0mcheck_params\u001b[0m\u001b[0;34m)\u001b[0m\u001b[0;34m\u001b[0m\u001b[0;34m\u001b[0m\u001b[0m\n\u001b[0m\u001b[1;32m    433\u001b[0m             \u001b[0mout\u001b[0m \u001b[0;34m=\u001b[0m \u001b[0mX\u001b[0m\u001b[0;34m,\u001b[0m \u001b[0my\u001b[0m\u001b[0;34m\u001b[0m\u001b[0;34m\u001b[0m\u001b[0m\n\u001b[1;32m    434\u001b[0m \u001b[0;34m\u001b[0m\u001b[0m\n",
      "\u001b[0;32m~/opt/miniconda3/envs/myenv/lib/python3.8/site-packages/sklearn/utils/validation.py\u001b[0m in \u001b[0;36minner_f\u001b[0;34m(*args, **kwargs)\u001b[0m\n\u001b[1;32m     70\u001b[0m                           FutureWarning)\n\u001b[1;32m     71\u001b[0m         \u001b[0mkwargs\u001b[0m\u001b[0;34m.\u001b[0m\u001b[0mupdate\u001b[0m\u001b[0;34m(\u001b[0m\u001b[0;34m{\u001b[0m\u001b[0mk\u001b[0m\u001b[0;34m:\u001b[0m \u001b[0marg\u001b[0m \u001b[0;32mfor\u001b[0m \u001b[0mk\u001b[0m\u001b[0;34m,\u001b[0m \u001b[0marg\u001b[0m \u001b[0;32min\u001b[0m \u001b[0mzip\u001b[0m\u001b[0;34m(\u001b[0m\u001b[0msig\u001b[0m\u001b[0;34m.\u001b[0m\u001b[0mparameters\u001b[0m\u001b[0;34m,\u001b[0m \u001b[0margs\u001b[0m\u001b[0;34m)\u001b[0m\u001b[0;34m}\u001b[0m\u001b[0;34m)\u001b[0m\u001b[0;34m\u001b[0m\u001b[0;34m\u001b[0m\u001b[0m\n\u001b[0;32m---> 72\u001b[0;31m         \u001b[0;32mreturn\u001b[0m \u001b[0mf\u001b[0m\u001b[0;34m(\u001b[0m\u001b[0;34m**\u001b[0m\u001b[0mkwargs\u001b[0m\u001b[0;34m)\u001b[0m\u001b[0;34m\u001b[0m\u001b[0;34m\u001b[0m\u001b[0m\n\u001b[0m\u001b[1;32m     73\u001b[0m     \u001b[0;32mreturn\u001b[0m \u001b[0minner_f\u001b[0m\u001b[0;34m\u001b[0m\u001b[0;34m\u001b[0m\u001b[0m\n\u001b[1;32m     74\u001b[0m \u001b[0;34m\u001b[0m\u001b[0m\n",
      "\u001b[0;32m~/opt/miniconda3/envs/myenv/lib/python3.8/site-packages/sklearn/utils/validation.py\u001b[0m in \u001b[0;36mcheck_X_y\u001b[0;34m(X, y, accept_sparse, accept_large_sparse, dtype, order, copy, force_all_finite, ensure_2d, allow_nd, multi_output, ensure_min_samples, ensure_min_features, y_numeric, estimator)\u001b[0m\n\u001b[1;32m    793\u001b[0m         \u001b[0;32mraise\u001b[0m \u001b[0mValueError\u001b[0m\u001b[0;34m(\u001b[0m\u001b[0;34m\"y cannot be None\"\u001b[0m\u001b[0;34m)\u001b[0m\u001b[0;34m\u001b[0m\u001b[0;34m\u001b[0m\u001b[0m\n\u001b[1;32m    794\u001b[0m \u001b[0;34m\u001b[0m\u001b[0m\n\u001b[0;32m--> 795\u001b[0;31m     X = check_array(X, accept_sparse=accept_sparse,\n\u001b[0m\u001b[1;32m    796\u001b[0m                     \u001b[0maccept_large_sparse\u001b[0m\u001b[0;34m=\u001b[0m\u001b[0maccept_large_sparse\u001b[0m\u001b[0;34m,\u001b[0m\u001b[0;34m\u001b[0m\u001b[0;34m\u001b[0m\u001b[0m\n\u001b[1;32m    797\u001b[0m                     \u001b[0mdtype\u001b[0m\u001b[0;34m=\u001b[0m\u001b[0mdtype\u001b[0m\u001b[0;34m,\u001b[0m \u001b[0morder\u001b[0m\u001b[0;34m=\u001b[0m\u001b[0morder\u001b[0m\u001b[0;34m,\u001b[0m \u001b[0mcopy\u001b[0m\u001b[0;34m=\u001b[0m\u001b[0mcopy\u001b[0m\u001b[0;34m,\u001b[0m\u001b[0;34m\u001b[0m\u001b[0;34m\u001b[0m\u001b[0m\n",
      "\u001b[0;32m~/opt/miniconda3/envs/myenv/lib/python3.8/site-packages/sklearn/utils/validation.py\u001b[0m in \u001b[0;36minner_f\u001b[0;34m(*args, **kwargs)\u001b[0m\n\u001b[1;32m     70\u001b[0m                           FutureWarning)\n\u001b[1;32m     71\u001b[0m         \u001b[0mkwargs\u001b[0m\u001b[0;34m.\u001b[0m\u001b[0mupdate\u001b[0m\u001b[0;34m(\u001b[0m\u001b[0;34m{\u001b[0m\u001b[0mk\u001b[0m\u001b[0;34m:\u001b[0m \u001b[0marg\u001b[0m \u001b[0;32mfor\u001b[0m \u001b[0mk\u001b[0m\u001b[0;34m,\u001b[0m \u001b[0marg\u001b[0m \u001b[0;32min\u001b[0m \u001b[0mzip\u001b[0m\u001b[0;34m(\u001b[0m\u001b[0msig\u001b[0m\u001b[0;34m.\u001b[0m\u001b[0mparameters\u001b[0m\u001b[0;34m,\u001b[0m \u001b[0margs\u001b[0m\u001b[0;34m)\u001b[0m\u001b[0;34m}\u001b[0m\u001b[0;34m)\u001b[0m\u001b[0;34m\u001b[0m\u001b[0;34m\u001b[0m\u001b[0m\n\u001b[0;32m---> 72\u001b[0;31m         \u001b[0;32mreturn\u001b[0m \u001b[0mf\u001b[0m\u001b[0;34m(\u001b[0m\u001b[0;34m**\u001b[0m\u001b[0mkwargs\u001b[0m\u001b[0;34m)\u001b[0m\u001b[0;34m\u001b[0m\u001b[0;34m\u001b[0m\u001b[0m\n\u001b[0m\u001b[1;32m     73\u001b[0m     \u001b[0;32mreturn\u001b[0m \u001b[0minner_f\u001b[0m\u001b[0;34m\u001b[0m\u001b[0;34m\u001b[0m\u001b[0m\n\u001b[1;32m     74\u001b[0m \u001b[0;34m\u001b[0m\u001b[0m\n",
      "\u001b[0;32m~/opt/miniconda3/envs/myenv/lib/python3.8/site-packages/sklearn/utils/validation.py\u001b[0m in \u001b[0;36mcheck_array\u001b[0;34m(array, accept_sparse, accept_large_sparse, dtype, order, copy, force_all_finite, ensure_2d, allow_nd, ensure_min_samples, ensure_min_features, estimator)\u001b[0m\n\u001b[1;32m    596\u001b[0m                     \u001b[0marray\u001b[0m \u001b[0;34m=\u001b[0m \u001b[0marray\u001b[0m\u001b[0;34m.\u001b[0m\u001b[0mastype\u001b[0m\u001b[0;34m(\u001b[0m\u001b[0mdtype\u001b[0m\u001b[0;34m,\u001b[0m \u001b[0mcasting\u001b[0m\u001b[0;34m=\u001b[0m\u001b[0;34m\"unsafe\"\u001b[0m\u001b[0;34m,\u001b[0m \u001b[0mcopy\u001b[0m\u001b[0;34m=\u001b[0m\u001b[0;32mFalse\u001b[0m\u001b[0;34m)\u001b[0m\u001b[0;34m\u001b[0m\u001b[0;34m\u001b[0m\u001b[0m\n\u001b[1;32m    597\u001b[0m                 \u001b[0;32melse\u001b[0m\u001b[0;34m:\u001b[0m\u001b[0;34m\u001b[0m\u001b[0;34m\u001b[0m\u001b[0m\n\u001b[0;32m--> 598\u001b[0;31m                     \u001b[0marray\u001b[0m \u001b[0;34m=\u001b[0m \u001b[0mnp\u001b[0m\u001b[0;34m.\u001b[0m\u001b[0masarray\u001b[0m\u001b[0;34m(\u001b[0m\u001b[0marray\u001b[0m\u001b[0;34m,\u001b[0m \u001b[0morder\u001b[0m\u001b[0;34m=\u001b[0m\u001b[0morder\u001b[0m\u001b[0;34m,\u001b[0m \u001b[0mdtype\u001b[0m\u001b[0;34m=\u001b[0m\u001b[0mdtype\u001b[0m\u001b[0;34m)\u001b[0m\u001b[0;34m\u001b[0m\u001b[0;34m\u001b[0m\u001b[0m\n\u001b[0m\u001b[1;32m    599\u001b[0m             \u001b[0;32mexcept\u001b[0m \u001b[0mComplexWarning\u001b[0m\u001b[0;34m:\u001b[0m\u001b[0;34m\u001b[0m\u001b[0;34m\u001b[0m\u001b[0m\n\u001b[1;32m    600\u001b[0m                 raise ValueError(\"Complex data not supported\\n\"\n",
      "\u001b[0;32m~/opt/miniconda3/envs/myenv/lib/python3.8/site-packages/numpy/core/_asarray.py\u001b[0m in \u001b[0;36masarray\u001b[0;34m(a, dtype, order)\u001b[0m\n\u001b[1;32m     81\u001b[0m \u001b[0;34m\u001b[0m\u001b[0m\n\u001b[1;32m     82\u001b[0m     \"\"\"\n\u001b[0;32m---> 83\u001b[0;31m     \u001b[0;32mreturn\u001b[0m \u001b[0marray\u001b[0m\u001b[0;34m(\u001b[0m\u001b[0ma\u001b[0m\u001b[0;34m,\u001b[0m \u001b[0mdtype\u001b[0m\u001b[0;34m,\u001b[0m \u001b[0mcopy\u001b[0m\u001b[0;34m=\u001b[0m\u001b[0;32mFalse\u001b[0m\u001b[0;34m,\u001b[0m \u001b[0morder\u001b[0m\u001b[0;34m=\u001b[0m\u001b[0morder\u001b[0m\u001b[0;34m)\u001b[0m\u001b[0;34m\u001b[0m\u001b[0;34m\u001b[0m\u001b[0m\n\u001b[0m\u001b[1;32m     84\u001b[0m \u001b[0;34m\u001b[0m\u001b[0m\n\u001b[1;32m     85\u001b[0m \u001b[0;34m\u001b[0m\u001b[0m\n",
      "\u001b[0;32m~/opt/miniconda3/envs/myenv/lib/python3.8/site-packages/pandas/core/generic.py\u001b[0m in \u001b[0;36m__array__\u001b[0;34m(self, dtype)\u001b[0m\n\u001b[1;32m   1894\u001b[0m \u001b[0;34m\u001b[0m\u001b[0m\n\u001b[1;32m   1895\u001b[0m     \u001b[0;32mdef\u001b[0m \u001b[0m__array__\u001b[0m\u001b[0;34m(\u001b[0m\u001b[0mself\u001b[0m\u001b[0;34m,\u001b[0m \u001b[0mdtype\u001b[0m\u001b[0;34m=\u001b[0m\u001b[0;32mNone\u001b[0m\u001b[0;34m)\u001b[0m \u001b[0;34m->\u001b[0m \u001b[0mnp\u001b[0m\u001b[0;34m.\u001b[0m\u001b[0mndarray\u001b[0m\u001b[0;34m:\u001b[0m\u001b[0;34m\u001b[0m\u001b[0;34m\u001b[0m\u001b[0m\n\u001b[0;32m-> 1896\u001b[0;31m         \u001b[0;32mreturn\u001b[0m \u001b[0mnp\u001b[0m\u001b[0;34m.\u001b[0m\u001b[0masarray\u001b[0m\u001b[0;34m(\u001b[0m\u001b[0mself\u001b[0m\u001b[0;34m.\u001b[0m\u001b[0m_values\u001b[0m\u001b[0;34m,\u001b[0m \u001b[0mdtype\u001b[0m\u001b[0;34m=\u001b[0m\u001b[0mdtype\u001b[0m\u001b[0;34m)\u001b[0m\u001b[0;34m\u001b[0m\u001b[0;34m\u001b[0m\u001b[0m\n\u001b[0m\u001b[1;32m   1897\u001b[0m \u001b[0;34m\u001b[0m\u001b[0m\n\u001b[1;32m   1898\u001b[0m     def __array_wrap__(\n",
      "\u001b[0;32m~/opt/miniconda3/envs/myenv/lib/python3.8/site-packages/numpy/core/_asarray.py\u001b[0m in \u001b[0;36masarray\u001b[0;34m(a, dtype, order)\u001b[0m\n\u001b[1;32m     81\u001b[0m \u001b[0;34m\u001b[0m\u001b[0m\n\u001b[1;32m     82\u001b[0m     \"\"\"\n\u001b[0;32m---> 83\u001b[0;31m     \u001b[0;32mreturn\u001b[0m \u001b[0marray\u001b[0m\u001b[0;34m(\u001b[0m\u001b[0ma\u001b[0m\u001b[0;34m,\u001b[0m \u001b[0mdtype\u001b[0m\u001b[0;34m,\u001b[0m \u001b[0mcopy\u001b[0m\u001b[0;34m=\u001b[0m\u001b[0;32mFalse\u001b[0m\u001b[0;34m,\u001b[0m \u001b[0morder\u001b[0m\u001b[0;34m=\u001b[0m\u001b[0morder\u001b[0m\u001b[0;34m)\u001b[0m\u001b[0;34m\u001b[0m\u001b[0;34m\u001b[0m\u001b[0m\n\u001b[0m\u001b[1;32m     84\u001b[0m \u001b[0;34m\u001b[0m\u001b[0m\n\u001b[1;32m     85\u001b[0m \u001b[0;34m\u001b[0m\u001b[0m\n",
      "\u001b[0;31mValueError\u001b[0m: could not convert string to float: '2009-01-01 01:31:49.0000003'"
     ]
    }
   ],
   "source": [
    "# Build a machine learning model\n",
    "model = RandomForestRegressor(n_jobs=1,\n",
    "                             random_state=42)\n",
    "model.fit(taxi.drop([\"fare_amount\"], axis=1), taxi[\"fare_amount\"])"
   ]
  },
  {
   "cell_type": "code",
   "execution_count": 34,
   "id": "naked-january",
   "metadata": {},
   "outputs": [
    {
     "name": "stdout",
     "output_type": "stream",
     "text": [
      "<class 'pandas.core.frame.DataFrame'>\n",
      "Int64Index: 20000 entries, 12739 to 1428\n",
      "Data columns (total 12 columns):\n",
      " #   Column             Non-Null Count  Dtype  \n",
      "---  ------             --------------  -----  \n",
      " 0   key                20000 non-null  object \n",
      " 1   fare_amount        20000 non-null  float64\n",
      " 2   pickup_longitude   20000 non-null  float64\n",
      " 3   pickup_latitude    20000 non-null  float64\n",
      " 4   dropoff_longitude  20000 non-null  float64\n",
      " 5   dropoff_latitude   20000 non-null  float64\n",
      " 6   passenger_count    20000 non-null  int64  \n",
      " 7   pickupYear         20000 non-null  int64  \n",
      " 8   pickupMonth        20000 non-null  int64  \n",
      " 9   pickupDay          20000 non-null  int64  \n",
      " 10  pickupDayOfWeek    20000 non-null  int64  \n",
      " 11  pickupDayOfYear    20000 non-null  int64  \n",
      "dtypes: float64(5), int64(6), object(1)\n",
      "memory usage: 2.0+ MB\n"
     ]
    }
   ],
   "source": [
    "taxi.info()"
   ]
  },
  {
   "cell_type": "code",
   "execution_count": 35,
   "id": "together-hospital",
   "metadata": {},
   "outputs": [
    {
     "data": {
      "text/plain": [
       "key                  0\n",
       "fare_amount          0\n",
       "pickup_longitude     0\n",
       "pickup_latitude      0\n",
       "dropoff_longitude    0\n",
       "dropoff_latitude     0\n",
       "passenger_count      0\n",
       "pickupYear           0\n",
       "pickupMonth          0\n",
       "pickupDay            0\n",
       "pickupDayOfWeek      0\n",
       "pickupDayOfYear      0\n",
       "dtype: int64"
      ]
     },
     "execution_count": 35,
     "metadata": {},
     "output_type": "execute_result"
    }
   ],
   "source": [
    "taxi.isna().sum()"
   ]
  },
  {
   "cell_type": "code",
   "execution_count": 36,
   "id": "confused-persian",
   "metadata": {},
   "outputs": [
    {
     "name": "stdout",
     "output_type": "stream",
     "text": [
      "fare_amount\n",
      "pickup_longitude\n",
      "pickup_latitude\n",
      "dropoff_longitude\n",
      "dropoff_latitude\n",
      "passenger_count\n",
      "pickupYear\n",
      "pickupMonth\n",
      "pickupDay\n",
      "pickupDayOfWeek\n",
      "pickupDayOfYear\n"
     ]
    }
   ],
   "source": [
    "for label, content in taxi.items():\n",
    "    if pd.api.types.is_numeric_dtype(content):\n",
    "        print(label)"
   ]
  },
  {
   "cell_type": "code",
   "execution_count": 37,
   "id": "satisfied-television",
   "metadata": {},
   "outputs": [],
   "source": [
    "# Check for which numeric columns have null values\n",
    "for label, content in taxi.items():\n",
    "    if pd.api.types.is_numeric_dtype(content):\n",
    "        if pd.isnull(content).sum():\n",
    "            print(label)"
   ]
  },
  {
   "cell_type": "code",
   "execution_count": null,
   "id": "prostate-analyst",
   "metadata": {},
   "outputs": [],
   "source": []
  },
  {
   "cell_type": "code",
   "execution_count": 38,
   "id": "registered-samuel",
   "metadata": {},
   "outputs": [
    {
     "data": {
      "text/plain": [
       "RandomForestRegressor(n_jobs=1, random_state=42)"
      ]
     },
     "execution_count": 38,
     "metadata": {},
     "output_type": "execute_result"
    }
   ],
   "source": [
    "# Build a machine learning model\n",
    "model = RandomForestRegressor(n_jobs=1,\n",
    "                             random_state=42)\n",
    "model.fit(taxi.drop([\"fare_amount\",\"key\"], axis=1), taxi[\"fare_amount\"])\n",
    "\n"
   ]
  },
  {
   "cell_type": "code",
   "execution_count": 40,
   "id": "weird-copyright",
   "metadata": {},
   "outputs": [
    {
     "data": {
      "text/plain": [
       "0.9648092903013119"
      ]
     },
     "execution_count": 40,
     "metadata": {},
     "output_type": "execute_result"
    }
   ],
   "source": [
    "# Score the model\n",
    "model.score(taxi.drop([\"key\",\"fare_amount\"], axis=1), taxi[\"fare_amount\"])"
   ]
  },
  {
   "cell_type": "code",
   "execution_count": null,
   "id": "quarterly-trick",
   "metadata": {},
   "outputs": [],
   "source": []
  }
 ],
 "metadata": {
  "kernelspec": {
   "display_name": "Python 3",
   "language": "python",
   "name": "python3"
  },
  "language_info": {
   "codemirror_mode": {
    "name": "ipython",
    "version": 3
   },
   "file_extension": ".py",
   "mimetype": "text/x-python",
   "name": "python",
   "nbconvert_exporter": "python",
   "pygments_lexer": "ipython3",
   "version": "3.8.5"
  }
 },
 "nbformat": 4,
 "nbformat_minor": 5
}
