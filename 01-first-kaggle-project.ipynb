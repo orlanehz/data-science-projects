{
 "cells": [
  {
   "cell_type": "markdown",
   "id": "strategic-logic",
   "metadata": {},
   "source": [
    "# 🚕 Predicting the Taxi Fare of New York City riders using Machine Learning"
   ]
  },
  {
   "cell_type": "markdown",
   "id": "alleged-equivalent",
   "metadata": {},
   "source": [
    "In this notebook, the goal is to predict the New York City Taxi Fare."
   ]
  },
  {
   "cell_type": "markdown",
   "id": "brown-amazon",
   "metadata": {},
   "source": [
    "## 1. Problem\n",
    "\n",
    "> How well can we predict the fare amount for a taxi ride in New York City, given the pickup and dropoff locations ?\n",
    "\n",
    "**fare_amount** - float dollar amount of the cost of the taxi ride. This value is only in the training set and this is what we are predicting in the test set."
   ]
  },
  {
   "cell_type": "markdown",
   "id": "strategic-feelings",
   "metadata": {},
   "source": [
    "## 2. Data\n",
    "\n",
    "The data is downloaded from the Kaggle New York City Taxi Fare Prediction competition:\n",
    "https://www.kaggle.com/c/new-york-city-taxi-fare-prediction/data\n",
    "\n",
    "There are two main datasets:\n",
    "- **Train.csv**, the training set, which contains data from January 1, 2009 - June 30, 2015.\n",
    "- **Test.csv**, the test set, which contains data from January 1, 2009 - June 30, 2015."
   ]
  },
  {
   "cell_type": "markdown",
   "id": "conventional-begin",
   "metadata": {},
   "source": [
    "## 3. Evaluation\n",
    "\n",
    "The evaluation metric for this competition is the **RMSE** (root mean-squared error) between the actual and predicted fare amount.\n",
    "\n",
    "For more on the evaluation on this project check:\n",
    "https://www.kaggle.com/c/new-york-city-taxi-fare-prediction/overview/evaluation"
   ]
  },
  {
   "cell_type": "markdown",
   "id": "outstanding-labor",
   "metadata": {},
   "source": [
    "## 4. Features\n",
    "\n",
    "* **pickup_datetime** - timestamp value indicating when the taxi ride started.\n",
    "* **pickup_longitude** - float for longitude coordinate of where the taxi ride started.\n",
    "* **pickup_latitude** - float for latitude coordinate of where the taxi ride started.\n",
    "* **dropoff_longitude** - float for longitude coordinate of where the taxi ride ended.\n",
    "* **dropoff_latitude** - float for latitude coordinate of where the taxi ride ended.\n",
    "* **passenger_count** - integer indicating the number of passengers in the taxi ride."
   ]
  },
  {
   "cell_type": "code",
   "execution_count": 81,
   "id": "mexican-video",
   "metadata": {},
   "outputs": [],
   "source": [
    "# Standard imports\n",
    "# Regular EDA and plotting libraries\n",
    "import numpy as np\n",
    "import pandas as pd\n",
    "import matplotlib.pyplot as plt\n",
    "#import seaborn as sns\n",
    "%matplotlib inline\n",
    "\n",
    "# Models from Scikit-Learn\n",
    "from sklearn.ensemble import RandomForestRegressor\n",
    "\n",
    "# Model Evaluations"
   ]
  },
  {
   "cell_type": "markdown",
   "id": "trying-weight",
   "metadata": {},
   "source": [
    "## Get the data"
   ]
  },
  {
   "cell_type": "code",
   "execution_count": 2,
   "id": "buried-defendant",
   "metadata": {
    "scrolled": true
   },
   "outputs": [
    {
     "name": "stdout",
     "output_type": "stream",
     "text": [
      "Downloading new-york-city-taxi-fare-prediction.zip to datasets/new-york-city-taxi\n",
      "100%|█████████████████████████████████████▉| 1.56G/1.56G [00:38<00:00, 42.6MB/s]\n",
      "100%|██████████████████████████████████████| 1.56G/1.56G [00:38<00:00, 43.1MB/s]\n"
     ]
    }
   ],
   "source": [
    "!kaggle competitions download -p datasets/new-york-city-taxi -c new-york-city-taxi-fare-prediction"
   ]
  },
  {
   "cell_type": "code",
   "execution_count": 3,
   "id": "unauthorized-association",
   "metadata": {
    "scrolled": false
   },
   "outputs": [
    {
     "name": "stdout",
     "output_type": "stream",
     "text": [
      "Archive:  datasets/new-york-city-taxi/new-york-city-taxi-fare-prediction.zip\n",
      "  inflating: datasets/new-york-city-taxi/GCP-Coupons-Instructions.rtf  \n",
      "  inflating: datasets/new-york-city-taxi/sample_submission.csv  \n",
      "  inflating: datasets/new-york-city-taxi/test.csv  \n",
      "  inflating: datasets/new-york-city-taxi/train.csv  \n"
     ]
    }
   ],
   "source": [
    "!unzip datasets/new-york-city-taxi/new-york-city-taxi-fare-prediction.zip -d datasets/new-york-city-taxi"
   ]
  },
  {
   "cell_type": "code",
   "execution_count": 50,
   "id": "difficult-shark",
   "metadata": {},
   "outputs": [],
   "source": [
    "NB_ROWS = 400000"
   ]
  },
  {
   "cell_type": "code",
   "execution_count": 51,
   "id": "exotic-processing",
   "metadata": {},
   "outputs": [
    {
     "data": {
      "text/plain": [
       "(400000, 8)"
      ]
     },
     "execution_count": 51,
     "metadata": {},
     "output_type": "execute_result"
    }
   ],
   "source": [
    "taxi = pd.read_csv(\"datasets/new-york-city-taxi/train.csv\", nrows=NB_ROWS)\n",
    "taxi.shape"
   ]
  },
  {
   "cell_type": "markdown",
   "id": "discrete-henry",
   "metadata": {},
   "source": [
    "## EDA\n",
    "\n",
    "We will here try to find out more about the data."
   ]
  },
  {
   "cell_type": "code",
   "execution_count": 13,
   "id": "thermal-earthquake",
   "metadata": {},
   "outputs": [
    {
     "data": {
      "text/html": [
       "<div>\n",
       "<style scoped>\n",
       "    .dataframe tbody tr th:only-of-type {\n",
       "        vertical-align: middle;\n",
       "    }\n",
       "\n",
       "    .dataframe tbody tr th {\n",
       "        vertical-align: top;\n",
       "    }\n",
       "\n",
       "    .dataframe thead th {\n",
       "        text-align: right;\n",
       "    }\n",
       "</style>\n",
       "<table border=\"1\" class=\"dataframe\">\n",
       "  <thead>\n",
       "    <tr style=\"text-align: right;\">\n",
       "      <th></th>\n",
       "      <th>key</th>\n",
       "      <th>fare_amount</th>\n",
       "      <th>pickup_datetime</th>\n",
       "      <th>pickup_longitude</th>\n",
       "      <th>pickup_latitude</th>\n",
       "      <th>dropoff_longitude</th>\n",
       "      <th>dropoff_latitude</th>\n",
       "      <th>passenger_count</th>\n",
       "    </tr>\n",
       "  </thead>\n",
       "  <tbody>\n",
       "    <tr>\n",
       "      <th>0</th>\n",
       "      <td>2009-06-15 17:26:21.0000001</td>\n",
       "      <td>4.5</td>\n",
       "      <td>2009-06-15 17:26:21 UTC</td>\n",
       "      <td>-73.844311</td>\n",
       "      <td>40.721319</td>\n",
       "      <td>-73.841610</td>\n",
       "      <td>40.712278</td>\n",
       "      <td>1</td>\n",
       "    </tr>\n",
       "    <tr>\n",
       "      <th>1</th>\n",
       "      <td>2010-01-05 16:52:16.0000002</td>\n",
       "      <td>16.9</td>\n",
       "      <td>2010-01-05 16:52:16 UTC</td>\n",
       "      <td>-74.016048</td>\n",
       "      <td>40.711303</td>\n",
       "      <td>-73.979268</td>\n",
       "      <td>40.782004</td>\n",
       "      <td>1</td>\n",
       "    </tr>\n",
       "    <tr>\n",
       "      <th>2</th>\n",
       "      <td>2011-08-18 00:35:00.00000049</td>\n",
       "      <td>5.7</td>\n",
       "      <td>2011-08-18 00:35:00 UTC</td>\n",
       "      <td>-73.982738</td>\n",
       "      <td>40.761270</td>\n",
       "      <td>-73.991242</td>\n",
       "      <td>40.750562</td>\n",
       "      <td>2</td>\n",
       "    </tr>\n",
       "    <tr>\n",
       "      <th>3</th>\n",
       "      <td>2012-04-21 04:30:42.0000001</td>\n",
       "      <td>7.7</td>\n",
       "      <td>2012-04-21 04:30:42 UTC</td>\n",
       "      <td>-73.987130</td>\n",
       "      <td>40.733143</td>\n",
       "      <td>-73.991567</td>\n",
       "      <td>40.758092</td>\n",
       "      <td>1</td>\n",
       "    </tr>\n",
       "    <tr>\n",
       "      <th>4</th>\n",
       "      <td>2010-03-09 07:51:00.000000135</td>\n",
       "      <td>5.3</td>\n",
       "      <td>2010-03-09 07:51:00 UTC</td>\n",
       "      <td>-73.968095</td>\n",
       "      <td>40.768008</td>\n",
       "      <td>-73.956655</td>\n",
       "      <td>40.783762</td>\n",
       "      <td>1</td>\n",
       "    </tr>\n",
       "  </tbody>\n",
       "</table>\n",
       "</div>"
      ],
      "text/plain": [
       "                             key  fare_amount          pickup_datetime  \\\n",
       "0    2009-06-15 17:26:21.0000001          4.5  2009-06-15 17:26:21 UTC   \n",
       "1    2010-01-05 16:52:16.0000002         16.9  2010-01-05 16:52:16 UTC   \n",
       "2   2011-08-18 00:35:00.00000049          5.7  2011-08-18 00:35:00 UTC   \n",
       "3    2012-04-21 04:30:42.0000001          7.7  2012-04-21 04:30:42 UTC   \n",
       "4  2010-03-09 07:51:00.000000135          5.3  2010-03-09 07:51:00 UTC   \n",
       "\n",
       "   pickup_longitude  pickup_latitude  dropoff_longitude  dropoff_latitude  \\\n",
       "0        -73.844311        40.721319         -73.841610         40.712278   \n",
       "1        -74.016048        40.711303         -73.979268         40.782004   \n",
       "2        -73.982738        40.761270         -73.991242         40.750562   \n",
       "3        -73.987130        40.733143         -73.991567         40.758092   \n",
       "4        -73.968095        40.768008         -73.956655         40.783762   \n",
       "\n",
       "   passenger_count  \n",
       "0                1  \n",
       "1                1  \n",
       "2                2  \n",
       "3                1  \n",
       "4                1  "
      ]
     },
     "execution_count": 13,
     "metadata": {},
     "output_type": "execute_result"
    }
   ],
   "source": [
    "taxi.head()"
   ]
  },
  {
   "cell_type": "code",
   "execution_count": 52,
   "id": "substantial-reputation",
   "metadata": {},
   "outputs": [
    {
     "name": "stdout",
     "output_type": "stream",
     "text": [
      "<class 'pandas.core.frame.DataFrame'>\n",
      "RangeIndex: 400000 entries, 0 to 399999\n",
      "Data columns (total 8 columns):\n",
      " #   Column             Non-Null Count   Dtype  \n",
      "---  ------             --------------   -----  \n",
      " 0   key                400000 non-null  object \n",
      " 1   fare_amount        400000 non-null  float64\n",
      " 2   pickup_datetime    400000 non-null  object \n",
      " 3   pickup_longitude   400000 non-null  float64\n",
      " 4   pickup_latitude    400000 non-null  float64\n",
      " 5   dropoff_longitude  399997 non-null  float64\n",
      " 6   dropoff_latitude   399997 non-null  float64\n",
      " 7   passenger_count    400000 non-null  int64  \n",
      "dtypes: float64(5), int64(1), object(2)\n",
      "memory usage: 24.4+ MB\n"
     ]
    }
   ],
   "source": [
    "taxi.info()"
   ]
  },
  {
   "cell_type": "code",
   "execution_count": 53,
   "id": "mysterious-mineral",
   "metadata": {},
   "outputs": [
    {
     "data": {
      "text/html": [
       "<div>\n",
       "<style scoped>\n",
       "    .dataframe tbody tr th:only-of-type {\n",
       "        vertical-align: middle;\n",
       "    }\n",
       "\n",
       "    .dataframe tbody tr th {\n",
       "        vertical-align: top;\n",
       "    }\n",
       "\n",
       "    .dataframe thead th {\n",
       "        text-align: right;\n",
       "    }\n",
       "</style>\n",
       "<table border=\"1\" class=\"dataframe\">\n",
       "  <thead>\n",
       "    <tr style=\"text-align: right;\">\n",
       "      <th></th>\n",
       "      <th>fare_amount</th>\n",
       "      <th>pickup_longitude</th>\n",
       "      <th>pickup_latitude</th>\n",
       "      <th>dropoff_longitude</th>\n",
       "      <th>dropoff_latitude</th>\n",
       "      <th>passenger_count</th>\n",
       "    </tr>\n",
       "  </thead>\n",
       "  <tbody>\n",
       "    <tr>\n",
       "      <th>count</th>\n",
       "      <td>400000.000000</td>\n",
       "      <td>400000.000000</td>\n",
       "      <td>400000.000000</td>\n",
       "      <td>399997.000000</td>\n",
       "      <td>399997.000000</td>\n",
       "      <td>400000.000000</td>\n",
       "    </tr>\n",
       "    <tr>\n",
       "      <th>mean</th>\n",
       "      <td>11.363011</td>\n",
       "      <td>-72.512749</td>\n",
       "      <td>39.920196</td>\n",
       "      <td>-72.512494</td>\n",
       "      <td>39.919394</td>\n",
       "      <td>1.683415</td>\n",
       "    </tr>\n",
       "    <tr>\n",
       "      <th>std</th>\n",
       "      <td>9.944799</td>\n",
       "      <td>11.240633</td>\n",
       "      <td>8.356897</td>\n",
       "      <td>10.835233</td>\n",
       "      <td>6.498969</td>\n",
       "      <td>1.307503</td>\n",
       "    </tr>\n",
       "    <tr>\n",
       "      <th>min</th>\n",
       "      <td>-44.900000</td>\n",
       "      <td>-740.000000</td>\n",
       "      <td>-3116.285383</td>\n",
       "      <td>-1329.621332</td>\n",
       "      <td>-1189.615440</td>\n",
       "      <td>0.000000</td>\n",
       "    </tr>\n",
       "    <tr>\n",
       "      <th>25%</th>\n",
       "      <td>6.000000</td>\n",
       "      <td>-73.992055</td>\n",
       "      <td>40.734968</td>\n",
       "      <td>-73.991367</td>\n",
       "      <td>40.734072</td>\n",
       "      <td>1.000000</td>\n",
       "    </tr>\n",
       "    <tr>\n",
       "      <th>50%</th>\n",
       "      <td>8.500000</td>\n",
       "      <td>-73.981789</td>\n",
       "      <td>40.752727</td>\n",
       "      <td>-73.980105</td>\n",
       "      <td>40.753194</td>\n",
       "      <td>1.000000</td>\n",
       "    </tr>\n",
       "    <tr>\n",
       "      <th>75%</th>\n",
       "      <td>12.500000</td>\n",
       "      <td>-73.967090</td>\n",
       "      <td>40.767104</td>\n",
       "      <td>-73.963543</td>\n",
       "      <td>40.768115</td>\n",
       "      <td>2.000000</td>\n",
       "    </tr>\n",
       "    <tr>\n",
       "      <th>max</th>\n",
       "      <td>500.000000</td>\n",
       "      <td>2140.601160</td>\n",
       "      <td>1703.092772</td>\n",
       "      <td>40.851027</td>\n",
       "      <td>404.616667</td>\n",
       "      <td>6.000000</td>\n",
       "    </tr>\n",
       "  </tbody>\n",
       "</table>\n",
       "</div>"
      ],
      "text/plain": [
       "         fare_amount  pickup_longitude  pickup_latitude  dropoff_longitude  \\\n",
       "count  400000.000000     400000.000000    400000.000000      399997.000000   \n",
       "mean       11.363011        -72.512749        39.920196         -72.512494   \n",
       "std         9.944799         11.240633         8.356897          10.835233   \n",
       "min       -44.900000       -740.000000     -3116.285383       -1329.621332   \n",
       "25%         6.000000        -73.992055        40.734968         -73.991367   \n",
       "50%         8.500000        -73.981789        40.752727         -73.980105   \n",
       "75%        12.500000        -73.967090        40.767104         -73.963543   \n",
       "max       500.000000       2140.601160      1703.092772          40.851027   \n",
       "\n",
       "       dropoff_latitude  passenger_count  \n",
       "count     399997.000000    400000.000000  \n",
       "mean          39.919394         1.683415  \n",
       "std            6.498969         1.307503  \n",
       "min        -1189.615440         0.000000  \n",
       "25%           40.734072         1.000000  \n",
       "50%           40.753194         1.000000  \n",
       "75%           40.768115         2.000000  \n",
       "max          404.616667         6.000000  "
      ]
     },
     "execution_count": 53,
     "metadata": {},
     "output_type": "execute_result"
    }
   ],
   "source": [
    "taxi.describe()"
   ]
  },
  {
   "cell_type": "markdown",
   "id": "thick-response",
   "metadata": {},
   "source": [
    "Each row represents one race. There are 6 attributes: \n",
    "pickup_datetime, pickup_longitude, pickup_latitude, dropoff_longitude, dropoff_latitude and passenger_count.\n",
    "\n",
    "We've chosen 20,000 instances in the dataset which is good to get started.\n",
    "\n",
    "All attributes are numerical except pickup_datetime which is an object. As its name says it, it represents a date."
   ]
  },
  {
   "cell_type": "code",
   "execution_count": 54,
   "id": "loved-block",
   "metadata": {},
   "outputs": [
    {
     "data": {
      "text/plain": [
       "key                  0\n",
       "fare_amount          0\n",
       "pickup_datetime      0\n",
       "pickup_longitude     0\n",
       "pickup_latitude      0\n",
       "dropoff_longitude    3\n",
       "dropoff_latitude     3\n",
       "passenger_count      0\n",
       "dtype: int64"
      ]
     },
     "execution_count": 54,
     "metadata": {},
     "output_type": "execute_result"
    }
   ],
   "source": [
    "taxi.isna().sum()"
   ]
  },
  {
   "cell_type": "markdown",
   "id": "pacific-uzbekistan",
   "metadata": {},
   "source": [
    "We notice that none of the attributes has null values except dropoff gps coordonates."
   ]
  },
  {
   "cell_type": "code",
   "execution_count": 17,
   "id": "professional-alberta",
   "metadata": {},
   "outputs": [
    {
     "data": {
      "text/plain": [
       "0    2009-06-15 17:26:21 UTC\n",
       "1    2010-01-05 16:52:16 UTC\n",
       "2    2011-08-18 00:35:00 UTC\n",
       "3    2012-04-21 04:30:42 UTC\n",
       "4    2010-03-09 07:51:00 UTC\n",
       "5    2011-01-06 09:50:45 UTC\n",
       "6    2012-11-20 20:35:00 UTC\n",
       "7    2012-01-04 17:22:00 UTC\n",
       "8    2012-12-03 13:10:00 UTC\n",
       "9    2009-09-02 01:11:00 UTC\n",
       "Name: pickup_datetime, dtype: object"
      ]
     },
     "execution_count": 17,
     "metadata": {},
     "output_type": "execute_result"
    }
   ],
   "source": [
    "taxi.pickup_datetime[:10]"
   ]
  },
  {
   "cell_type": "code",
   "execution_count": 55,
   "id": "authorized-manitoba",
   "metadata": {},
   "outputs": [
    {
     "data": {
      "image/png": "[encoded data removed]",
      "text/plain": [
       "<Figure size 432x288 with 1 Axes>"
      ]
     },
     "metadata": {
      "needs_background": "light"
     },
     "output_type": "display_data"
    }
   ],
   "source": [
    "fig, ax = plt.subplots()\n",
    "ax.scatter(taxi[\"pickup_datetime\"][:1000], taxi[\"fare_amount\"][:1000]);"
   ]
  },
  {
   "cell_type": "code",
   "execution_count": 63,
   "id": "prime-filing",
   "metadata": {},
   "outputs": [
    {
     "data": {
      "image/png": "[encoded data removed]",
      "text/plain": [
       "<Figure size 432x288 with 1 Axes>"
      ]
     },
     "metadata": {
      "needs_background": "light"
     },
     "output_type": "display_data"
    }
   ],
   "source": [
    "taxi.fare_amount.plot.hist();"
   ]
  },
  {
   "cell_type": "code",
   "execution_count": 57,
   "id": "searching-baptist",
   "metadata": {},
   "outputs": [
    {
     "data": {
      "text/plain": [
       "1    276927\n",
       "2     58995\n",
       "5     28364\n",
       "3     17403\n",
       "4      8472\n",
       "6      8422\n",
       "0      1417\n",
       "Name: passenger_count, dtype: int64"
      ]
     },
     "execution_count": 57,
     "metadata": {},
     "output_type": "execute_result"
    }
   ],
   "source": [
    "taxi.passenger_count.value_counts()"
   ]
  },
  {
   "cell_type": "code",
   "execution_count": 64,
   "id": "monetary-arctic",
   "metadata": {},
   "outputs": [
    {
     "data": {
      "image/png": "[encoded data removed]",
      "text/plain": [
       "<Figure size 432x288 with 1 Axes>"
      ]
     },
     "metadata": {
      "needs_background": "light"
     },
     "output_type": "display_data"
    }
   ],
   "source": [
    "taxi.passenger_count.plot.hist();"
   ]
  },
  {
   "cell_type": "markdown",
   "id": "waiting-frequency",
   "metadata": {},
   "source": [
    "### Visualizing Geographical Data\n",
    "\n",
    "Since there is geographical information (latitude, longitude), we'll plot the data of all races."
   ]
  },
  {
   "cell_type": "code",
   "execution_count": 65,
   "id": "enormous-commerce",
   "metadata": {},
   "outputs": [
    {
     "data": {
      "image/png": "[encoded data removed]",
      "text/plain": [
       "<Figure size 432x288 with 1 Axes>"
      ]
     },
     "metadata": {
      "needs_background": "light"
     },
     "output_type": "display_data"
    }
   ],
   "source": [
    "taxi.plot(kind=\"scatter\", x=\"pickup_longitude\", y=\"pickup_latitude\", alpha=0.1);"
   ]
  },
  {
   "cell_type": "code",
   "execution_count": 66,
   "id": "personal-cooperation",
   "metadata": {},
   "outputs": [
    {
     "data": {
      "image/png": "[encoded data removed]",
      "text/plain": [
       "<Figure size 432x288 with 1 Axes>"
      ]
     },
     "metadata": {
      "needs_background": "light"
     },
     "output_type": "display_data"
    }
   ],
   "source": [
    "taxi.plot(kind=\"scatter\", x=\"dropoff_longitude\", y=\"dropoff_latitude\", alpha=0.1);"
   ]
  },
  {
   "cell_type": "markdown",
   "id": "chinese-wound",
   "metadata": {},
   "source": [
    "It seems that there is a lot of races in Spain."
   ]
  },
  {
   "cell_type": "markdown",
   "id": "dependent-sydney",
   "metadata": {},
   "source": [
    "### Parsing dates\n",
    "\n",
    "As we are working with time series data, we want to enrich the time and date component as much as possible."
   ]
  },
  {
   "cell_type": "code",
   "execution_count": 67,
   "id": "baking-relationship",
   "metadata": {},
   "outputs": [],
   "source": [
    "# We import the data again but we parse dates\n",
    "taxi = pd.read_csv(\"datasets/new-york-city-taxi/train.csv\", nrows=NB_ROWS,\n",
    "                  low_memory=False,\n",
    "                  parse_dates=[\"pickup_datetime\"])"
   ]
  },
  {
   "cell_type": "code",
   "execution_count": 68,
   "id": "multiple-little",
   "metadata": {},
   "outputs": [
    {
     "data": {
      "text/plain": [
       "datetime64[ns, UTC]"
      ]
     },
     "execution_count": 68,
     "metadata": {},
     "output_type": "execute_result"
    }
   ],
   "source": [
    "taxi.pickup_datetime.dtype"
   ]
  },
  {
   "cell_type": "code",
   "execution_count": 69,
   "id": "corresponding-distribution",
   "metadata": {},
   "outputs": [
    {
     "data": {
      "text/plain": [
       "0   2009-06-15 17:26:21+00:00\n",
       "1   2010-01-05 16:52:16+00:00\n",
       "2   2011-08-18 00:35:00+00:00\n",
       "3   2012-04-21 04:30:42+00:00\n",
       "4   2010-03-09 07:51:00+00:00\n",
       "5   2011-01-06 09:50:45+00:00\n",
       "6   2012-11-20 20:35:00+00:00\n",
       "7   2012-01-04 17:22:00+00:00\n",
       "8   2012-12-03 13:10:00+00:00\n",
       "9   2009-09-02 01:11:00+00:00\n",
       "Name: pickup_datetime, dtype: datetime64[ns, UTC]"
      ]
     },
     "execution_count": 69,
     "metadata": {},
     "output_type": "execute_result"
    }
   ],
   "source": [
    "taxi.pickup_datetime[:10]"
   ]
  },
  {
   "cell_type": "code",
   "execution_count": 70,
   "id": "consistent-pioneer",
   "metadata": {},
   "outputs": [
    {
     "data": {
      "image/png": "[encoded data removed]",
      "text/plain": [
       "<Figure size 432x288 with 1 Axes>"
      ]
     },
     "metadata": {
      "needs_background": "light"
     },
     "output_type": "display_data"
    }
   ],
   "source": [
    "fig, ax = plt.subplots()\n",
    "ax.scatter(taxi[\"pickup_datetime\"][:1000], taxi[\"fare_amount\"][:1000]);"
   ]
  },
  {
   "cell_type": "code",
   "execution_count": 71,
   "id": "bigger-likelihood",
   "metadata": {},
   "outputs": [
    {
     "data": {
      "text/html": [
       "<div>\n",
       "<style scoped>\n",
       "    .dataframe tbody tr th:only-of-type {\n",
       "        vertical-align: middle;\n",
       "    }\n",
       "\n",
       "    .dataframe tbody tr th {\n",
       "        vertical-align: top;\n",
       "    }\n",
       "\n",
       "    .dataframe thead th {\n",
       "        text-align: right;\n",
       "    }\n",
       "</style>\n",
       "<table border=\"1\" class=\"dataframe\">\n",
       "  <thead>\n",
       "    <tr style=\"text-align: right;\">\n",
       "      <th></th>\n",
       "      <th>key</th>\n",
       "      <th>fare_amount</th>\n",
       "      <th>pickup_datetime</th>\n",
       "      <th>pickup_longitude</th>\n",
       "      <th>pickup_latitude</th>\n",
       "      <th>dropoff_longitude</th>\n",
       "      <th>dropoff_latitude</th>\n",
       "      <th>passenger_count</th>\n",
       "    </tr>\n",
       "  </thead>\n",
       "  <tbody>\n",
       "    <tr>\n",
       "      <th>0</th>\n",
       "      <td>2009-06-15 17:26:21.0000001</td>\n",
       "      <td>4.5</td>\n",
       "      <td>2009-06-15 17:26:21+00:00</td>\n",
       "      <td>-73.844311</td>\n",
       "      <td>40.721319</td>\n",
       "      <td>-73.841610</td>\n",
       "      <td>40.712278</td>\n",
       "      <td>1</td>\n",
       "    </tr>\n",
       "    <tr>\n",
       "      <th>1</th>\n",
       "      <td>2010-01-05 16:52:16.0000002</td>\n",
       "      <td>16.9</td>\n",
       "      <td>2010-01-05 16:52:16+00:00</td>\n",
       "      <td>-74.016048</td>\n",
       "      <td>40.711303</td>\n",
       "      <td>-73.979268</td>\n",
       "      <td>40.782004</td>\n",
       "      <td>1</td>\n",
       "    </tr>\n",
       "    <tr>\n",
       "      <th>2</th>\n",
       "      <td>2011-08-18 00:35:00.00000049</td>\n",
       "      <td>5.7</td>\n",
       "      <td>2011-08-18 00:35:00+00:00</td>\n",
       "      <td>-73.982738</td>\n",
       "      <td>40.761270</td>\n",
       "      <td>-73.991242</td>\n",
       "      <td>40.750562</td>\n",
       "      <td>2</td>\n",
       "    </tr>\n",
       "    <tr>\n",
       "      <th>3</th>\n",
       "      <td>2012-04-21 04:30:42.0000001</td>\n",
       "      <td>7.7</td>\n",
       "      <td>2012-04-21 04:30:42+00:00</td>\n",
       "      <td>-73.987130</td>\n",
       "      <td>40.733143</td>\n",
       "      <td>-73.991567</td>\n",
       "      <td>40.758092</td>\n",
       "      <td>1</td>\n",
       "    </tr>\n",
       "    <tr>\n",
       "      <th>4</th>\n",
       "      <td>2010-03-09 07:51:00.000000135</td>\n",
       "      <td>5.3</td>\n",
       "      <td>2010-03-09 07:51:00+00:00</td>\n",
       "      <td>-73.968095</td>\n",
       "      <td>40.768008</td>\n",
       "      <td>-73.956655</td>\n",
       "      <td>40.783762</td>\n",
       "      <td>1</td>\n",
       "    </tr>\n",
       "  </tbody>\n",
       "</table>\n",
       "</div>"
      ],
      "text/plain": [
       "                             key  fare_amount           pickup_datetime  \\\n",
       "0    2009-06-15 17:26:21.0000001          4.5 2009-06-15 17:26:21+00:00   \n",
       "1    2010-01-05 16:52:16.0000002         16.9 2010-01-05 16:52:16+00:00   \n",
       "2   2011-08-18 00:35:00.00000049          5.7 2011-08-18 00:35:00+00:00   \n",
       "3    2012-04-21 04:30:42.0000001          7.7 2012-04-21 04:30:42+00:00   \n",
       "4  2010-03-09 07:51:00.000000135          5.3 2010-03-09 07:51:00+00:00   \n",
       "\n",
       "   pickup_longitude  pickup_latitude  dropoff_longitude  dropoff_latitude  \\\n",
       "0        -73.844311        40.721319         -73.841610         40.712278   \n",
       "1        -74.016048        40.711303         -73.979268         40.782004   \n",
       "2        -73.982738        40.761270         -73.991242         40.750562   \n",
       "3        -73.987130        40.733143         -73.991567         40.758092   \n",
       "4        -73.968095        40.768008         -73.956655         40.783762   \n",
       "\n",
       "   passenger_count  \n",
       "0                1  \n",
       "1                1  \n",
       "2                2  \n",
       "3                1  \n",
       "4                1  "
      ]
     },
     "execution_count": 71,
     "metadata": {},
     "output_type": "execute_result"
    }
   ],
   "source": [
    "taxi.head()"
   ]
  },
  {
   "cell_type": "code",
   "execution_count": 72,
   "id": "greatest-sapphire",
   "metadata": {},
   "outputs": [
    {
     "data": {
      "text/html": [
       "<div>\n",
       "<style scoped>\n",
       "    .dataframe tbody tr th:only-of-type {\n",
       "        vertical-align: middle;\n",
       "    }\n",
       "\n",
       "    .dataframe tbody tr th {\n",
       "        vertical-align: top;\n",
       "    }\n",
       "\n",
       "    .dataframe thead th {\n",
       "        text-align: right;\n",
       "    }\n",
       "</style>\n",
       "<table border=\"1\" class=\"dataframe\">\n",
       "  <thead>\n",
       "    <tr style=\"text-align: right;\">\n",
       "      <th></th>\n",
       "      <th>0</th>\n",
       "      <th>1</th>\n",
       "      <th>2</th>\n",
       "      <th>3</th>\n",
       "      <th>4</th>\n",
       "    </tr>\n",
       "  </thead>\n",
       "  <tbody>\n",
       "    <tr>\n",
       "      <th>key</th>\n",
       "      <td>2009-06-15 17:26:21.0000001</td>\n",
       "      <td>2010-01-05 16:52:16.0000002</td>\n",
       "      <td>2011-08-18 00:35:00.00000049</td>\n",
       "      <td>2012-04-21 04:30:42.0000001</td>\n",
       "      <td>2010-03-09 07:51:00.000000135</td>\n",
       "    </tr>\n",
       "    <tr>\n",
       "      <th>fare_amount</th>\n",
       "      <td>4.500000</td>\n",
       "      <td>16.900000</td>\n",
       "      <td>5.700000</td>\n",
       "      <td>7.700000</td>\n",
       "      <td>5.300000</td>\n",
       "    </tr>\n",
       "    <tr>\n",
       "      <th>pickup_datetime</th>\n",
       "      <td>2009-06-15 17:26:21+00:00</td>\n",
       "      <td>2010-01-05 16:52:16+00:00</td>\n",
       "      <td>2011-08-18 00:35:00+00:00</td>\n",
       "      <td>2012-04-21 04:30:42+00:00</td>\n",
       "      <td>2010-03-09 07:51:00+00:00</td>\n",
       "    </tr>\n",
       "    <tr>\n",
       "      <th>pickup_longitude</th>\n",
       "      <td>-73.844311</td>\n",
       "      <td>-74.016048</td>\n",
       "      <td>-73.982738</td>\n",
       "      <td>-73.987130</td>\n",
       "      <td>-73.968095</td>\n",
       "    </tr>\n",
       "    <tr>\n",
       "      <th>pickup_latitude</th>\n",
       "      <td>40.721319</td>\n",
       "      <td>40.711303</td>\n",
       "      <td>40.761270</td>\n",
       "      <td>40.733143</td>\n",
       "      <td>40.768008</td>\n",
       "    </tr>\n",
       "    <tr>\n",
       "      <th>dropoff_longitude</th>\n",
       "      <td>-73.841610</td>\n",
       "      <td>-73.979268</td>\n",
       "      <td>-73.991242</td>\n",
       "      <td>-73.991567</td>\n",
       "      <td>-73.956655</td>\n",
       "    </tr>\n",
       "    <tr>\n",
       "      <th>dropoff_latitude</th>\n",
       "      <td>40.712278</td>\n",
       "      <td>40.782004</td>\n",
       "      <td>40.750562</td>\n",
       "      <td>40.758092</td>\n",
       "      <td>40.783762</td>\n",
       "    </tr>\n",
       "    <tr>\n",
       "      <th>passenger_count</th>\n",
       "      <td>1</td>\n",
       "      <td>1</td>\n",
       "      <td>2</td>\n",
       "      <td>1</td>\n",
       "      <td>1</td>\n",
       "    </tr>\n",
       "  </tbody>\n",
       "</table>\n",
       "</div>"
      ],
      "text/plain": [
       "                                             0                            1  \\\n",
       "key                2009-06-15 17:26:21.0000001  2010-01-05 16:52:16.0000002   \n",
       "fare_amount                           4.500000                    16.900000   \n",
       "pickup_datetime      2009-06-15 17:26:21+00:00    2010-01-05 16:52:16+00:00   \n",
       "pickup_longitude                    -73.844311                   -74.016048   \n",
       "pickup_latitude                      40.721319                    40.711303   \n",
       "dropoff_longitude                   -73.841610                   -73.979268   \n",
       "dropoff_latitude                     40.712278                    40.782004   \n",
       "passenger_count                              1                            1   \n",
       "\n",
       "                                              2                            3  \\\n",
       "key                2011-08-18 00:35:00.00000049  2012-04-21 04:30:42.0000001   \n",
       "fare_amount                            5.700000                     7.700000   \n",
       "pickup_datetime       2011-08-18 00:35:00+00:00    2012-04-21 04:30:42+00:00   \n",
       "pickup_longitude                     -73.982738                   -73.987130   \n",
       "pickup_latitude                       40.761270                    40.733143   \n",
       "dropoff_longitude                    -73.991242                   -73.991567   \n",
       "dropoff_latitude                      40.750562                    40.758092   \n",
       "passenger_count                               2                            1   \n",
       "\n",
       "                                               4  \n",
       "key                2010-03-09 07:51:00.000000135  \n",
       "fare_amount                             5.300000  \n",
       "pickup_datetime        2010-03-09 07:51:00+00:00  \n",
       "pickup_longitude                      -73.968095  \n",
       "pickup_latitude                        40.768008  \n",
       "dropoff_longitude                     -73.956655  \n",
       "dropoff_latitude                       40.783762  \n",
       "passenger_count                                1  "
      ]
     },
     "execution_count": 72,
     "metadata": {},
     "output_type": "execute_result"
    }
   ],
   "source": [
    "taxi.head().T"
   ]
  },
  {
   "cell_type": "code",
   "execution_count": 73,
   "id": "handy-ethiopia",
   "metadata": {},
   "outputs": [
    {
     "data": {
      "text/plain": [
       "297860   2009-01-01 00:31:32+00:00\n",
       "124750   2009-01-01 00:35:03+00:00\n",
       "82469    2009-01-01 00:41:00+00:00\n",
       "124445   2009-01-01 00:47:26+00:00\n",
       "76195    2009-01-01 01:21:54+00:00\n",
       "102243   2009-01-01 01:22:54+00:00\n",
       "12739    2009-01-01 01:31:49+00:00\n",
       "307980   2009-01-01 01:55:56+00:00\n",
       "17546    2009-01-01 02:05:37+00:00\n",
       "25687    2009-01-01 02:07:49+00:00\n",
       "Name: pickup_datetime, dtype: datetime64[ns, UTC]"
      ]
     },
     "execution_count": 73,
     "metadata": {},
     "output_type": "execute_result"
    }
   ],
   "source": [
    "# Sort DataFrame in date order\n",
    "taxi.sort_values(by=[\"pickup_datetime\"], inplace=True, ascending=True)\n",
    "taxi.pickup_datetime.head(10)"
   ]
  },
  {
   "cell_type": "markdown",
   "id": "cultural-moderator",
   "metadata": {},
   "source": [
    "### Copy of the original DataFrame\n",
    "We make a copy of the original DataFrame so when we manipulate the copy, we've still got our original data.\n",
    "\n"
   ]
  },
  {
   "cell_type": "code",
   "execution_count": 74,
   "id": "governing-general",
   "metadata": {},
   "outputs": [],
   "source": [
    "taxi_tmp = taxi.copy()"
   ]
  },
  {
   "cell_type": "code",
   "execution_count": 75,
   "id": "affecting-microwave",
   "metadata": {},
   "outputs": [
    {
     "data": {
      "text/plain": [
       "297860    2009\n",
       "Name: pickup_datetime, dtype: int64"
      ]
     },
     "execution_count": 75,
     "metadata": {},
     "output_type": "execute_result"
    }
   ],
   "source": [
    "# Add datetime parameters for pickup_datetime column\n",
    "taxi[:1].pickup_datetime.dt.year"
   ]
  },
  {
   "cell_type": "code",
   "execution_count": 76,
   "id": "radical-subcommittee",
   "metadata": {},
   "outputs": [
    {
     "data": {
      "text/plain": [
       "297860    1\n",
       "Name: pickup_datetime, dtype: int64"
      ]
     },
     "execution_count": 76,
     "metadata": {},
     "output_type": "execute_result"
    }
   ],
   "source": [
    "taxi[:1].pickup_datetime.dt.day"
   ]
  },
  {
   "cell_type": "code",
   "execution_count": 77,
   "id": "promising-special",
   "metadata": {},
   "outputs": [],
   "source": [
    "taxi[\"pickupYear\"] = taxi.pickup_datetime.dt.year\n",
    "taxi[\"pickupMonth\"] = taxi.pickup_datetime.dt.month\n",
    "taxi[\"pickupDay\"] = taxi.pickup_datetime.dt.day\n",
    "taxi[\"pickupDayOfWeek\"] = taxi.pickup_datetime.dt.dayofweek\n",
    "taxi[\"pickupDayOfYear\"] = taxi.pickup_datetime.dt.dayofyear"
   ]
  },
  {
   "cell_type": "code",
   "execution_count": 78,
   "id": "empty-listing",
   "metadata": {},
   "outputs": [
    {
     "data": {
      "text/html": [
       "<div>\n",
       "<style scoped>\n",
       "    .dataframe tbody tr th:only-of-type {\n",
       "        vertical-align: middle;\n",
       "    }\n",
       "\n",
       "    .dataframe tbody tr th {\n",
       "        vertical-align: top;\n",
       "    }\n",
       "\n",
       "    .dataframe thead th {\n",
       "        text-align: right;\n",
       "    }\n",
       "</style>\n",
       "<table border=\"1\" class=\"dataframe\">\n",
       "  <thead>\n",
       "    <tr style=\"text-align: right;\">\n",
       "      <th></th>\n",
       "      <th>297860</th>\n",
       "      <th>124750</th>\n",
       "      <th>82469</th>\n",
       "      <th>124445</th>\n",
       "      <th>76195</th>\n",
       "    </tr>\n",
       "  </thead>\n",
       "  <tbody>\n",
       "    <tr>\n",
       "      <th>key</th>\n",
       "      <td>2009-01-01 00:31:32.0000001</td>\n",
       "      <td>2009-01-01 00:35:03.0000001</td>\n",
       "      <td>2009-01-01 00:41:00.0000003</td>\n",
       "      <td>2009-01-01 00:47:26.0000007</td>\n",
       "      <td>2009-01-01 01:21:54.0000002</td>\n",
       "    </tr>\n",
       "    <tr>\n",
       "      <th>fare_amount</th>\n",
       "      <td>11.800000</td>\n",
       "      <td>16.500000</td>\n",
       "      <td>6.200000</td>\n",
       "      <td>5.400000</td>\n",
       "      <td>4.900000</td>\n",
       "    </tr>\n",
       "    <tr>\n",
       "      <th>pickup_datetime</th>\n",
       "      <td>2009-01-01 00:31:32+00:00</td>\n",
       "      <td>2009-01-01 00:35:03+00:00</td>\n",
       "      <td>2009-01-01 00:41:00+00:00</td>\n",
       "      <td>2009-01-01 00:47:26+00:00</td>\n",
       "      <td>2009-01-01 01:21:54+00:00</td>\n",
       "    </tr>\n",
       "    <tr>\n",
       "      <th>pickup_longitude</th>\n",
       "      <td>-73.955075</td>\n",
       "      <td>-73.991938</td>\n",
       "      <td>-73.994202</td>\n",
       "      <td>-73.987324</td>\n",
       "      <td>-73.951810</td>\n",
       "    </tr>\n",
       "    <tr>\n",
       "      <th>pickup_latitude</th>\n",
       "      <td>40.768991</td>\n",
       "      <td>40.738414</td>\n",
       "      <td>40.751008</td>\n",
       "      <td>40.749571</td>\n",
       "      <td>40.714897</td>\n",
       "    </tr>\n",
       "    <tr>\n",
       "      <th>dropoff_longitude</th>\n",
       "      <td>-73.973230</td>\n",
       "      <td>-74.003499</td>\n",
       "      <td>-73.985817</td>\n",
       "      <td>-73.976034</td>\n",
       "      <td>-73.962162</td>\n",
       "    </tr>\n",
       "    <tr>\n",
       "      <th>dropoff_latitude</th>\n",
       "      <td>40.747979</td>\n",
       "      <td>40.683326</td>\n",
       "      <td>40.750577</td>\n",
       "      <td>40.741951</td>\n",
       "      <td>40.709354</td>\n",
       "    </tr>\n",
       "    <tr>\n",
       "      <th>passenger_count</th>\n",
       "      <td>1</td>\n",
       "      <td>1</td>\n",
       "      <td>2</td>\n",
       "      <td>1</td>\n",
       "      <td>4</td>\n",
       "    </tr>\n",
       "    <tr>\n",
       "      <th>pickupYear</th>\n",
       "      <td>2009</td>\n",
       "      <td>2009</td>\n",
       "      <td>2009</td>\n",
       "      <td>2009</td>\n",
       "      <td>2009</td>\n",
       "    </tr>\n",
       "    <tr>\n",
       "      <th>pickupMonth</th>\n",
       "      <td>1</td>\n",
       "      <td>1</td>\n",
       "      <td>1</td>\n",
       "      <td>1</td>\n",
       "      <td>1</td>\n",
       "    </tr>\n",
       "    <tr>\n",
       "      <th>pickupDay</th>\n",
       "      <td>1</td>\n",
       "      <td>1</td>\n",
       "      <td>1</td>\n",
       "      <td>1</td>\n",
       "      <td>1</td>\n",
       "    </tr>\n",
       "    <tr>\n",
       "      <th>pickupDayOfWeek</th>\n",
       "      <td>3</td>\n",
       "      <td>3</td>\n",
       "      <td>3</td>\n",
       "      <td>3</td>\n",
       "      <td>3</td>\n",
       "    </tr>\n",
       "    <tr>\n",
       "      <th>pickupDayOfYear</th>\n",
       "      <td>1</td>\n",
       "      <td>1</td>\n",
       "      <td>1</td>\n",
       "      <td>1</td>\n",
       "      <td>1</td>\n",
       "    </tr>\n",
       "  </tbody>\n",
       "</table>\n",
       "</div>"
      ],
      "text/plain": [
       "                                        297860                       124750  \\\n",
       "key                2009-01-01 00:31:32.0000001  2009-01-01 00:35:03.0000001   \n",
       "fare_amount                          11.800000                    16.500000   \n",
       "pickup_datetime      2009-01-01 00:31:32+00:00    2009-01-01 00:35:03+00:00   \n",
       "pickup_longitude                    -73.955075                   -73.991938   \n",
       "pickup_latitude                      40.768991                    40.738414   \n",
       "dropoff_longitude                   -73.973230                   -74.003499   \n",
       "dropoff_latitude                     40.747979                    40.683326   \n",
       "passenger_count                              1                            1   \n",
       "pickupYear                                2009                         2009   \n",
       "pickupMonth                                  1                            1   \n",
       "pickupDay                                    1                            1   \n",
       "pickupDayOfWeek                              3                            3   \n",
       "pickupDayOfYear                              1                            1   \n",
       "\n",
       "                                        82469                        124445  \\\n",
       "key                2009-01-01 00:41:00.0000003  2009-01-01 00:47:26.0000007   \n",
       "fare_amount                           6.200000                     5.400000   \n",
       "pickup_datetime      2009-01-01 00:41:00+00:00    2009-01-01 00:47:26+00:00   \n",
       "pickup_longitude                    -73.994202                   -73.987324   \n",
       "pickup_latitude                      40.751008                    40.749571   \n",
       "dropoff_longitude                   -73.985817                   -73.976034   \n",
       "dropoff_latitude                     40.750577                    40.741951   \n",
       "passenger_count                              2                            1   \n",
       "pickupYear                                2009                         2009   \n",
       "pickupMonth                                  1                            1   \n",
       "pickupDay                                    1                            1   \n",
       "pickupDayOfWeek                              3                            3   \n",
       "pickupDayOfYear                              1                            1   \n",
       "\n",
       "                                        76195   \n",
       "key                2009-01-01 01:21:54.0000002  \n",
       "fare_amount                           4.900000  \n",
       "pickup_datetime      2009-01-01 01:21:54+00:00  \n",
       "pickup_longitude                    -73.951810  \n",
       "pickup_latitude                      40.714897  \n",
       "dropoff_longitude                   -73.962162  \n",
       "dropoff_latitude                     40.709354  \n",
       "passenger_count                              4  \n",
       "pickupYear                                2009  \n",
       "pickupMonth                                  1  \n",
       "pickupDay                                    1  \n",
       "pickupDayOfWeek                              3  \n",
       "pickupDayOfYear                              1  "
      ]
     },
     "execution_count": 78,
     "metadata": {},
     "output_type": "execute_result"
    }
   ],
   "source": [
    "taxi.head().T"
   ]
  },
  {
   "cell_type": "code",
   "execution_count": 79,
   "id": "becoming-citation",
   "metadata": {},
   "outputs": [],
   "source": [
    "taxi.drop(\"pickup_datetime\", axis=1, inplace=True)"
   ]
  },
  {
   "cell_type": "markdown",
   "id": "described-register",
   "metadata": {},
   "source": [
    "## 5. Modelling\n",
    "\n",
    "We've done some EDA. Let's start to do some model-driven EDA."
   ]
  },
  {
   "cell_type": "code",
   "execution_count": 82,
   "id": "confident-torture",
   "metadata": {},
   "outputs": [
    {
     "ename": "ValueError",
     "evalue": "could not convert string to float: '2009-01-01 00:31:32.0000001'",
     "output_type": "error",
     "traceback": [
      "\u001b[0;31m---------------------------------------------------------------------------\u001b[0m",
      "\u001b[0;31mValueError\u001b[0m                                Traceback (most recent call last)",
      "\u001b[0;32m<ipython-input-82-8586f76c4cbc>\u001b[0m in \u001b[0;36m<module>\u001b[0;34m\u001b[0m\n\u001b[1;32m      2\u001b[0m model = RandomForestRegressor(n_jobs=1,\n\u001b[1;32m      3\u001b[0m                              random_state=42)\n\u001b[0;32m----> 4\u001b[0;31m \u001b[0mmodel\u001b[0m\u001b[0;34m.\u001b[0m\u001b[0mfit\u001b[0m\u001b[0;34m(\u001b[0m\u001b[0mtaxi\u001b[0m\u001b[0;34m.\u001b[0m\u001b[0mdrop\u001b[0m\u001b[0;34m(\u001b[0m\u001b[0;34m\"fare_amount\"\u001b[0m\u001b[0;34m,\u001b[0m \u001b[0maxis\u001b[0m\u001b[0;34m=\u001b[0m\u001b[0;36m1\u001b[0m\u001b[0;34m)\u001b[0m\u001b[0;34m,\u001b[0m \u001b[0mtaxi\u001b[0m\u001b[0;34m[\u001b[0m\u001b[0;34m\"fare_amount\"\u001b[0m\u001b[0;34m]\u001b[0m\u001b[0;34m)\u001b[0m\u001b[0;34m\u001b[0m\u001b[0;34m\u001b[0m\u001b[0m\n\u001b[0m",
      "\u001b[0;32m~/opt/miniconda3/envs/myenv/lib/python3.8/site-packages/sklearn/ensemble/_forest.py\u001b[0m in \u001b[0;36mfit\u001b[0;34m(self, X, y, sample_weight)\u001b[0m\n\u001b[1;32m    301\u001b[0m                 \u001b[0;34m\"sparse multilabel-indicator for y is not supported.\"\u001b[0m\u001b[0;34m\u001b[0m\u001b[0;34m\u001b[0m\u001b[0m\n\u001b[1;32m    302\u001b[0m             )\n\u001b[0;32m--> 303\u001b[0;31m         X, y = self._validate_data(X, y, multi_output=True,\n\u001b[0m\u001b[1;32m    304\u001b[0m                                    accept_sparse=\"csc\", dtype=DTYPE)\n\u001b[1;32m    305\u001b[0m         \u001b[0;32mif\u001b[0m \u001b[0msample_weight\u001b[0m \u001b[0;32mis\u001b[0m \u001b[0;32mnot\u001b[0m \u001b[0;32mNone\u001b[0m\u001b[0;34m:\u001b[0m\u001b[0;34m\u001b[0m\u001b[0;34m\u001b[0m\u001b[0m\n",
      "\u001b[0;32m~/opt/miniconda3/envs/myenv/lib/python3.8/site-packages/sklearn/base.py\u001b[0m in \u001b[0;36m_validate_data\u001b[0;34m(self, X, y, reset, validate_separately, **check_params)\u001b[0m\n\u001b[1;32m    430\u001b[0m                 \u001b[0my\u001b[0m \u001b[0;34m=\u001b[0m \u001b[0mcheck_array\u001b[0m\u001b[0;34m(\u001b[0m\u001b[0my\u001b[0m\u001b[0;34m,\u001b[0m \u001b[0;34m**\u001b[0m\u001b[0mcheck_y_params\u001b[0m\u001b[0;34m)\u001b[0m\u001b[0;34m\u001b[0m\u001b[0;34m\u001b[0m\u001b[0m\n\u001b[1;32m    431\u001b[0m             \u001b[0;32melse\u001b[0m\u001b[0;34m:\u001b[0m\u001b[0;34m\u001b[0m\u001b[0;34m\u001b[0m\u001b[0m\n\u001b[0;32m--> 432\u001b[0;31m                 \u001b[0mX\u001b[0m\u001b[0;34m,\u001b[0m \u001b[0my\u001b[0m \u001b[0;34m=\u001b[0m \u001b[0mcheck_X_y\u001b[0m\u001b[0;34m(\u001b[0m\u001b[0mX\u001b[0m\u001b[0;34m,\u001b[0m \u001b[0my\u001b[0m\u001b[0;34m,\u001b[0m \u001b[0;34m**\u001b[0m\u001b[0mcheck_params\u001b[0m\u001b[0;34m)\u001b[0m\u001b[0;34m\u001b[0m\u001b[0;34m\u001b[0m\u001b[0m\n\u001b[0m\u001b[1;32m    433\u001b[0m             \u001b[0mout\u001b[0m \u001b[0;34m=\u001b[0m \u001b[0mX\u001b[0m\u001b[0;34m,\u001b[0m \u001b[0my\u001b[0m\u001b[0;34m\u001b[0m\u001b[0;34m\u001b[0m\u001b[0m\n\u001b[1;32m    434\u001b[0m \u001b[0;34m\u001b[0m\u001b[0m\n",
      "\u001b[0;32m~/opt/miniconda3/envs/myenv/lib/python3.8/site-packages/sklearn/utils/validation.py\u001b[0m in \u001b[0;36minner_f\u001b[0;34m(*args, **kwargs)\u001b[0m\n\u001b[1;32m     70\u001b[0m                           FutureWarning)\n\u001b[1;32m     71\u001b[0m         \u001b[0mkwargs\u001b[0m\u001b[0;34m.\u001b[0m\u001b[0mupdate\u001b[0m\u001b[0;34m(\u001b[0m\u001b[0;34m{\u001b[0m\u001b[0mk\u001b[0m\u001b[0;34m:\u001b[0m \u001b[0marg\u001b[0m \u001b[0;32mfor\u001b[0m \u001b[0mk\u001b[0m\u001b[0;34m,\u001b[0m \u001b[0marg\u001b[0m \u001b[0;32min\u001b[0m \u001b[0mzip\u001b[0m\u001b[0;34m(\u001b[0m\u001b[0msig\u001b[0m\u001b[0;34m.\u001b[0m\u001b[0mparameters\u001b[0m\u001b[0;34m,\u001b[0m \u001b[0margs\u001b[0m\u001b[0;34m)\u001b[0m\u001b[0;34m}\u001b[0m\u001b[0;34m)\u001b[0m\u001b[0;34m\u001b[0m\u001b[0;34m\u001b[0m\u001b[0m\n\u001b[0;32m---> 72\u001b[0;31m         \u001b[0;32mreturn\u001b[0m \u001b[0mf\u001b[0m\u001b[0;34m(\u001b[0m\u001b[0;34m**\u001b[0m\u001b[0mkwargs\u001b[0m\u001b[0;34m)\u001b[0m\u001b[0;34m\u001b[0m\u001b[0;34m\u001b[0m\u001b[0m\n\u001b[0m\u001b[1;32m     73\u001b[0m     \u001b[0;32mreturn\u001b[0m \u001b[0minner_f\u001b[0m\u001b[0;34m\u001b[0m\u001b[0;34m\u001b[0m\u001b[0m\n\u001b[1;32m     74\u001b[0m \u001b[0;34m\u001b[0m\u001b[0m\n",
      "\u001b[0;32m~/opt/miniconda3/envs/myenv/lib/python3.8/site-packages/sklearn/utils/validation.py\u001b[0m in \u001b[0;36mcheck_X_y\u001b[0;34m(X, y, accept_sparse, accept_large_sparse, dtype, order, copy, force_all_finite, ensure_2d, allow_nd, multi_output, ensure_min_samples, ensure_min_features, y_numeric, estimator)\u001b[0m\n\u001b[1;32m    793\u001b[0m         \u001b[0;32mraise\u001b[0m \u001b[0mValueError\u001b[0m\u001b[0;34m(\u001b[0m\u001b[0;34m\"y cannot be None\"\u001b[0m\u001b[0;34m)\u001b[0m\u001b[0;34m\u001b[0m\u001b[0;34m\u001b[0m\u001b[0m\n\u001b[1;32m    794\u001b[0m \u001b[0;34m\u001b[0m\u001b[0m\n\u001b[0;32m--> 795\u001b[0;31m     X = check_array(X, accept_sparse=accept_sparse,\n\u001b[0m\u001b[1;32m    796\u001b[0m                     \u001b[0maccept_large_sparse\u001b[0m\u001b[0;34m=\u001b[0m\u001b[0maccept_large_sparse\u001b[0m\u001b[0;34m,\u001b[0m\u001b[0;34m\u001b[0m\u001b[0;34m\u001b[0m\u001b[0m\n\u001b[1;32m    797\u001b[0m                     \u001b[0mdtype\u001b[0m\u001b[0;34m=\u001b[0m\u001b[0mdtype\u001b[0m\u001b[0;34m,\u001b[0m \u001b[0morder\u001b[0m\u001b[0;34m=\u001b[0m\u001b[0morder\u001b[0m\u001b[0;34m,\u001b[0m \u001b[0mcopy\u001b[0m\u001b[0;34m=\u001b[0m\u001b[0mcopy\u001b[0m\u001b[0;34m,\u001b[0m\u001b[0;34m\u001b[0m\u001b[0;34m\u001b[0m\u001b[0m\n",
      "\u001b[0;32m~/opt/miniconda3/envs/myenv/lib/python3.8/site-packages/sklearn/utils/validation.py\u001b[0m in \u001b[0;36minner_f\u001b[0;34m(*args, **kwargs)\u001b[0m\n\u001b[1;32m     70\u001b[0m                           FutureWarning)\n\u001b[1;32m     71\u001b[0m         \u001b[0mkwargs\u001b[0m\u001b[0;34m.\u001b[0m\u001b[0mupdate\u001b[0m\u001b[0;34m(\u001b[0m\u001b[0;34m{\u001b[0m\u001b[0mk\u001b[0m\u001b[0;34m:\u001b[0m \u001b[0marg\u001b[0m \u001b[0;32mfor\u001b[0m \u001b[0mk\u001b[0m\u001b[0;34m,\u001b[0m \u001b[0marg\u001b[0m \u001b[0;32min\u001b[0m \u001b[0mzip\u001b[0m\u001b[0;34m(\u001b[0m\u001b[0msig\u001b[0m\u001b[0;34m.\u001b[0m\u001b[0mparameters\u001b[0m\u001b[0;34m,\u001b[0m \u001b[0margs\u001b[0m\u001b[0;34m)\u001b[0m\u001b[0;34m}\u001b[0m\u001b[0;34m)\u001b[0m\u001b[0;34m\u001b[0m\u001b[0;34m\u001b[0m\u001b[0m\n\u001b[0;32m---> 72\u001b[0;31m         \u001b[0;32mreturn\u001b[0m \u001b[0mf\u001b[0m\u001b[0;34m(\u001b[0m\u001b[0;34m**\u001b[0m\u001b[0mkwargs\u001b[0m\u001b[0;34m)\u001b[0m\u001b[0;34m\u001b[0m\u001b[0;34m\u001b[0m\u001b[0m\n\u001b[0m\u001b[1;32m     73\u001b[0m     \u001b[0;32mreturn\u001b[0m \u001b[0minner_f\u001b[0m\u001b[0;34m\u001b[0m\u001b[0;34m\u001b[0m\u001b[0m\n\u001b[1;32m     74\u001b[0m \u001b[0;34m\u001b[0m\u001b[0m\n",
      "\u001b[0;32m~/opt/miniconda3/envs/myenv/lib/python3.8/site-packages/sklearn/utils/validation.py\u001b[0m in \u001b[0;36mcheck_array\u001b[0;34m(array, accept_sparse, accept_large_sparse, dtype, order, copy, force_all_finite, ensure_2d, allow_nd, ensure_min_samples, ensure_min_features, estimator)\u001b[0m\n\u001b[1;32m    596\u001b[0m                     \u001b[0marray\u001b[0m \u001b[0;34m=\u001b[0m \u001b[0marray\u001b[0m\u001b[0;34m.\u001b[0m\u001b[0mastype\u001b[0m\u001b[0;34m(\u001b[0m\u001b[0mdtype\u001b[0m\u001b[0;34m,\u001b[0m \u001b[0mcasting\u001b[0m\u001b[0;34m=\u001b[0m\u001b[0;34m\"unsafe\"\u001b[0m\u001b[0;34m,\u001b[0m \u001b[0mcopy\u001b[0m\u001b[0;34m=\u001b[0m\u001b[0;32mFalse\u001b[0m\u001b[0;34m)\u001b[0m\u001b[0;34m\u001b[0m\u001b[0;34m\u001b[0m\u001b[0m\n\u001b[1;32m    597\u001b[0m                 \u001b[0;32melse\u001b[0m\u001b[0;34m:\u001b[0m\u001b[0;34m\u001b[0m\u001b[0;34m\u001b[0m\u001b[0m\n\u001b[0;32m--> 598\u001b[0;31m                     \u001b[0marray\u001b[0m \u001b[0;34m=\u001b[0m \u001b[0mnp\u001b[0m\u001b[0;34m.\u001b[0m\u001b[0masarray\u001b[0m\u001b[0;34m(\u001b[0m\u001b[0marray\u001b[0m\u001b[0;34m,\u001b[0m \u001b[0morder\u001b[0m\u001b[0;34m=\u001b[0m\u001b[0morder\u001b[0m\u001b[0;34m,\u001b[0m \u001b[0mdtype\u001b[0m\u001b[0;34m=\u001b[0m\u001b[0mdtype\u001b[0m\u001b[0;34m)\u001b[0m\u001b[0;34m\u001b[0m\u001b[0;34m\u001b[0m\u001b[0m\n\u001b[0m\u001b[1;32m    599\u001b[0m             \u001b[0;32mexcept\u001b[0m \u001b[0mComplexWarning\u001b[0m\u001b[0;34m:\u001b[0m\u001b[0;34m\u001b[0m\u001b[0;34m\u001b[0m\u001b[0m\n\u001b[1;32m    600\u001b[0m                 raise ValueError(\"Complex data not supported\\n\"\n",
      "\u001b[0;32m~/opt/miniconda3/envs/myenv/lib/python3.8/site-packages/numpy/core/_asarray.py\u001b[0m in \u001b[0;36masarray\u001b[0;34m(a, dtype, order)\u001b[0m\n\u001b[1;32m     81\u001b[0m \u001b[0;34m\u001b[0m\u001b[0m\n\u001b[1;32m     82\u001b[0m     \"\"\"\n\u001b[0;32m---> 83\u001b[0;31m     \u001b[0;32mreturn\u001b[0m \u001b[0marray\u001b[0m\u001b[0;34m(\u001b[0m\u001b[0ma\u001b[0m\u001b[0;34m,\u001b[0m \u001b[0mdtype\u001b[0m\u001b[0;34m,\u001b[0m \u001b[0mcopy\u001b[0m\u001b[0;34m=\u001b[0m\u001b[0;32mFalse\u001b[0m\u001b[0;34m,\u001b[0m \u001b[0morder\u001b[0m\u001b[0;34m=\u001b[0m\u001b[0morder\u001b[0m\u001b[0;34m)\u001b[0m\u001b[0;34m\u001b[0m\u001b[0;34m\u001b[0m\u001b[0m\n\u001b[0m\u001b[1;32m     84\u001b[0m \u001b[0;34m\u001b[0m\u001b[0m\n\u001b[1;32m     85\u001b[0m \u001b[0;34m\u001b[0m\u001b[0m\n",
      "\u001b[0;32m~/opt/miniconda3/envs/myenv/lib/python3.8/site-packages/pandas/core/generic.py\u001b[0m in \u001b[0;36m__array__\u001b[0;34m(self, dtype)\u001b[0m\n\u001b[1;32m   1894\u001b[0m \u001b[0;34m\u001b[0m\u001b[0m\n\u001b[1;32m   1895\u001b[0m     \u001b[0;32mdef\u001b[0m \u001b[0m__array__\u001b[0m\u001b[0;34m(\u001b[0m\u001b[0mself\u001b[0m\u001b[0;34m,\u001b[0m \u001b[0mdtype\u001b[0m\u001b[0;34m=\u001b[0m\u001b[0;32mNone\u001b[0m\u001b[0;34m)\u001b[0m \u001b[0;34m->\u001b[0m \u001b[0mnp\u001b[0m\u001b[0;34m.\u001b[0m\u001b[0mndarray\u001b[0m\u001b[0;34m:\u001b[0m\u001b[0;34m\u001b[0m\u001b[0;34m\u001b[0m\u001b[0m\n\u001b[0;32m-> 1896\u001b[0;31m         \u001b[0;32mreturn\u001b[0m \u001b[0mnp\u001b[0m\u001b[0;34m.\u001b[0m\u001b[0masarray\u001b[0m\u001b[0;34m(\u001b[0m\u001b[0mself\u001b[0m\u001b[0;34m.\u001b[0m\u001b[0m_values\u001b[0m\u001b[0;34m,\u001b[0m \u001b[0mdtype\u001b[0m\u001b[0;34m=\u001b[0m\u001b[0mdtype\u001b[0m\u001b[0;34m)\u001b[0m\u001b[0;34m\u001b[0m\u001b[0;34m\u001b[0m\u001b[0m\n\u001b[0m\u001b[1;32m   1897\u001b[0m \u001b[0;34m\u001b[0m\u001b[0m\n\u001b[1;32m   1898\u001b[0m     def __array_wrap__(\n",
      "\u001b[0;32m~/opt/miniconda3/envs/myenv/lib/python3.8/site-packages/numpy/core/_asarray.py\u001b[0m in \u001b[0;36masarray\u001b[0;34m(a, dtype, order)\u001b[0m\n\u001b[1;32m     81\u001b[0m \u001b[0;34m\u001b[0m\u001b[0m\n\u001b[1;32m     82\u001b[0m     \"\"\"\n\u001b[0;32m---> 83\u001b[0;31m     \u001b[0;32mreturn\u001b[0m \u001b[0marray\u001b[0m\u001b[0;34m(\u001b[0m\u001b[0ma\u001b[0m\u001b[0;34m,\u001b[0m \u001b[0mdtype\u001b[0m\u001b[0;34m,\u001b[0m \u001b[0mcopy\u001b[0m\u001b[0;34m=\u001b[0m\u001b[0;32mFalse\u001b[0m\u001b[0;34m,\u001b[0m \u001b[0morder\u001b[0m\u001b[0;34m=\u001b[0m\u001b[0morder\u001b[0m\u001b[0;34m)\u001b[0m\u001b[0;34m\u001b[0m\u001b[0;34m\u001b[0m\u001b[0m\n\u001b[0m\u001b[1;32m     84\u001b[0m \u001b[0;34m\u001b[0m\u001b[0m\n\u001b[1;32m     85\u001b[0m \u001b[0;34m\u001b[0m\u001b[0m\n",
      "\u001b[0;31mValueError\u001b[0m: could not convert string to float: '2009-01-01 00:31:32.0000001'"
     ]
    }
   ],
   "source": [
    "# Build a machine learning model\n",
    "model = RandomForestRegressor(n_jobs=1,\n",
    "                             random_state=42)\n",
    "model.fit(taxi.drop(\"fare_amount\", axis=1), taxi[\"fare_amount\"])"
   ]
  },
  {
   "cell_type": "code",
   "execution_count": null,
   "id": "destroyed-universe",
   "metadata": {},
   "outputs": [],
   "source": []
  }
 ],
 "metadata": {
  "kernelspec": {
   "display_name": "Python 3",
   "language": "python",
   "name": "python3"
  },
  "language_info": {
   "codemirror_mode": {
    "name": "ipython",
    "version": 3
   },
   "file_extension": ".py",
   "mimetype": "text/x-python",
   "name": "python",
   "nbconvert_exporter": "python",
   "pygments_lexer": "ipython3",
   "version": "3.8.5"
  }
 },
 "nbformat": 4,
 "nbformat_minor": 5
}
