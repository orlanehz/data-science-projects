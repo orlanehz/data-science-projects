{
 "cells": [
  {
   "cell_type": "markdown",
   "id": "human-guitar",
   "metadata": {},
   "source": [
    "<h1 align=\"center\">🚕</h1>\n",
    "<h1 align=\"center\">Predicting the Taxi Fare of New York City riders using Machine Learning</h1>"
   ]
  },
  {
   "cell_type": "markdown",
   "id": "heard-cleaner",
   "metadata": {},
   "source": [
    "<hr/>\n",
    "<div align=\"center\">In this notebook, the goal is to predict the New York City Taxi Fare.</div>"
   ]
  },
  {
   "cell_type": "markdown",
   "id": "latter-grammar",
   "metadata": {},
   "source": [
    "## The big picture."
   ]
  },
  {
   "cell_type": "markdown",
   "id": "restricted-olympus",
   "metadata": {},
   "source": [
    "### 1. Problem\n",
    "\n",
    "> How well can we predict the fare amount for a taxi ride in New York City, given the pickup and dropoff locations ?"
   ]
  },
  {
   "cell_type": "markdown",
   "id": "frank-yeast",
   "metadata": {},
   "source": [
    "### 2. Data\n",
    "\n",
    "The data is downloaded from the Kaggle New York City Taxi Fare Prediction competition:\n",
    "https://www.kaggle.com/c/new-york-city-taxi-fare-prediction/data\n",
    "\n",
    "There are two main datasets:\n",
    "- **Train.csv**, the training set, which contains data from January 1, 2009 - June 30, 2015.\n",
    "- **Test.csv**, the test set, which contains data from January 1, 2009 - June 30, 2015."
   ]
  },
  {
   "cell_type": "markdown",
   "id": "acute-contest",
   "metadata": {},
   "source": [
    "### 3. Evaluation\n",
    "\n",
    "The evaluation metric for this competition is the **RMSE (Root Mean-Squared Error)** between the actual and predicted fare amount.\n",
    "\n",
    "Since taxi driver' strategy is based on customer satisfaction and transparency, we want the estimated fare amount to result in an minimal RMSE.\n",
    "\n",
    "For more on the evaluation on this project check:\n",
    "https://www.kaggle.com/c/new-york-city-taxi-fare-prediction/overview/evaluation"
   ]
  },
  {
   "cell_type": "markdown",
   "id": "adjustable-montreal",
   "metadata": {},
   "source": [
    "### 4. Features\n",
    "\n",
    "* `pickup_datetime` - timestamp value indicating when the taxi ride started.\n",
    "* `pickup_longitude` - float for longitude coordinate of where the taxi ride started.\n",
    "* `pickup_latitude` - float for latitude coordinate of where the taxi ride started.\n",
    "* `dropoff_longitude` - float for longitude coordinate of where the taxi ride ended.\n",
    "* `dropoff_latitude` - float for latitude coordinate of where the taxi ride ended.\n",
    "* `passenger_count` - integer indicating the number of passengers in the taxi ride.\n",
    "* `fare_amount` - float dollar amount of the cost of the taxi ride."
   ]
  },
  {
   "cell_type": "markdown",
   "id": "color-pierre",
   "metadata": {},
   "source": [
    "### 5. Frame the problem\n",
    "\n",
    "It is clearly a typical **supervised learning task**, since we are given a target variable `fare_amount`.\n",
    "\n",
    "It is also a typical **regression task**, since we aimed to predict a value, the amount of the cost of the taxi ride.\n",
    "\n",
    "More specifically, it is a **multiple regression problem**, since the system will use multiple features to make a prediction, and a **univariate regression problem**, since we are only trying to predict a single value for each taxi ride.\n",
    "\n",
    "Finally, there is no continuous flow of data coming into the system, there is no particular need to adjust to changing data rapidly, and the data is small enough to fit in memory, so **plain batch learning** should do just fine."
   ]
  },
  {
   "cell_type": "markdown",
   "id": "young-disposal",
   "metadata": {},
   "source": [
    "<hr/>"
   ]
  },
  {
   "cell_type": "code",
   "execution_count": 1,
   "id": "adult-scotland",
   "metadata": {},
   "outputs": [],
   "source": [
    "# Standard imports\n",
    "\n",
    "# Regular EDA and plotting libraries\n",
    "import numpy as np\n",
    "import pandas as pd\n",
    "import matplotlib.pyplot as plt\n",
    "import seaborn as sns\n",
    "sns.set(rc={'figure.figsize':(13.7,9.27)})\n",
    "import warnings\n",
    "warnings.filterwarnings('ignore')\n",
    "%matplotlib inline\n",
    "\n",
    "# Transformation libraries\n",
    "from sklearn.impute import SimpleImputer\n",
    "from sklearn.pipeline import Pipeline\n",
    "from sklearn.preprocessing import StandardScaler\n",
    "from sklearn.compose import ColumnTransformer\n",
    "\n",
    "# Models from Scikit-Learn\n",
    "from sklearn.linear_model import LinearRegression\n",
    "from sklearn.ensemble import RandomForestRegressor\n",
    "\n",
    "# Model Evaluations\n",
    "from sklearn.metrics import mean_squared_error\n",
    "from sklearn.model_selection import cross_val_score, GridSearchCV, RandomizedSearchCV"
   ]
  },
  {
   "cell_type": "markdown",
   "id": "whole-auditor",
   "metadata": {},
   "source": [
    "## 1. Get the Data."
   ]
  },
  {
   "cell_type": "code",
   "execution_count": 2,
   "id": "imposed-occupation",
   "metadata": {},
   "outputs": [],
   "source": [
    "# Load the training set, we are sampling the data down to a manageable size which is good to get started\n",
    "NB_ROWS = 20000 \n",
    "taxi_train_set = pd.read_csv(\"datasets/new-york-city-taxi/train.csv\", nrows=NB_ROWS)"
   ]
  },
  {
   "cell_type": "code",
   "execution_count": 3,
   "id": "orange-white",
   "metadata": {},
   "outputs": [],
   "source": [
    "# Load the test set\n",
    "taxi_test_set = pd.read_csv(\"datasets/new-york-city-taxi/test.csv\")"
   ]
  },
  {
   "cell_type": "code",
   "execution_count": 4,
   "id": "fallen-western",
   "metadata": {},
   "outputs": [
    {
     "data": {
      "text/plain": [
       "((20000, 8), (9914, 7))"
      ]
     },
     "execution_count": 4,
     "metadata": {},
     "output_type": "execute_result"
    }
   ],
   "source": [
    "taxi_train_set.shape, taxi_test_set.shape"
   ]
  },
  {
   "cell_type": "code",
   "execution_count": 5,
   "id": "celtic-causing",
   "metadata": {},
   "outputs": [],
   "source": [
    "#/?\\ I could create here a function to fetch the data\n",
    "#/!\\ I also need to shuffle the data when I sample it down (see page 52 end + 53), avoid the sampling bias, make sure that the 20000 instances are representative? or test set?\n",
    "\n",
    "# Further in the notebook, we have to make sure that the test set is representative of the whole taxi rides. (page 54)\n",
    "# or like in page 56, we can process the strat_.. here in order to have a sample (20000) representative of the test set we are given ?"
   ]
  },
  {
   "cell_type": "markdown",
   "id": "collect-factor",
   "metadata": {},
   "source": [
    "#### Copy of the original DataFrame for exploration\n",
    "We keep a copy of the original DataFrame so when we manipulate the dataset, we've still got our original data."
   ]
  },
  {
   "cell_type": "code",
   "execution_count": 6,
   "id": "hydraulic-lesson",
   "metadata": {},
   "outputs": [],
   "source": [
    "taxi_original_set = taxi_train_set.copy()"
   ]
  },
  {
   "cell_type": "markdown",
   "id": "respiratory-sellers",
   "metadata": {},
   "source": [
    "## 2. EDA.\n",
    "\n",
    "We will here try to find out more about the data."
   ]
  },
  {
   "cell_type": "code",
   "execution_count": 7,
   "id": "measured-mainstream",
   "metadata": {
    "scrolled": true
   },
   "outputs": [
    {
     "data": {
      "text/html": [
       "<div>\n",
       "<style scoped>\n",
       "    .dataframe tbody tr th:only-of-type {\n",
       "        vertical-align: middle;\n",
       "    }\n",
       "\n",
       "    .dataframe tbody tr th {\n",
       "        vertical-align: top;\n",
       "    }\n",
       "\n",
       "    .dataframe thead th {\n",
       "        text-align: right;\n",
       "    }\n",
       "</style>\n",
       "<table border=\"1\" class=\"dataframe\">\n",
       "  <thead>\n",
       "    <tr style=\"text-align: right;\">\n",
       "      <th></th>\n",
       "      <th>key</th>\n",
       "      <th>fare_amount</th>\n",
       "      <th>pickup_datetime</th>\n",
       "      <th>pickup_longitude</th>\n",
       "      <th>pickup_latitude</th>\n",
       "      <th>dropoff_longitude</th>\n",
       "      <th>dropoff_latitude</th>\n",
       "      <th>passenger_count</th>\n",
       "    </tr>\n",
       "  </thead>\n",
       "  <tbody>\n",
       "    <tr>\n",
       "      <th>0</th>\n",
       "      <td>2009-06-15 17:26:21.0000001</td>\n",
       "      <td>4.5</td>\n",
       "      <td>2009-06-15 17:26:21 UTC</td>\n",
       "      <td>-73.844311</td>\n",
       "      <td>40.721319</td>\n",
       "      <td>-73.841610</td>\n",
       "      <td>40.712278</td>\n",
       "      <td>1</td>\n",
       "    </tr>\n",
       "    <tr>\n",
       "      <th>1</th>\n",
       "      <td>2010-01-05 16:52:16.0000002</td>\n",
       "      <td>16.9</td>\n",
       "      <td>2010-01-05 16:52:16 UTC</td>\n",
       "      <td>-74.016048</td>\n",
       "      <td>40.711303</td>\n",
       "      <td>-73.979268</td>\n",
       "      <td>40.782004</td>\n",
       "      <td>1</td>\n",
       "    </tr>\n",
       "    <tr>\n",
       "      <th>2</th>\n",
       "      <td>2011-08-18 00:35:00.00000049</td>\n",
       "      <td>5.7</td>\n",
       "      <td>2011-08-18 00:35:00 UTC</td>\n",
       "      <td>-73.982738</td>\n",
       "      <td>40.761270</td>\n",
       "      <td>-73.991242</td>\n",
       "      <td>40.750562</td>\n",
       "      <td>2</td>\n",
       "    </tr>\n",
       "    <tr>\n",
       "      <th>3</th>\n",
       "      <td>2012-04-21 04:30:42.0000001</td>\n",
       "      <td>7.7</td>\n",
       "      <td>2012-04-21 04:30:42 UTC</td>\n",
       "      <td>-73.987130</td>\n",
       "      <td>40.733143</td>\n",
       "      <td>-73.991567</td>\n",
       "      <td>40.758092</td>\n",
       "      <td>1</td>\n",
       "    </tr>\n",
       "    <tr>\n",
       "      <th>4</th>\n",
       "      <td>2010-03-09 07:51:00.000000135</td>\n",
       "      <td>5.3</td>\n",
       "      <td>2010-03-09 07:51:00 UTC</td>\n",
       "      <td>-73.968095</td>\n",
       "      <td>40.768008</td>\n",
       "      <td>-73.956655</td>\n",
       "      <td>40.783762</td>\n",
       "      <td>1</td>\n",
       "    </tr>\n",
       "  </tbody>\n",
       "</table>\n",
       "</div>"
      ],
      "text/plain": [
       "                             key  fare_amount          pickup_datetime  \\\n",
       "0    2009-06-15 17:26:21.0000001          4.5  2009-06-15 17:26:21 UTC   \n",
       "1    2010-01-05 16:52:16.0000002         16.9  2010-01-05 16:52:16 UTC   \n",
       "2   2011-08-18 00:35:00.00000049          5.7  2011-08-18 00:35:00 UTC   \n",
       "3    2012-04-21 04:30:42.0000001          7.7  2012-04-21 04:30:42 UTC   \n",
       "4  2010-03-09 07:51:00.000000135          5.3  2010-03-09 07:51:00 UTC   \n",
       "\n",
       "   pickup_longitude  pickup_latitude  dropoff_longitude  dropoff_latitude  \\\n",
       "0        -73.844311        40.721319         -73.841610         40.712278   \n",
       "1        -74.016048        40.711303         -73.979268         40.782004   \n",
       "2        -73.982738        40.761270         -73.991242         40.750562   \n",
       "3        -73.987130        40.733143         -73.991567         40.758092   \n",
       "4        -73.968095        40.768008         -73.956655         40.783762   \n",
       "\n",
       "   passenger_count  \n",
       "0                1  \n",
       "1                1  \n",
       "2                2  \n",
       "3                1  \n",
       "4                1  "
      ]
     },
     "execution_count": 7,
     "metadata": {},
     "output_type": "execute_result"
    }
   ],
   "source": [
    "taxi_train_set.head()"
   ]
  },
  {
   "cell_type": "code",
   "execution_count": 8,
   "id": "finished-watts",
   "metadata": {
    "scrolled": true
   },
   "outputs": [
    {
     "name": "stdout",
     "output_type": "stream",
     "text": [
      "<class 'pandas.core.frame.DataFrame'>\n",
      "RangeIndex: 20000 entries, 0 to 19999\n",
      "Data columns (total 8 columns):\n",
      " #   Column             Non-Null Count  Dtype  \n",
      "---  ------             --------------  -----  \n",
      " 0   key                20000 non-null  object \n",
      " 1   fare_amount        20000 non-null  float64\n",
      " 2   pickup_datetime    20000 non-null  object \n",
      " 3   pickup_longitude   20000 non-null  float64\n",
      " 4   pickup_latitude    20000 non-null  float64\n",
      " 5   dropoff_longitude  20000 non-null  float64\n",
      " 6   dropoff_latitude   20000 non-null  float64\n",
      " 7   passenger_count    20000 non-null  int64  \n",
      "dtypes: float64(5), int64(1), object(2)\n",
      "memory usage: 1.2+ MB\n"
     ]
    }
   ],
   "source": [
    "taxi_train_set.info()"
   ]
  },
  {
   "cell_type": "code",
   "execution_count": 9,
   "id": "crude-immunology",
   "metadata": {
    "scrolled": true
   },
   "outputs": [
    {
     "data": {
      "text/html": [
       "<div>\n",
       "<style scoped>\n",
       "    .dataframe tbody tr th:only-of-type {\n",
       "        vertical-align: middle;\n",
       "    }\n",
       "\n",
       "    .dataframe tbody tr th {\n",
       "        vertical-align: top;\n",
       "    }\n",
       "\n",
       "    .dataframe thead th {\n",
       "        text-align: right;\n",
       "    }\n",
       "</style>\n",
       "<table border=\"1\" class=\"dataframe\">\n",
       "  <thead>\n",
       "    <tr style=\"text-align: right;\">\n",
       "      <th></th>\n",
       "      <th>fare_amount</th>\n",
       "      <th>pickup_longitude</th>\n",
       "      <th>pickup_latitude</th>\n",
       "      <th>dropoff_longitude</th>\n",
       "      <th>dropoff_latitude</th>\n",
       "      <th>passenger_count</th>\n",
       "    </tr>\n",
       "  </thead>\n",
       "  <tbody>\n",
       "    <tr>\n",
       "      <th>count</th>\n",
       "      <td>20000.000000</td>\n",
       "      <td>20000.000000</td>\n",
       "      <td>20000.000000</td>\n",
       "      <td>20000.000000</td>\n",
       "      <td>20000.000000</td>\n",
       "      <td>20000.000000</td>\n",
       "    </tr>\n",
       "    <tr>\n",
       "      <th>mean</th>\n",
       "      <td>11.303321</td>\n",
       "      <td>-72.478584</td>\n",
       "      <td>39.921043</td>\n",
       "      <td>-72.497221</td>\n",
       "      <td>39.913606</td>\n",
       "      <td>1.658000</td>\n",
       "    </tr>\n",
       "    <tr>\n",
       "      <th>std</th>\n",
       "      <td>9.541637</td>\n",
       "      <td>10.525376</td>\n",
       "      <td>6.678592</td>\n",
       "      <td>10.460530</td>\n",
       "      <td>6.139231</td>\n",
       "      <td>1.283674</td>\n",
       "    </tr>\n",
       "    <tr>\n",
       "      <th>min</th>\n",
       "      <td>-3.000000</td>\n",
       "      <td>-74.438233</td>\n",
       "      <td>-74.006893</td>\n",
       "      <td>-84.654241</td>\n",
       "      <td>-74.006377</td>\n",
       "      <td>0.000000</td>\n",
       "    </tr>\n",
       "    <tr>\n",
       "      <th>25%</th>\n",
       "      <td>6.000000</td>\n",
       "      <td>-73.992150</td>\n",
       "      <td>40.734706</td>\n",
       "      <td>-73.991224</td>\n",
       "      <td>40.734537</td>\n",
       "      <td>1.000000</td>\n",
       "    </tr>\n",
       "    <tr>\n",
       "      <th>50%</th>\n",
       "      <td>8.500000</td>\n",
       "      <td>-73.981711</td>\n",
       "      <td>40.752680</td>\n",
       "      <td>-73.980216</td>\n",
       "      <td>40.753583</td>\n",
       "      <td>1.000000</td>\n",
       "    </tr>\n",
       "    <tr>\n",
       "      <th>75%</th>\n",
       "      <td>12.500000</td>\n",
       "      <td>-73.966802</td>\n",
       "      <td>40.767443</td>\n",
       "      <td>-73.963729</td>\n",
       "      <td>40.768135</td>\n",
       "      <td>2.000000</td>\n",
       "    </tr>\n",
       "    <tr>\n",
       "      <th>max</th>\n",
       "      <td>180.000000</td>\n",
       "      <td>40.766125</td>\n",
       "      <td>401.083332</td>\n",
       "      <td>40.802437</td>\n",
       "      <td>41.366138</td>\n",
       "      <td>6.000000</td>\n",
       "    </tr>\n",
       "  </tbody>\n",
       "</table>\n",
       "</div>"
      ],
      "text/plain": [
       "        fare_amount  pickup_longitude  pickup_latitude  dropoff_longitude  \\\n",
       "count  20000.000000      20000.000000     20000.000000       20000.000000   \n",
       "mean      11.303321        -72.478584        39.921043         -72.497221   \n",
       "std        9.541637         10.525376         6.678592          10.460530   \n",
       "min       -3.000000        -74.438233       -74.006893         -84.654241   \n",
       "25%        6.000000        -73.992150        40.734706         -73.991224   \n",
       "50%        8.500000        -73.981711        40.752680         -73.980216   \n",
       "75%       12.500000        -73.966802        40.767443         -73.963729   \n",
       "max      180.000000         40.766125       401.083332          40.802437   \n",
       "\n",
       "       dropoff_latitude  passenger_count  \n",
       "count      20000.000000     20000.000000  \n",
       "mean          39.913606         1.658000  \n",
       "std            6.139231         1.283674  \n",
       "min          -74.006377         0.000000  \n",
       "25%           40.734537         1.000000  \n",
       "50%           40.753583         1.000000  \n",
       "75%           40.768135         2.000000  \n",
       "max           41.366138         6.000000  "
      ]
     },
     "execution_count": 9,
     "metadata": {},
     "output_type": "execute_result"
    }
   ],
   "source": [
    "taxi_train_set.describe()"
   ]
  },
  {
   "cell_type": "code",
   "execution_count": 10,
   "id": "thorough-southwest",
   "metadata": {
    "scrolled": true
   },
   "outputs": [
    {
     "data": {
      "text/plain": [
       "6.50     951\n",
       "4.50     834\n",
       "8.50     774\n",
       "5.30     574\n",
       "6.10     565\n",
       "        ... \n",
       "37.53      1\n",
       "41.04      1\n",
       "59.10      1\n",
       "22.54      1\n",
       "28.54      1\n",
       "Name: fare_amount, Length: 483, dtype: int64"
      ]
     },
     "execution_count": 10,
     "metadata": {},
     "output_type": "execute_result"
    }
   ],
   "source": [
    "taxi_train_set[\"fare_amount\"].value_counts()"
   ]
  },
  {
   "cell_type": "code",
   "execution_count": 11,
   "id": "previous-feedback",
   "metadata": {},
   "outputs": [
    {
     "data": {
      "text/plain": [
       "key                  0\n",
       "fare_amount          0\n",
       "pickup_datetime      0\n",
       "pickup_longitude     0\n",
       "pickup_latitude      0\n",
       "dropoff_longitude    0\n",
       "dropoff_latitude     0\n",
       "passenger_count      0\n",
       "dtype: int64"
      ]
     },
     "execution_count": 11,
     "metadata": {},
     "output_type": "execute_result"
    }
   ],
   "source": [
    "# % of missing values\n",
    "taxi_train_set.isna().sum()"
   ]
  },
  {
   "cell_type": "code",
   "execution_count": 12,
   "id": "alive-ethiopia",
   "metadata": {},
   "outputs": [
    {
     "name": "stdout",
     "output_type": "stream",
     "text": [
      "Percentage of missing variables for each feature:\n",
      "key                  0.0\n",
      "fare_amount          0.0\n",
      "pickup_datetime      0.0\n",
      "pickup_longitude     0.0\n",
      "pickup_latitude      0.0\n",
      "dropoff_longitude    0.0\n",
      "dropoff_latitude     0.0\n",
      "passenger_count      0.0\n",
      "dtype: float64\n"
     ]
    }
   ],
   "source": [
    "# Show the percentage of missing values for each column (We create a function because we will use it repeatedly)\n",
    "def display_na(df): \n",
    "    \"\"\"\n",
    "    The function displays the percentage of missing values for each column of the dataframe.\n",
    "    \n",
    "    :param df: pandas dataframe whose missing values to be displayed\n",
    "    \"\"\"\n",
    "    \n",
    "    print(\"Percentage of missing variables for each feature:\")\n",
    "    print(df.isnull().sum(axis=0) * 100 / len(df))\n",
    "    \n",
    "display_na(taxi_train_set)"
   ]
  },
  {
   "cell_type": "markdown",
   "id": "located-charleston",
   "metadata": {},
   "source": [
    "Each row represents one race. There are 7 attributes: `key`, `pickup_datetime`, `pickup_longitude`, `pickup_latitude`, `dropoff_longitude`, `dropoff_latitude` and `passenger_count`.\n",
    "\n",
    "All attributes are numerical except the `key` and the `pickup_datetime` fields. For `pickup_datetime`, its type is object, but we know that it must be a date attribute. `key` is the combination of `pickup_datetime` and an id.\n",
    "\n",
    "There are 20,000 instances in the dataset. Notice that none of the attributes contain null values in our reduced dataset."
   ]
  },
  {
   "cell_type": "code",
   "execution_count": 13,
   "id": "aboriginal-aging",
   "metadata": {},
   "outputs": [
    {
     "data": {
      "text/plain": [
       "('2009-01-01 01:31:49 UTC', '2015-06-30 22:42:39 UTC')"
      ]
     },
     "execution_count": 13,
     "metadata": {},
     "output_type": "execute_result"
    }
   ],
   "source": [
    "taxi_train_set['pickup_datetime'].min(), taxi_train_set['pickup_datetime'].max()"
   ]
  },
  {
   "cell_type": "markdown",
   "id": "rental-multiple",
   "metadata": {},
   "source": [
    "This is a **6 years and a half** dataset that we need to explore and try to make different analysis on each of its features."
   ]
  },
  {
   "cell_type": "markdown",
   "id": "applicable-workstation",
   "metadata": {},
   "source": [
    "### Different transformations on our data\n",
    "\n",
    "**Parsing dates:** As we are working with time series data, we want to enrich the time and date component as much as possible."
   ]
  },
  {
   "cell_type": "code",
   "execution_count": 14,
   "id": "distinguished-syracuse",
   "metadata": {},
   "outputs": [
    {
     "data": {
      "text/html": [
       "<div>\n",
       "<style scoped>\n",
       "    .dataframe tbody tr th:only-of-type {\n",
       "        vertical-align: middle;\n",
       "    }\n",
       "\n",
       "    .dataframe tbody tr th {\n",
       "        vertical-align: top;\n",
       "    }\n",
       "\n",
       "    .dataframe thead th {\n",
       "        text-align: right;\n",
       "    }\n",
       "</style>\n",
       "<table border=\"1\" class=\"dataframe\">\n",
       "  <thead>\n",
       "    <tr style=\"text-align: right;\">\n",
       "      <th></th>\n",
       "      <th>key</th>\n",
       "      <th>fare_amount</th>\n",
       "      <th>pickup_datetime</th>\n",
       "      <th>pickup_longitude</th>\n",
       "      <th>pickup_latitude</th>\n",
       "      <th>dropoff_longitude</th>\n",
       "      <th>dropoff_latitude</th>\n",
       "      <th>passenger_count</th>\n",
       "    </tr>\n",
       "  </thead>\n",
       "  <tbody>\n",
       "    <tr>\n",
       "      <th>0</th>\n",
       "      <td>2009-06-15 17:26:21.0000001</td>\n",
       "      <td>4.5</td>\n",
       "      <td>2009-06-15 17:26:21+00:00</td>\n",
       "      <td>-73.844311</td>\n",
       "      <td>40.721319</td>\n",
       "      <td>-73.841610</td>\n",
       "      <td>40.712278</td>\n",
       "      <td>1</td>\n",
       "    </tr>\n",
       "    <tr>\n",
       "      <th>1</th>\n",
       "      <td>2010-01-05 16:52:16.0000002</td>\n",
       "      <td>16.9</td>\n",
       "      <td>2010-01-05 16:52:16+00:00</td>\n",
       "      <td>-74.016048</td>\n",
       "      <td>40.711303</td>\n",
       "      <td>-73.979268</td>\n",
       "      <td>40.782004</td>\n",
       "      <td>1</td>\n",
       "    </tr>\n",
       "    <tr>\n",
       "      <th>2</th>\n",
       "      <td>2011-08-18 00:35:00.00000049</td>\n",
       "      <td>5.7</td>\n",
       "      <td>2011-08-18 00:35:00+00:00</td>\n",
       "      <td>-73.982738</td>\n",
       "      <td>40.761270</td>\n",
       "      <td>-73.991242</td>\n",
       "      <td>40.750562</td>\n",
       "      <td>2</td>\n",
       "    </tr>\n",
       "    <tr>\n",
       "      <th>3</th>\n",
       "      <td>2012-04-21 04:30:42.0000001</td>\n",
       "      <td>7.7</td>\n",
       "      <td>2012-04-21 04:30:42+00:00</td>\n",
       "      <td>-73.987130</td>\n",
       "      <td>40.733143</td>\n",
       "      <td>-73.991567</td>\n",
       "      <td>40.758092</td>\n",
       "      <td>1</td>\n",
       "    </tr>\n",
       "    <tr>\n",
       "      <th>4</th>\n",
       "      <td>2010-03-09 07:51:00.000000135</td>\n",
       "      <td>5.3</td>\n",
       "      <td>2010-03-09 07:51:00+00:00</td>\n",
       "      <td>-73.968095</td>\n",
       "      <td>40.768008</td>\n",
       "      <td>-73.956655</td>\n",
       "      <td>40.783762</td>\n",
       "      <td>1</td>\n",
       "    </tr>\n",
       "  </tbody>\n",
       "</table>\n",
       "</div>"
      ],
      "text/plain": [
       "                             key  fare_amount           pickup_datetime  \\\n",
       "0    2009-06-15 17:26:21.0000001          4.5 2009-06-15 17:26:21+00:00   \n",
       "1    2010-01-05 16:52:16.0000002         16.9 2010-01-05 16:52:16+00:00   \n",
       "2   2011-08-18 00:35:00.00000049          5.7 2011-08-18 00:35:00+00:00   \n",
       "3    2012-04-21 04:30:42.0000001          7.7 2012-04-21 04:30:42+00:00   \n",
       "4  2010-03-09 07:51:00.000000135          5.3 2010-03-09 07:51:00+00:00   \n",
       "\n",
       "   pickup_longitude  pickup_latitude  dropoff_longitude  dropoff_latitude  \\\n",
       "0        -73.844311        40.721319         -73.841610         40.712278   \n",
       "1        -74.016048        40.711303         -73.979268         40.782004   \n",
       "2        -73.982738        40.761270         -73.991242         40.750562   \n",
       "3        -73.987130        40.733143         -73.991567         40.758092   \n",
       "4        -73.968095        40.768008         -73.956655         40.783762   \n",
       "\n",
       "   passenger_count  \n",
       "0                1  \n",
       "1                1  \n",
       "2                2  \n",
       "3                1  \n",
       "4                1  "
      ]
     },
     "execution_count": 14,
     "metadata": {},
     "output_type": "execute_result"
    }
   ],
   "source": [
    "# We import the data again but we parse dates\n",
    "taxi_train_set = pd.read_csv(\"datasets/new-york-city-taxi/train.csv\", nrows=NB_ROWS,\n",
    "                  low_memory=False,\n",
    "                  parse_dates=[\"pickup_datetime\"])\n",
    "taxi_train_set.head()"
   ]
  },
  {
   "cell_type": "code",
   "execution_count": 15,
   "id": "south-cleanup",
   "metadata": {},
   "outputs": [
    {
     "data": {
      "text/plain": [
       "datetime64[ns, UTC]"
      ]
     },
     "execution_count": 15,
     "metadata": {},
     "output_type": "execute_result"
    }
   ],
   "source": [
    "taxi_train_set.pickup_datetime.dtype"
   ]
  },
  {
   "cell_type": "code",
   "execution_count": 16,
   "id": "suburban-latest",
   "metadata": {},
   "outputs": [
    {
     "data": {
      "text/plain": [
       "0   2009-06-15 17:26:21+00:00\n",
       "1   2010-01-05 16:52:16+00:00\n",
       "2   2011-08-18 00:35:00+00:00\n",
       "3   2012-04-21 04:30:42+00:00\n",
       "4   2010-03-09 07:51:00+00:00\n",
       "5   2011-01-06 09:50:45+00:00\n",
       "6   2012-11-20 20:35:00+00:00\n",
       "7   2012-01-04 17:22:00+00:00\n",
       "8   2012-12-03 13:10:00+00:00\n",
       "9   2009-09-02 01:11:00+00:00\n",
       "Name: pickup_datetime, dtype: datetime64[ns, UTC]"
      ]
     },
     "execution_count": 16,
     "metadata": {},
     "output_type": "execute_result"
    }
   ],
   "source": [
    "taxi_train_set.pickup_datetime[:10]"
   ]
  },
  {
   "cell_type": "code",
   "execution_count": 17,
   "id": "floppy-works",
   "metadata": {},
   "outputs": [
    {
     "data": {
      "image/png": "[encoded data removed]",
      "text/plain": [
       "<Figure size 432x288 with 1 Axes>"
      ]
     },
     "metadata": {
      "needs_background": "light"
     },
     "output_type": "display_data"
    }
   ],
   "source": [
    "fig, ax = plt.subplots()\n",
    "ax.scatter(taxi_train_set[\"pickup_datetime\"][:1000], taxi_train_set[\"fare_amount\"][:1000]);"
   ]
  },
  {
   "cell_type": "code",
   "execution_count": 18,
   "id": "double-slave",
   "metadata": {},
   "outputs": [
    {
     "data": {
      "text/plain": [
       "12739   2009-01-01 01:31:49+00:00\n",
       "17546   2009-01-01 02:05:37+00:00\n",
       "8684    2009-01-01 02:51:52+00:00\n",
       "11623   2009-01-01 15:19:00+00:00\n",
       "10004   2009-01-01 16:52:00+00:00\n",
       "7756    2009-01-01 17:07:00+00:00\n",
       "13904   2009-01-01 19:57:19+00:00\n",
       "16313   2009-01-01 22:40:03+00:00\n",
       "2354    2009-01-02 02:32:41+00:00\n",
       "7704    2009-01-02 06:35:00+00:00\n",
       "Name: pickup_datetime, dtype: datetime64[ns, UTC]"
      ]
     },
     "execution_count": 18,
     "metadata": {},
     "output_type": "execute_result"
    }
   ],
   "source": [
    "# Sort DataFrame in date order\n",
    "taxi_train_set.sort_values(by=[\"pickup_datetime\"], inplace=True, ascending=True)\n",
    "taxi_train_set.pickup_datetime.head(10)"
   ]
  },
  {
   "cell_type": "code",
   "execution_count": 19,
   "id": "mobile-repeat",
   "metadata": {},
   "outputs": [],
   "source": [
    "# Add datetime parameters for pickup_datetime column\n",
    "taxi_train_set[\"pickupYear\"] = taxi_train_set.pickup_datetime.dt.year\n",
    "taxi_train_set[\"pickupMonth\"] = taxi_train_set.pickup_datetime.dt.month\n",
    "taxi_train_set[\"pickupDay\"] = taxi_train_set.pickup_datetime.dt.day\n",
    "taxi_train_set[\"pickupDayOfWeek\"] = taxi_train_set.pickup_datetime.dt.dayofweek\n",
    "taxi_train_set[\"pickupDayOfYear\"] = taxi_train_set.pickup_datetime.dt.dayofyear\n",
    "taxi_train_set[\"pickupHour\"] = taxi_train_set.pickup_datetime.dt.hour"
   ]
  },
  {
   "cell_type": "code",
   "execution_count": 20,
   "id": "unavailable-tradition",
   "metadata": {},
   "outputs": [
    {
     "data": {
      "text/html": [
       "<div>\n",
       "<style scoped>\n",
       "    .dataframe tbody tr th:only-of-type {\n",
       "        vertical-align: middle;\n",
       "    }\n",
       "\n",
       "    .dataframe tbody tr th {\n",
       "        vertical-align: top;\n",
       "    }\n",
       "\n",
       "    .dataframe thead th {\n",
       "        text-align: right;\n",
       "    }\n",
       "</style>\n",
       "<table border=\"1\" class=\"dataframe\">\n",
       "  <thead>\n",
       "    <tr style=\"text-align: right;\">\n",
       "      <th></th>\n",
       "      <th>12739</th>\n",
       "      <th>17546</th>\n",
       "      <th>8684</th>\n",
       "      <th>11623</th>\n",
       "      <th>10004</th>\n",
       "    </tr>\n",
       "  </thead>\n",
       "  <tbody>\n",
       "    <tr>\n",
       "      <th>key</th>\n",
       "      <td>2009-01-01 01:31:49.0000003</td>\n",
       "      <td>2009-01-01 02:05:37.0000004</td>\n",
       "      <td>2009-01-01 02:51:52.0000002</td>\n",
       "      <td>2009-01-01 15:19:00.000000146</td>\n",
       "      <td>2009-01-01 16:52:00.00000053</td>\n",
       "    </tr>\n",
       "    <tr>\n",
       "      <th>fare_amount</th>\n",
       "      <td>8.600000</td>\n",
       "      <td>11.000000</td>\n",
       "      <td>10.200000</td>\n",
       "      <td>5.300000</td>\n",
       "      <td>8.500000</td>\n",
       "    </tr>\n",
       "    <tr>\n",
       "      <th>pickup_datetime</th>\n",
       "      <td>2009-01-01 01:31:49+00:00</td>\n",
       "      <td>2009-01-01 02:05:37+00:00</td>\n",
       "      <td>2009-01-01 02:51:52+00:00</td>\n",
       "      <td>2009-01-01 15:19:00+00:00</td>\n",
       "      <td>2009-01-01 16:52:00+00:00</td>\n",
       "    </tr>\n",
       "    <tr>\n",
       "      <th>pickup_longitude</th>\n",
       "      <td>-73.994192</td>\n",
       "      <td>-73.978433</td>\n",
       "      <td>-73.956172</td>\n",
       "      <td>-73.949937</td>\n",
       "      <td>-73.967647</td>\n",
       "    </tr>\n",
       "    <tr>\n",
       "      <th>pickup_latitude</th>\n",
       "      <td>40.720077</td>\n",
       "      <td>40.744781</td>\n",
       "      <td>40.771965</td>\n",
       "      <td>40.784427</td>\n",
       "      <td>40.763077</td>\n",
       "    </tr>\n",
       "    <tr>\n",
       "      <th>dropoff_longitude</th>\n",
       "      <td>-73.993356</td>\n",
       "      <td>-74.004713</td>\n",
       "      <td>-73.991027</td>\n",
       "      <td>-73.948735</td>\n",
       "      <td>-73.977438</td>\n",
       "    </tr>\n",
       "    <tr>\n",
       "      <th>dropoff_latitude</th>\n",
       "      <td>40.742642</td>\n",
       "      <td>40.734328</td>\n",
       "      <td>40.751035</td>\n",
       "      <td>40.773738</td>\n",
       "      <td>40.787097</td>\n",
       "    </tr>\n",
       "    <tr>\n",
       "      <th>passenger_count</th>\n",
       "      <td>1</td>\n",
       "      <td>1</td>\n",
       "      <td>2</td>\n",
       "      <td>5</td>\n",
       "      <td>2</td>\n",
       "    </tr>\n",
       "    <tr>\n",
       "      <th>pickupYear</th>\n",
       "      <td>2009</td>\n",
       "      <td>2009</td>\n",
       "      <td>2009</td>\n",
       "      <td>2009</td>\n",
       "      <td>2009</td>\n",
       "    </tr>\n",
       "    <tr>\n",
       "      <th>pickupMonth</th>\n",
       "      <td>1</td>\n",
       "      <td>1</td>\n",
       "      <td>1</td>\n",
       "      <td>1</td>\n",
       "      <td>1</td>\n",
       "    </tr>\n",
       "    <tr>\n",
       "      <th>pickupDay</th>\n",
       "      <td>1</td>\n",
       "      <td>1</td>\n",
       "      <td>1</td>\n",
       "      <td>1</td>\n",
       "      <td>1</td>\n",
       "    </tr>\n",
       "    <tr>\n",
       "      <th>pickupDayOfWeek</th>\n",
       "      <td>3</td>\n",
       "      <td>3</td>\n",
       "      <td>3</td>\n",
       "      <td>3</td>\n",
       "      <td>3</td>\n",
       "    </tr>\n",
       "    <tr>\n",
       "      <th>pickupDayOfYear</th>\n",
       "      <td>1</td>\n",
       "      <td>1</td>\n",
       "      <td>1</td>\n",
       "      <td>1</td>\n",
       "      <td>1</td>\n",
       "    </tr>\n",
       "    <tr>\n",
       "      <th>pickupHour</th>\n",
       "      <td>1</td>\n",
       "      <td>2</td>\n",
       "      <td>2</td>\n",
       "      <td>15</td>\n",
       "      <td>16</td>\n",
       "    </tr>\n",
       "  </tbody>\n",
       "</table>\n",
       "</div>"
      ],
      "text/plain": [
       "                                         12739                        17546  \\\n",
       "key                2009-01-01 01:31:49.0000003  2009-01-01 02:05:37.0000004   \n",
       "fare_amount                           8.600000                    11.000000   \n",
       "pickup_datetime      2009-01-01 01:31:49+00:00    2009-01-01 02:05:37+00:00   \n",
       "pickup_longitude                    -73.994192                   -73.978433   \n",
       "pickup_latitude                      40.720077                    40.744781   \n",
       "dropoff_longitude                   -73.993356                   -74.004713   \n",
       "dropoff_latitude                     40.742642                    40.734328   \n",
       "passenger_count                              1                            1   \n",
       "pickupYear                                2009                         2009   \n",
       "pickupMonth                                  1                            1   \n",
       "pickupDay                                    1                            1   \n",
       "pickupDayOfWeek                              3                            3   \n",
       "pickupDayOfYear                              1                            1   \n",
       "pickupHour                                   1                            2   \n",
       "\n",
       "                                         8684                           11623  \\\n",
       "key                2009-01-01 02:51:52.0000002  2009-01-01 15:19:00.000000146   \n",
       "fare_amount                          10.200000                       5.300000   \n",
       "pickup_datetime      2009-01-01 02:51:52+00:00      2009-01-01 15:19:00+00:00   \n",
       "pickup_longitude                    -73.956172                     -73.949937   \n",
       "pickup_latitude                      40.771965                      40.784427   \n",
       "dropoff_longitude                   -73.991027                     -73.948735   \n",
       "dropoff_latitude                     40.751035                      40.773738   \n",
       "passenger_count                              2                              5   \n",
       "pickupYear                                2009                           2009   \n",
       "pickupMonth                                  1                              1   \n",
       "pickupDay                                    1                              1   \n",
       "pickupDayOfWeek                              3                              3   \n",
       "pickupDayOfYear                              1                              1   \n",
       "pickupHour                                   2                             15   \n",
       "\n",
       "                                          10004  \n",
       "key                2009-01-01 16:52:00.00000053  \n",
       "fare_amount                            8.500000  \n",
       "pickup_datetime       2009-01-01 16:52:00+00:00  \n",
       "pickup_longitude                     -73.967647  \n",
       "pickup_latitude                       40.763077  \n",
       "dropoff_longitude                    -73.977438  \n",
       "dropoff_latitude                      40.787097  \n",
       "passenger_count                               2  \n",
       "pickupYear                                 2009  \n",
       "pickupMonth                                   1  \n",
       "pickupDay                                     1  \n",
       "pickupDayOfWeek                               3  \n",
       "pickupDayOfYear                               1  \n",
       "pickupHour                                   16  "
      ]
     },
     "execution_count": 20,
     "metadata": {},
     "output_type": "execute_result"
    }
   ],
   "source": [
    "taxi_train_set.head().T"
   ]
  },
  {
   "cell_type": "code",
   "execution_count": 21,
   "id": "joint-filling",
   "metadata": {},
   "outputs": [],
   "source": [
    "# We don't need the pickup_datetime attribute anymore\n",
    "taxi_train_set.drop(\"pickup_datetime\", axis=1, inplace=True)"
   ]
  },
  {
   "cell_type": "markdown",
   "id": "incoming-nightlife",
   "metadata": {},
   "source": [
    "### Visualizing the Data"
   ]
  },
  {
   "cell_type": "code",
   "execution_count": 22,
   "id": "rubber-hampshire",
   "metadata": {},
   "outputs": [
    {
     "data": {
      "image/png": "[encoded data removed]",
      "text/plain": [
       "<Figure size 1440x1080 with 12 Axes>"
      ]
     },
     "metadata": {
      "needs_background": "light"
     },
     "output_type": "display_data"
    }
   ],
   "source": [
    "taxi_train_set.hist(bins=30, figsize=(20,15))\n",
    "plt.show()"
   ]
  },
  {
   "cell_type": "markdown",
   "id": "possible-console",
   "metadata": {},
   "source": [
    "We notice that some attributes have a tail-heavy distribution. It seems maybe that long/lat have outliers.\n",
    "----left-skewed distribution. We can apply log after scaling it, to have better results for the prediction."
   ]
  },
  {
   "cell_type": "code",
   "execution_count": 23,
   "id": "urban-battle",
   "metadata": {},
   "outputs": [
    {
     "data": {
      "text/html": [
       "<div>\n",
       "<style scoped>\n",
       "    .dataframe tbody tr th:only-of-type {\n",
       "        vertical-align: middle;\n",
       "    }\n",
       "\n",
       "    .dataframe tbody tr th {\n",
       "        vertical-align: top;\n",
       "    }\n",
       "\n",
       "    .dataframe thead th {\n",
       "        text-align: right;\n",
       "    }\n",
       "</style>\n",
       "<table border=\"1\" class=\"dataframe\">\n",
       "  <thead>\n",
       "    <tr style=\"text-align: right;\">\n",
       "      <th></th>\n",
       "      <th>fare_amount</th>\n",
       "      <th>dropoff_longitude</th>\n",
       "    </tr>\n",
       "  </thead>\n",
       "  <tbody>\n",
       "    <tr>\n",
       "      <th>12739</th>\n",
       "      <td>8.6</td>\n",
       "      <td>-73.993356</td>\n",
       "    </tr>\n",
       "    <tr>\n",
       "      <th>17546</th>\n",
       "      <td>11.0</td>\n",
       "      <td>-74.004713</td>\n",
       "    </tr>\n",
       "    <tr>\n",
       "      <th>8684</th>\n",
       "      <td>10.2</td>\n",
       "      <td>-73.991027</td>\n",
       "    </tr>\n",
       "    <tr>\n",
       "      <th>11623</th>\n",
       "      <td>5.3</td>\n",
       "      <td>-73.948735</td>\n",
       "    </tr>\n",
       "    <tr>\n",
       "      <th>10004</th>\n",
       "      <td>8.5</td>\n",
       "      <td>-73.977438</td>\n",
       "    </tr>\n",
       "  </tbody>\n",
       "</table>\n",
       "</div>"
      ],
      "text/plain": [
       "       fare_amount  dropoff_longitude\n",
       "12739          8.6         -73.993356\n",
       "17546         11.0         -74.004713\n",
       "8684          10.2         -73.991027\n",
       "11623          5.3         -73.948735\n",
       "10004          8.5         -73.977438"
      ]
     },
     "execution_count": 23,
     "metadata": {},
     "output_type": "execute_result"
    }
   ],
   "source": [
    "pickup_analysis = taxi_train_set[['fare_amount','dropoff_longitude']]\n",
    "pickup_analysis.head()"
   ]
  },
  {
   "cell_type": "code",
   "execution_count": 24,
   "id": "interstate-console",
   "metadata": {},
   "outputs": [
    {
     "data": {
      "image/png": "[encoded data removed]",
      "text/plain": [
       "<Figure size 432x288 with 1 Axes>"
      ]
     },
     "metadata": {
      "needs_background": "light"
     },
     "output_type": "display_data"
    }
   ],
   "source": [
    "ax = sns.kdeplot(pickup_analysis['dropoff_longitude'])\n",
    "plt.show()"
   ]
  },
  {
   "cell_type": "code",
   "execution_count": 25,
   "id": "statistical-sunset",
   "metadata": {},
   "outputs": [
    {
     "data": {
      "image/png": "[encoded data removed]",
      "text/plain": [
       "<Figure size 432x288 with 1 Axes>"
      ]
     },
     "metadata": {
      "needs_background": "light"
     },
     "output_type": "display_data"
    }
   ],
   "source": [
    "ax = sns.kdeplot(np.log( pickup_analysis['dropoff_longitude'] / np.max(pickup_analysis['dropoff_longitude']) ))\n",
    "plt.show()"
   ]
  },
  {
   "cell_type": "code",
   "execution_count": 26,
   "id": "unsigned-plant",
   "metadata": {},
   "outputs": [
    {
     "data": {
      "text/plain": [
       "<matplotlib.legend.Legend at 0x7ff411534250>"
      ]
     },
     "execution_count": 26,
     "metadata": {},
     "output_type": "execute_result"
    },
    {
     "data": {
      "image/png": "[encoded data removed]",
      "text/plain": [
       "<Figure size 1152x648 with 1 Axes>"
      ]
     },
     "metadata": {
      "needs_background": "light"
     },
     "output_type": "display_data"
    }
   ],
   "source": [
    "taxi_hours = taxi_train_set[[\"pickupHour\"]]\n",
    "taxi_hours['count'] = 1\n",
    "taxi_hours = taxi_hours.groupby('pickupHour').agg('sum')\n",
    "#taxi_hours = taxi_hours.drop(columns=['pickup'])\n",
    "\n",
    "ax = taxi_hours.plot(kind='bar', figsize=(16,9))\n",
    "ax.legend([\"Number of ride per hour\"])\n"
   ]
  },
  {
   "cell_type": "code",
   "execution_count": 27,
   "id": "favorite-sunset",
   "metadata": {},
   "outputs": [
    {
     "data": {
      "text/plain": [
       "1    13999\n",
       "2     2912\n",
       "5     1327\n",
       "3      860\n",
       "4      420\n",
       "6      407\n",
       "0       75\n",
       "Name: passenger_count, dtype: int64"
      ]
     },
     "execution_count": 27,
     "metadata": {},
     "output_type": "execute_result"
    }
   ],
   "source": [
    "taxi_train_set.passenger_count.value_counts()"
   ]
  },
  {
   "cell_type": "markdown",
   "id": "biological-newcastle",
   "metadata": {},
   "source": [
    "#### Visualizing Geographical Data\n",
    "\n",
    "Since there is geographical information (`latitude`, `longitude`), it is a good idea to plot the data of all taxi rides."
   ]
  },
  {
   "cell_type": "code",
   "execution_count": 28,
   "id": "instructional-consequence",
   "metadata": {},
   "outputs": [
    {
     "name": "stderr",
     "output_type": "stream",
     "text": [
      "*c* argument looks like a single numeric RGB or RGBA sequence, which should be avoided as value-mapping will have precedence in case its length matches with *x* & *y*.  Please use the *color* keyword-argument or provide a 2-D array with a single row if you intend to specify the same RGB or RGBA value for all points.\n"
     ]
    },
    {
     "data": {
      "image/png": "[encoded data removed]",
      "text/plain": [
       "<Figure size 432x288 with 1 Axes>"
      ]
     },
     "metadata": {
      "needs_background": "light"
     },
     "output_type": "display_data"
    }
   ],
   "source": [
    "taxi_train_set.plot(kind=\"scatter\", x=\"pickup_longitude\", y=\"pickup_latitude\");"
   ]
  },
  {
   "cell_type": "code",
   "execution_count": 29,
   "id": "prompt-hampton",
   "metadata": {},
   "outputs": [
    {
     "name": "stderr",
     "output_type": "stream",
     "text": [
      "*c* argument looks like a single numeric RGB or RGBA sequence, which should be avoided as value-mapping will have precedence in case its length matches with *x* & *y*.  Please use the *color* keyword-argument or provide a 2-D array with a single row if you intend to specify the same RGB or RGBA value for all points.\n"
     ]
    },
    {
     "data": {
      "image/png": "[encoded data removed]",
      "text/plain": [
       "<Figure size 432x288 with 1 Axes>"
      ]
     },
     "metadata": {
      "needs_background": "light"
     },
     "output_type": "display_data"
    }
   ],
   "source": [
    "taxi_train_set.plot(kind=\"scatter\", x=\"dropoff_longitude\", y=\"dropoff_latitude\");"
   ]
  },
  {
   "cell_type": "code",
   "execution_count": 30,
   "id": "ambient-violation",
   "metadata": {},
   "outputs": [
    {
     "name": "stdout",
     "output_type": "stream",
     "text": [
      "The median is -73.981711 and mean is -72.47858398189526\n"
     ]
    },
    {
     "data": {
      "image/png": "[encoded data removed]",
      "text/plain": [
       "<Figure size 432x288 with 1 Axes>"
      ]
     },
     "metadata": {
      "needs_background": "light"
     },
     "output_type": "display_data"
    }
   ],
   "source": [
    "# Plotting the box\n",
    "taxi_train_set.pickup_longitude.plot.box() \n",
    "print(\"The median is\", taxi_train_set.pickup_longitude.median(), \"and mean is\", taxi_train_set.pickup_longitude.mean())"
   ]
  },
  {
   "cell_type": "code",
   "execution_count": 31,
   "id": "wrong-pledge",
   "metadata": {},
   "outputs": [
    {
     "name": "stdout",
     "output_type": "stream",
     "text": [
      "The median is 40.7526805 and mean is 39.921043062272204\n"
     ]
    },
    {
     "data": {
      "image/png": "[encoded data removed]",
      "text/plain": [
       "<Figure size 432x288 with 1 Axes>"
      ]
     },
     "metadata": {
      "needs_background": "light"
     },
     "output_type": "display_data"
    }
   ],
   "source": [
    "# Plotting the box\n",
    "taxi_train_set.pickup_latitude.plot.box() \n",
    "print(\"The median is\", taxi_train_set.pickup_latitude.median(), \"and mean is\", taxi_train_set.pickup_latitude.mean())"
   ]
  },
  {
   "cell_type": "markdown",
   "id": "inclusive-installation",
   "metadata": {},
   "source": [
    "#### Looking for Correlations\n",
    "\n",
    "Now let's look at how much each attribute correlates with the fare amount value."
   ]
  },
  {
   "cell_type": "code",
   "execution_count": 32,
   "id": "seven-steel",
   "metadata": {},
   "outputs": [
    {
     "data": {
      "text/html": [
       "<div>\n",
       "<style scoped>\n",
       "    .dataframe tbody tr th:only-of-type {\n",
       "        vertical-align: middle;\n",
       "    }\n",
       "\n",
       "    .dataframe tbody tr th {\n",
       "        vertical-align: top;\n",
       "    }\n",
       "\n",
       "    .dataframe thead th {\n",
       "        text-align: right;\n",
       "    }\n",
       "</style>\n",
       "<table border=\"1\" class=\"dataframe\">\n",
       "  <thead>\n",
       "    <tr style=\"text-align: right;\">\n",
       "      <th></th>\n",
       "      <th>fare_amount</th>\n",
       "      <th>pickup_longitude</th>\n",
       "      <th>pickup_latitude</th>\n",
       "      <th>dropoff_longitude</th>\n",
       "      <th>dropoff_latitude</th>\n",
       "      <th>passenger_count</th>\n",
       "      <th>pickupYear</th>\n",
       "      <th>pickupMonth</th>\n",
       "      <th>pickupDay</th>\n",
       "      <th>pickupDayOfWeek</th>\n",
       "      <th>pickupDayOfYear</th>\n",
       "      <th>pickupHour</th>\n",
       "    </tr>\n",
       "  </thead>\n",
       "  <tbody>\n",
       "    <tr>\n",
       "      <th>fare_amount</th>\n",
       "      <td>1.000000</td>\n",
       "      <td>0.013226</td>\n",
       "      <td>-0.015276</td>\n",
       "      <td>0.013114</td>\n",
       "      <td>-0.014112</td>\n",
       "      <td>0.010379</td>\n",
       "      <td>0.114919</td>\n",
       "      <td>0.033429</td>\n",
       "      <td>-0.006773</td>\n",
       "      <td>0.001337</td>\n",
       "      <td>0.032767</td>\n",
       "      <td>-0.028001</td>\n",
       "    </tr>\n",
       "    <tr>\n",
       "      <th>pickup_longitude</th>\n",
       "      <td>0.013226</td>\n",
       "      <td>1.000000</td>\n",
       "      <td>-0.907930</td>\n",
       "      <td>0.961721</td>\n",
       "      <td>-0.947875</td>\n",
       "      <td>-0.008849</td>\n",
       "      <td>-0.005754</td>\n",
       "      <td>-0.001873</td>\n",
       "      <td>-0.002855</td>\n",
       "      <td>0.001974</td>\n",
       "      <td>-0.002109</td>\n",
       "      <td>-0.005740</td>\n",
       "    </tr>\n",
       "    <tr>\n",
       "      <th>pickup_latitude</th>\n",
       "      <td>-0.015276</td>\n",
       "      <td>-0.907930</td>\n",
       "      <td>1.000000</td>\n",
       "      <td>-0.877113</td>\n",
       "      <td>0.894926</td>\n",
       "      <td>0.006015</td>\n",
       "      <td>0.001265</td>\n",
       "      <td>0.003306</td>\n",
       "      <td>0.003817</td>\n",
       "      <td>-0.000149</td>\n",
       "      <td>0.003630</td>\n",
       "      <td>0.004688</td>\n",
       "    </tr>\n",
       "    <tr>\n",
       "      <th>dropoff_longitude</th>\n",
       "      <td>0.013114</td>\n",
       "      <td>0.961721</td>\n",
       "      <td>-0.877113</td>\n",
       "      <td>1.000000</td>\n",
       "      <td>-0.977122</td>\n",
       "      <td>-0.007974</td>\n",
       "      <td>-0.007310</td>\n",
       "      <td>-0.001518</td>\n",
       "      <td>-0.004755</td>\n",
       "      <td>0.002041</td>\n",
       "      <td>-0.001923</td>\n",
       "      <td>-0.005655</td>\n",
       "    </tr>\n",
       "    <tr>\n",
       "      <th>dropoff_latitude</th>\n",
       "      <td>-0.014112</td>\n",
       "      <td>-0.947875</td>\n",
       "      <td>0.894926</td>\n",
       "      <td>-0.977122</td>\n",
       "      <td>1.000000</td>\n",
       "      <td>0.006698</td>\n",
       "      <td>0.004479</td>\n",
       "      <td>0.003093</td>\n",
       "      <td>0.000760</td>\n",
       "      <td>-0.002995</td>\n",
       "      <td>0.003196</td>\n",
       "      <td>0.006662</td>\n",
       "    </tr>\n",
       "    <tr>\n",
       "      <th>passenger_count</th>\n",
       "      <td>0.010379</td>\n",
       "      <td>-0.008849</td>\n",
       "      <td>0.006015</td>\n",
       "      <td>-0.007974</td>\n",
       "      <td>0.006698</td>\n",
       "      <td>1.000000</td>\n",
       "      <td>0.007972</td>\n",
       "      <td>0.009512</td>\n",
       "      <td>-0.000860</td>\n",
       "      <td>0.040471</td>\n",
       "      <td>0.009461</td>\n",
       "      <td>0.018208</td>\n",
       "    </tr>\n",
       "    <tr>\n",
       "      <th>pickupYear</th>\n",
       "      <td>0.114919</td>\n",
       "      <td>-0.005754</td>\n",
       "      <td>0.001265</td>\n",
       "      <td>-0.007310</td>\n",
       "      <td>0.004479</td>\n",
       "      <td>0.007972</td>\n",
       "      <td>1.000000</td>\n",
       "      <td>-0.123876</td>\n",
       "      <td>-0.022149</td>\n",
       "      <td>0.007048</td>\n",
       "      <td>-0.125263</td>\n",
       "      <td>-0.001446</td>\n",
       "    </tr>\n",
       "    <tr>\n",
       "      <th>pickupMonth</th>\n",
       "      <td>0.033429</td>\n",
       "      <td>-0.001873</td>\n",
       "      <td>0.003306</td>\n",
       "      <td>-0.001518</td>\n",
       "      <td>0.003093</td>\n",
       "      <td>0.009512</td>\n",
       "      <td>-0.123876</td>\n",
       "      <td>1.000000</td>\n",
       "      <td>-0.012861</td>\n",
       "      <td>-0.009721</td>\n",
       "      <td>0.996578</td>\n",
       "      <td>-0.005492</td>\n",
       "    </tr>\n",
       "    <tr>\n",
       "      <th>pickupDay</th>\n",
       "      <td>-0.006773</td>\n",
       "      <td>-0.002855</td>\n",
       "      <td>0.003817</td>\n",
       "      <td>-0.004755</td>\n",
       "      <td>0.000760</td>\n",
       "      <td>-0.000860</td>\n",
       "      <td>-0.022149</td>\n",
       "      <td>-0.012861</td>\n",
       "      <td>1.000000</td>\n",
       "      <td>0.012507</td>\n",
       "      <td>0.069531</td>\n",
       "      <td>-0.003701</td>\n",
       "    </tr>\n",
       "    <tr>\n",
       "      <th>pickupDayOfWeek</th>\n",
       "      <td>0.001337</td>\n",
       "      <td>0.001974</td>\n",
       "      <td>-0.000149</td>\n",
       "      <td>0.002041</td>\n",
       "      <td>-0.002995</td>\n",
       "      <td>0.040471</td>\n",
       "      <td>0.007048</td>\n",
       "      <td>-0.009721</td>\n",
       "      <td>0.012507</td>\n",
       "      <td>1.000000</td>\n",
       "      <td>-0.008538</td>\n",
       "      <td>-0.091521</td>\n",
       "    </tr>\n",
       "    <tr>\n",
       "      <th>pickupDayOfYear</th>\n",
       "      <td>0.032767</td>\n",
       "      <td>-0.002109</td>\n",
       "      <td>0.003630</td>\n",
       "      <td>-0.001923</td>\n",
       "      <td>0.003196</td>\n",
       "      <td>0.009461</td>\n",
       "      <td>-0.125263</td>\n",
       "      <td>0.996578</td>\n",
       "      <td>0.069531</td>\n",
       "      <td>-0.008538</td>\n",
       "      <td>1.000000</td>\n",
       "      <td>-0.005776</td>\n",
       "    </tr>\n",
       "    <tr>\n",
       "      <th>pickupHour</th>\n",
       "      <td>-0.028001</td>\n",
       "      <td>-0.005740</td>\n",
       "      <td>0.004688</td>\n",
       "      <td>-0.005655</td>\n",
       "      <td>0.006662</td>\n",
       "      <td>0.018208</td>\n",
       "      <td>-0.001446</td>\n",
       "      <td>-0.005492</td>\n",
       "      <td>-0.003701</td>\n",
       "      <td>-0.091521</td>\n",
       "      <td>-0.005776</td>\n",
       "      <td>1.000000</td>\n",
       "    </tr>\n",
       "  </tbody>\n",
       "</table>\n",
       "</div>"
      ],
      "text/plain": [
       "                   fare_amount  pickup_longitude  pickup_latitude  \\\n",
       "fare_amount           1.000000          0.013226        -0.015276   \n",
       "pickup_longitude      0.013226          1.000000        -0.907930   \n",
       "pickup_latitude      -0.015276         -0.907930         1.000000   \n",
       "dropoff_longitude     0.013114          0.961721        -0.877113   \n",
       "dropoff_latitude     -0.014112         -0.947875         0.894926   \n",
       "passenger_count       0.010379         -0.008849         0.006015   \n",
       "pickupYear            0.114919         -0.005754         0.001265   \n",
       "pickupMonth           0.033429         -0.001873         0.003306   \n",
       "pickupDay            -0.006773         -0.002855         0.003817   \n",
       "pickupDayOfWeek       0.001337          0.001974        -0.000149   \n",
       "pickupDayOfYear       0.032767         -0.002109         0.003630   \n",
       "pickupHour           -0.028001         -0.005740         0.004688   \n",
       "\n",
       "                   dropoff_longitude  dropoff_latitude  passenger_count  \\\n",
       "fare_amount                 0.013114         -0.014112         0.010379   \n",
       "pickup_longitude            0.961721         -0.947875        -0.008849   \n",
       "pickup_latitude            -0.877113          0.894926         0.006015   \n",
       "dropoff_longitude           1.000000         -0.977122        -0.007974   \n",
       "dropoff_latitude           -0.977122          1.000000         0.006698   \n",
       "passenger_count            -0.007974          0.006698         1.000000   \n",
       "pickupYear                 -0.007310          0.004479         0.007972   \n",
       "pickupMonth                -0.001518          0.003093         0.009512   \n",
       "pickupDay                  -0.004755          0.000760        -0.000860   \n",
       "pickupDayOfWeek             0.002041         -0.002995         0.040471   \n",
       "pickupDayOfYear            -0.001923          0.003196         0.009461   \n",
       "pickupHour                 -0.005655          0.006662         0.018208   \n",
       "\n",
       "                   pickupYear  pickupMonth  pickupDay  pickupDayOfWeek  \\\n",
       "fare_amount          0.114919     0.033429  -0.006773         0.001337   \n",
       "pickup_longitude    -0.005754    -0.001873  -0.002855         0.001974   \n",
       "pickup_latitude      0.001265     0.003306   0.003817        -0.000149   \n",
       "dropoff_longitude   -0.007310    -0.001518  -0.004755         0.002041   \n",
       "dropoff_latitude     0.004479     0.003093   0.000760        -0.002995   \n",
       "passenger_count      0.007972     0.009512  -0.000860         0.040471   \n",
       "pickupYear           1.000000    -0.123876  -0.022149         0.007048   \n",
       "pickupMonth         -0.123876     1.000000  -0.012861        -0.009721   \n",
       "pickupDay           -0.022149    -0.012861   1.000000         0.012507   \n",
       "pickupDayOfWeek      0.007048    -0.009721   0.012507         1.000000   \n",
       "pickupDayOfYear     -0.125263     0.996578   0.069531        -0.008538   \n",
       "pickupHour          -0.001446    -0.005492  -0.003701        -0.091521   \n",
       "\n",
       "                   pickupDayOfYear  pickupHour  \n",
       "fare_amount               0.032767   -0.028001  \n",
       "pickup_longitude         -0.002109   -0.005740  \n",
       "pickup_latitude           0.003630    0.004688  \n",
       "dropoff_longitude        -0.001923   -0.005655  \n",
       "dropoff_latitude          0.003196    0.006662  \n",
       "passenger_count           0.009461    0.018208  \n",
       "pickupYear               -0.125263   -0.001446  \n",
       "pickupMonth               0.996578   -0.005492  \n",
       "pickupDay                 0.069531   -0.003701  \n",
       "pickupDayOfWeek          -0.008538   -0.091521  \n",
       "pickupDayOfYear           1.000000   -0.005776  \n",
       "pickupHour               -0.005776    1.000000  "
      ]
     },
     "execution_count": 32,
     "metadata": {},
     "output_type": "execute_result"
    }
   ],
   "source": [
    "corr_matrix = taxi_train_set.corr()\n",
    "corr_matrix"
   ]
  },
  {
   "cell_type": "code",
   "execution_count": 33,
   "id": "allied-pepper",
   "metadata": {},
   "outputs": [
    {
     "data": {
      "text/plain": [
       "fare_amount          1.000000\n",
       "pickupYear           0.114919\n",
       "pickupMonth          0.033429\n",
       "pickupDayOfYear      0.032767\n",
       "pickup_longitude     0.013226\n",
       "dropoff_longitude    0.013114\n",
       "passenger_count      0.010379\n",
       "pickupDayOfWeek      0.001337\n",
       "pickupDay           -0.006773\n",
       "dropoff_latitude    -0.014112\n",
       "pickup_latitude     -0.015276\n",
       "pickupHour          -0.028001\n",
       "Name: fare_amount, dtype: float64"
      ]
     },
     "execution_count": 33,
     "metadata": {},
     "output_type": "execute_result"
    }
   ],
   "source": [
    "corr_matrix[\"fare_amount\"].sort_values(ascending=False)"
   ]
  },
  {
   "cell_type": "markdown",
   "id": "charitable-saying",
   "metadata": {},
   "source": [
    "Coefficients close to 0 mean that there is no linear correlation. Only `pickupYear` seems to be correlated with our target `fare_amount`."
   ]
  },
  {
   "cell_type": "code",
   "execution_count": 34,
   "id": "happy-macedonia",
   "metadata": {},
   "outputs": [
    {
     "name": "stdout",
     "output_type": "stream",
     "text": [
      "The median is 8.5 and mean is 11.3033215\n"
     ]
    },
    {
     "data": {
      "image/png": "[encoded data removed]",
      "text/plain": [
       "<Figure size 432x288 with 1 Axes>"
      ]
     },
     "metadata": {
      "needs_background": "light"
     },
     "output_type": "display_data"
    }
   ],
   "source": [
    "taxi_train_set.fare_amount.plot.box() \n",
    "print(\"The median is\", taxi_train_set.fare_amount.median(), \"and mean is\", taxi_train_set.fare_amount.mean())"
   ]
  },
  {
   "cell_type": "markdown",
   "id": "patient-nightlife",
   "metadata": {},
   "source": [
    "#### Conclusion EDA\n",
    "\n",
    "We have noticed few things about the data so we are going to clean up before feeding the data to a Machine Learning algorithm."
   ]
  },
  {
   "cell_type": "markdown",
   "id": "municipal-outreach",
   "metadata": {},
   "source": [
    "## 3. Prepare the Data."
   ]
  },
  {
   "cell_type": "markdown",
   "id": "nonprofit-steam",
   "metadata": {},
   "source": [
    "#### Fix or remove outliers\n",
    "\n",
    "Here we could skip this step because we have used the StandardScaler and this standardization is not affected by outliers.\n",
    "If we think that it may affect our estimation, we may want to fix outliers.\n",
    "\n",
    "* `fare_amount`: drop value > 100\n",
    "* `longitude`: drop outliers et na\n",
    "* `latitude`: drop outliers et na\n",
    "* `passenger_count`: drop value > 6"
   ]
  },
  {
   "cell_type": "code",
   "execution_count": 35,
   "id": "charitable-stockholm",
   "metadata": {},
   "outputs": [],
   "source": [
    "# Remove outliers and NANs\n",
    "\n",
    "# Select fare_amount between 0 and 100\n",
    "taxi_train_set = taxi_train_set[taxi_train_set.fare_amount.between(0,100)]\n",
    "\n",
    "# Select pickup_longitude and dropoff_longitude between -75 and -71\n",
    "taxi_train_set = taxi_train_set[(taxi_train_set.pickup_longitude.between(-75,-71)) & (taxi_train_set.dropoff_longitude.between(-75,-71))]\n",
    "\n",
    "# Select pickup_latitude and dropoff_latitude between 38 and 42\n",
    "taxi_train_set = taxi_train_set[(taxi_train_set.pickup_latitude.between(38,42)) & (taxi_train_set.dropoff_latitude.between(38,42))]\n",
    "\n",
    "# Select passenger_count equal or less than 6\n",
    "taxi_train_set = taxi_train_set[taxi_train_set.passenger_count <= 6]\n",
    "\n",
    "# Drop na values\n",
    "taxi_train_set = taxi_train_set[(~taxi_train_set.dropoff_longitude.isna()) | (~taxi_train_set.dropoff_latitude.isna())]"
   ]
  },
  {
   "cell_type": "code",
   "execution_count": 36,
   "id": "dimensional-fleece",
   "metadata": {},
   "outputs": [],
   "source": [
    "# Let's separate the predictors and the labels\n",
    "taxi_train = taxi_train_set.drop(\"fare_amount\", axis=1)\n",
    "taxi_labels = taxi_train_set[\"fare_amount\"].copy()"
   ]
  },
  {
   "cell_type": "code",
   "execution_count": 37,
   "id": "understood-genesis",
   "metadata": {},
   "outputs": [
    {
     "data": {
      "text/html": [
       "<div>\n",
       "<style scoped>\n",
       "    .dataframe tbody tr th:only-of-type {\n",
       "        vertical-align: middle;\n",
       "    }\n",
       "\n",
       "    .dataframe tbody tr th {\n",
       "        vertical-align: top;\n",
       "    }\n",
       "\n",
       "    .dataframe thead th {\n",
       "        text-align: right;\n",
       "    }\n",
       "</style>\n",
       "<table border=\"1\" class=\"dataframe\">\n",
       "  <thead>\n",
       "    <tr style=\"text-align: right;\">\n",
       "      <th></th>\n",
       "      <th>key</th>\n",
       "      <th>pickup_longitude</th>\n",
       "      <th>pickup_latitude</th>\n",
       "      <th>dropoff_longitude</th>\n",
       "      <th>dropoff_latitude</th>\n",
       "      <th>passenger_count</th>\n",
       "      <th>pickupYear</th>\n",
       "      <th>pickupMonth</th>\n",
       "      <th>pickupDay</th>\n",
       "      <th>pickupDayOfWeek</th>\n",
       "      <th>pickupDayOfYear</th>\n",
       "      <th>pickupHour</th>\n",
       "    </tr>\n",
       "  </thead>\n",
       "  <tbody>\n",
       "    <tr>\n",
       "      <th>12739</th>\n",
       "      <td>2009-01-01 01:31:49.0000003</td>\n",
       "      <td>-73.994192</td>\n",
       "      <td>40.720077</td>\n",
       "      <td>-73.993356</td>\n",
       "      <td>40.742642</td>\n",
       "      <td>1</td>\n",
       "      <td>2009</td>\n",
       "      <td>1</td>\n",
       "      <td>1</td>\n",
       "      <td>3</td>\n",
       "      <td>1</td>\n",
       "      <td>1</td>\n",
       "    </tr>\n",
       "    <tr>\n",
       "      <th>17546</th>\n",
       "      <td>2009-01-01 02:05:37.0000004</td>\n",
       "      <td>-73.978433</td>\n",
       "      <td>40.744781</td>\n",
       "      <td>-74.004713</td>\n",
       "      <td>40.734328</td>\n",
       "      <td>1</td>\n",
       "      <td>2009</td>\n",
       "      <td>1</td>\n",
       "      <td>1</td>\n",
       "      <td>3</td>\n",
       "      <td>1</td>\n",
       "      <td>2</td>\n",
       "    </tr>\n",
       "    <tr>\n",
       "      <th>8684</th>\n",
       "      <td>2009-01-01 02:51:52.0000002</td>\n",
       "      <td>-73.956172</td>\n",
       "      <td>40.771965</td>\n",
       "      <td>-73.991027</td>\n",
       "      <td>40.751035</td>\n",
       "      <td>2</td>\n",
       "      <td>2009</td>\n",
       "      <td>1</td>\n",
       "      <td>1</td>\n",
       "      <td>3</td>\n",
       "      <td>1</td>\n",
       "      <td>2</td>\n",
       "    </tr>\n",
       "    <tr>\n",
       "      <th>11623</th>\n",
       "      <td>2009-01-01 15:19:00.000000146</td>\n",
       "      <td>-73.949937</td>\n",
       "      <td>40.784427</td>\n",
       "      <td>-73.948735</td>\n",
       "      <td>40.773738</td>\n",
       "      <td>5</td>\n",
       "      <td>2009</td>\n",
       "      <td>1</td>\n",
       "      <td>1</td>\n",
       "      <td>3</td>\n",
       "      <td>1</td>\n",
       "      <td>15</td>\n",
       "    </tr>\n",
       "    <tr>\n",
       "      <th>10004</th>\n",
       "      <td>2009-01-01 16:52:00.00000053</td>\n",
       "      <td>-73.967647</td>\n",
       "      <td>40.763077</td>\n",
       "      <td>-73.977438</td>\n",
       "      <td>40.787097</td>\n",
       "      <td>2</td>\n",
       "      <td>2009</td>\n",
       "      <td>1</td>\n",
       "      <td>1</td>\n",
       "      <td>3</td>\n",
       "      <td>1</td>\n",
       "      <td>16</td>\n",
       "    </tr>\n",
       "  </tbody>\n",
       "</table>\n",
       "</div>"
      ],
      "text/plain": [
       "                                 key  pickup_longitude  pickup_latitude  \\\n",
       "12739    2009-01-01 01:31:49.0000003        -73.994192        40.720077   \n",
       "17546    2009-01-01 02:05:37.0000004        -73.978433        40.744781   \n",
       "8684     2009-01-01 02:51:52.0000002        -73.956172        40.771965   \n",
       "11623  2009-01-01 15:19:00.000000146        -73.949937        40.784427   \n",
       "10004   2009-01-01 16:52:00.00000053        -73.967647        40.763077   \n",
       "\n",
       "       dropoff_longitude  dropoff_latitude  passenger_count  pickupYear  \\\n",
       "12739         -73.993356         40.742642                1        2009   \n",
       "17546         -74.004713         40.734328                1        2009   \n",
       "8684          -73.991027         40.751035                2        2009   \n",
       "11623         -73.948735         40.773738                5        2009   \n",
       "10004         -73.977438         40.787097                2        2009   \n",
       "\n",
       "       pickupMonth  pickupDay  pickupDayOfWeek  pickupDayOfYear  pickupHour  \n",
       "12739            1          1                3                1           1  \n",
       "17546            1          1                3                1           2  \n",
       "8684             1          1                3                1           2  \n",
       "11623            1          1                3                1          15  \n",
       "10004            1          1                3                1          16  "
      ]
     },
     "execution_count": 37,
     "metadata": {},
     "output_type": "execute_result"
    }
   ],
   "source": [
    "taxi_train.head()"
   ]
  },
  {
   "cell_type": "code",
   "execution_count": 38,
   "id": "documentary-alert",
   "metadata": {},
   "outputs": [
    {
     "data": {
      "text/html": [
       "<div>\n",
       "<style scoped>\n",
       "    .dataframe tbody tr th:only-of-type {\n",
       "        vertical-align: middle;\n",
       "    }\n",
       "\n",
       "    .dataframe tbody tr th {\n",
       "        vertical-align: top;\n",
       "    }\n",
       "\n",
       "    .dataframe thead th {\n",
       "        text-align: right;\n",
       "    }\n",
       "</style>\n",
       "<table border=\"1\" class=\"dataframe\">\n",
       "  <thead>\n",
       "    <tr style=\"text-align: right;\">\n",
       "      <th></th>\n",
       "      <th>pickup_longitude</th>\n",
       "      <th>pickup_latitude</th>\n",
       "      <th>dropoff_longitude</th>\n",
       "      <th>dropoff_latitude</th>\n",
       "      <th>passenger_count</th>\n",
       "      <th>pickupYear</th>\n",
       "      <th>pickupMonth</th>\n",
       "      <th>pickupDay</th>\n",
       "      <th>pickupDayOfWeek</th>\n",
       "      <th>pickupDayOfYear</th>\n",
       "      <th>pickupHour</th>\n",
       "    </tr>\n",
       "  </thead>\n",
       "  <tbody>\n",
       "    <tr>\n",
       "      <th>count</th>\n",
       "      <td>19578.000000</td>\n",
       "      <td>19578.000000</td>\n",
       "      <td>19578.000000</td>\n",
       "      <td>19578.000000</td>\n",
       "      <td>19578.000000</td>\n",
       "      <td>19578.000000</td>\n",
       "      <td>19578.000000</td>\n",
       "      <td>19578.000000</td>\n",
       "      <td>19578.000000</td>\n",
       "      <td>19578.000000</td>\n",
       "      <td>19578.000000</td>\n",
       "    </tr>\n",
       "    <tr>\n",
       "      <th>mean</th>\n",
       "      <td>-73.974763</td>\n",
       "      <td>40.750968</td>\n",
       "      <td>-73.973954</td>\n",
       "      <td>40.751423</td>\n",
       "      <td>1.659924</td>\n",
       "      <td>2011.751405</td>\n",
       "      <td>6.246757</td>\n",
       "      <td>15.681173</td>\n",
       "      <td>3.035908</td>\n",
       "      <td>174.591276</td>\n",
       "      <td>13.479416</td>\n",
       "    </tr>\n",
       "    <tr>\n",
       "      <th>std</th>\n",
       "      <td>0.041772</td>\n",
       "      <td>0.036667</td>\n",
       "      <td>0.039375</td>\n",
       "      <td>0.038246</td>\n",
       "      <td>1.284915</td>\n",
       "      <td>1.865382</td>\n",
       "      <td>3.445508</td>\n",
       "      <td>8.675372</td>\n",
       "      <td>1.965059</td>\n",
       "      <td>105.090969</td>\n",
       "      <td>6.517916</td>\n",
       "    </tr>\n",
       "    <tr>\n",
       "      <th>min</th>\n",
       "      <td>-74.438233</td>\n",
       "      <td>39.603178</td>\n",
       "      <td>-74.227047</td>\n",
       "      <td>39.604972</td>\n",
       "      <td>0.000000</td>\n",
       "      <td>2009.000000</td>\n",
       "      <td>1.000000</td>\n",
       "      <td>1.000000</td>\n",
       "      <td>0.000000</td>\n",
       "      <td>1.000000</td>\n",
       "      <td>0.000000</td>\n",
       "    </tr>\n",
       "    <tr>\n",
       "      <th>25%</th>\n",
       "      <td>-73.992390</td>\n",
       "      <td>40.736431</td>\n",
       "      <td>-73.991407</td>\n",
       "      <td>40.736186</td>\n",
       "      <td>1.000000</td>\n",
       "      <td>2010.000000</td>\n",
       "      <td>3.000000</td>\n",
       "      <td>8.000000</td>\n",
       "      <td>1.000000</td>\n",
       "      <td>84.000000</td>\n",
       "      <td>9.000000</td>\n",
       "    </tr>\n",
       "    <tr>\n",
       "      <th>50%</th>\n",
       "      <td>-73.982077</td>\n",
       "      <td>40.753417</td>\n",
       "      <td>-73.980612</td>\n",
       "      <td>40.754273</td>\n",
       "      <td>1.000000</td>\n",
       "      <td>2012.000000</td>\n",
       "      <td>6.000000</td>\n",
       "      <td>16.000000</td>\n",
       "      <td>3.000000</td>\n",
       "      <td>166.000000</td>\n",
       "      <td>14.000000</td>\n",
       "    </tr>\n",
       "    <tr>\n",
       "      <th>75%</th>\n",
       "      <td>-73.968112</td>\n",
       "      <td>40.767846</td>\n",
       "      <td>-73.965495</td>\n",
       "      <td>40.768470</td>\n",
       "      <td>2.000000</td>\n",
       "      <td>2013.000000</td>\n",
       "      <td>9.000000</td>\n",
       "      <td>23.000000</td>\n",
       "      <td>5.000000</td>\n",
       "      <td>267.000000</td>\n",
       "      <td>19.000000</td>\n",
       "    </tr>\n",
       "    <tr>\n",
       "      <th>max</th>\n",
       "      <td>-72.856968</td>\n",
       "      <td>41.366138</td>\n",
       "      <td>-72.854940</td>\n",
       "      <td>41.366138</td>\n",
       "      <td>6.000000</td>\n",
       "      <td>2015.000000</td>\n",
       "      <td>12.000000</td>\n",
       "      <td>31.000000</td>\n",
       "      <td>6.000000</td>\n",
       "      <td>366.000000</td>\n",
       "      <td>23.000000</td>\n",
       "    </tr>\n",
       "  </tbody>\n",
       "</table>\n",
       "</div>"
      ],
      "text/plain": [
       "       pickup_longitude  pickup_latitude  dropoff_longitude  dropoff_latitude  \\\n",
       "count      19578.000000     19578.000000       19578.000000      19578.000000   \n",
       "mean         -73.974763        40.750968         -73.973954         40.751423   \n",
       "std            0.041772         0.036667           0.039375          0.038246   \n",
       "min          -74.438233        39.603178         -74.227047         39.604972   \n",
       "25%          -73.992390        40.736431         -73.991407         40.736186   \n",
       "50%          -73.982077        40.753417         -73.980612         40.754273   \n",
       "75%          -73.968112        40.767846         -73.965495         40.768470   \n",
       "max          -72.856968        41.366138         -72.854940         41.366138   \n",
       "\n",
       "       passenger_count    pickupYear   pickupMonth     pickupDay  \\\n",
       "count     19578.000000  19578.000000  19578.000000  19578.000000   \n",
       "mean          1.659924   2011.751405      6.246757     15.681173   \n",
       "std           1.284915      1.865382      3.445508      8.675372   \n",
       "min           0.000000   2009.000000      1.000000      1.000000   \n",
       "25%           1.000000   2010.000000      3.000000      8.000000   \n",
       "50%           1.000000   2012.000000      6.000000     16.000000   \n",
       "75%           2.000000   2013.000000      9.000000     23.000000   \n",
       "max           6.000000   2015.000000     12.000000     31.000000   \n",
       "\n",
       "       pickupDayOfWeek  pickupDayOfYear    pickupHour  \n",
       "count     19578.000000     19578.000000  19578.000000  \n",
       "mean          3.035908       174.591276     13.479416  \n",
       "std           1.965059       105.090969      6.517916  \n",
       "min           0.000000         1.000000      0.000000  \n",
       "25%           1.000000        84.000000      9.000000  \n",
       "50%           3.000000       166.000000     14.000000  \n",
       "75%           5.000000       267.000000     19.000000  \n",
       "max           6.000000       366.000000     23.000000  "
      ]
     },
     "execution_count": 38,
     "metadata": {},
     "output_type": "execute_result"
    }
   ],
   "source": [
    "taxi_train.describe()"
   ]
  },
  {
   "cell_type": "code",
   "execution_count": 39,
   "id": "cheap-craps",
   "metadata": {},
   "outputs": [
    {
     "data": {
      "text/plain": [
       "key                   object\n",
       "pickup_longitude     float64\n",
       "pickup_latitude      float64\n",
       "dropoff_longitude    float64\n",
       "dropoff_latitude     float64\n",
       "passenger_count        int64\n",
       "pickupYear             int64\n",
       "pickupMonth            int64\n",
       "pickupDay              int64\n",
       "pickupDayOfWeek        int64\n",
       "pickupDayOfYear        int64\n",
       "pickupHour             int64\n",
       "dtype: object"
      ]
     },
     "execution_count": 39,
     "metadata": {},
     "output_type": "execute_result"
    }
   ],
   "source": [
    "taxi_train.dtypes"
   ]
  },
  {
   "cell_type": "code",
   "execution_count": 40,
   "id": "bulgarian-stockholm",
   "metadata": {},
   "outputs": [
    {
     "data": {
      "text/plain": [
       "12739     8.6\n",
       "17546    11.0\n",
       "8684     10.2\n",
       "11623     5.3\n",
       "10004     8.5\n",
       "Name: fare_amount, dtype: float64"
      ]
     },
     "execution_count": 40,
     "metadata": {},
     "output_type": "execute_result"
    }
   ],
   "source": [
    "taxi_labels.head()"
   ]
  },
  {
   "cell_type": "code",
   "execution_count": 41,
   "id": "precious-genealogy",
   "metadata": {},
   "outputs": [
    {
     "data": {
      "text/plain": [
       "12739      2009-01-01 01:31:49.0000003\n",
       "17546      2009-01-01 02:05:37.0000004\n",
       "8684       2009-01-01 02:51:52.0000002\n",
       "11623    2009-01-01 15:19:00.000000146\n",
       "10004     2009-01-01 16:52:00.00000053\n",
       "Name: key, dtype: object"
      ]
     },
     "execution_count": 41,
     "metadata": {},
     "output_type": "execute_result"
    }
   ],
   "source": [
    "taxi_train[\"key\"].head()"
   ]
  },
  {
   "cell_type": "markdown",
   "id": "catholic-continuity",
   "metadata": {},
   "source": [
    "### Data Cleaning, Feature Engineering and Feature Scaling\n",
    "\n",
    "#### Handling Attributes with Missing Values\n",
    "As we are not sure that our whole dataset doesn't contain missing values, we will apply the imputer (a Scikit-Learn handy class) to all the numerical attributes. For doing this, we will use the transformer named `SimpleImputer`.\n",
    "\n",
    "\n",
    "#### Handling Text and Categorical Attributes\n",
    "In this project, we don't have categorical attributes.\n",
    "Still, we have to handle the text attribute that is `key`.\n",
    "\n",
    "We could handle this text attribute by using a regex to split datetime and the id separated by a \".\", but we consider that we will not use this id and we already have the datetime information in other attributes, so we'll drop the `key` attribute.\n",
    "\n",
    "\n",
    "#### Standardize numerical features\n",
    "ML algorithms don't perform well when the input numerical attributes have very different scales.\n",
    "This is the case for the taxi data: the `pickup_longitude` ranges from about -74 to 40.767, while the `passenger_count` ranges from 0 to 6. We can apply the StandardScaler transformer."
   ]
  },
  {
   "cell_type": "markdown",
   "id": "fabulous-minister",
   "metadata": {},
   "source": [
    "#### ➡️ Transformation Pipeline\n",
    "\n",
    "We create a Pipeline so we will be able to apply the transformations to our whole dataset (including the test set) and to new fresh dataset.\n"
   ]
  },
  {
   "cell_type": "code",
   "execution_count": 42,
   "id": "periodic-mobile",
   "metadata": {},
   "outputs": [
    {
     "data": {
      "text/plain": [
       "['pickup_longitude',\n",
       " 'pickup_latitude',\n",
       " 'dropoff_longitude',\n",
       " 'dropoff_latitude',\n",
       " 'passenger_count',\n",
       " 'pickupYear',\n",
       " 'pickupMonth',\n",
       " 'pickupDay',\n",
       " 'pickupDayOfWeek',\n",
       " 'pickupDayOfYear',\n",
       " 'pickupHour']"
      ]
     },
     "execution_count": 42,
     "metadata": {},
     "output_type": "execute_result"
    }
   ],
   "source": [
    "# Check which columns are numerical and which one are non numerical\n",
    "def get_num_col(df):\n",
    "    \"\"\"\n",
    "    Given a dataset, it returns a list of the columns that are numerical.\n",
    "    \"\"\"\n",
    "    num_col = []\n",
    "    for label, content in df.items():\n",
    "        if pd.api.types.is_numeric_dtype(content):\n",
    "            num_col.append(label)\n",
    "    return num_col\n",
    "\n",
    "num_attribs = get_num_col(taxi_train)\n",
    "num_attribs"
   ]
  },
  {
   "cell_type": "code",
   "execution_count": 43,
   "id": "quarterly-forty",
   "metadata": {},
   "outputs": [],
   "source": [
    "# Create a pipeline for our numeric attributes\n",
    "num_pipeline = Pipeline([\n",
    "    ('imputer', SimpleImputer(strategy=\"median\")),\n",
    "    ('std_scaler', StandardScaler())\n",
    "])\n",
    "\n",
    "# Define our full pipeline\n",
    "full_pipeline = ColumnTransformer([\n",
    "    (\"num\", num_pipeline, num_attribs),\n",
    "    (\"key_att\", \"drop\", [\"key\"])\n",
    "])\n",
    "\n",
    "taxi_train_prepared = full_pipeline.fit_transform(taxi_train)"
   ]
  },
  {
   "cell_type": "code",
   "execution_count": 44,
   "id": "determined-steering",
   "metadata": {},
   "outputs": [
    {
     "data": {
      "text/plain": [
       "(19578, 11)"
      ]
     },
     "execution_count": 44,
     "metadata": {},
     "output_type": "execute_result"
    }
   ],
   "source": [
    "taxi_train_prepared.shape"
   ]
  },
  {
   "cell_type": "markdown",
   "id": "commercial-valentine",
   "metadata": {},
   "source": [
    "### Conclusion of our Preprocessing of Data\n",
    "\n",
    "We've done some EDA and preprocessing on our data. Now let's start to do some model-driven EDA."
   ]
  },
  {
   "cell_type": "markdown",
   "id": "spectacular-reduction",
   "metadata": {},
   "source": [
    "## 4. Select and Train a Model."
   ]
  },
  {
   "cell_type": "markdown",
   "id": "dangerous-copper",
   "metadata": {},
   "source": [
    "### Training and Evaluating on the Training Set"
   ]
  },
  {
   "cell_type": "code",
   "execution_count": 45,
   "id": "biological-austin",
   "metadata": {},
   "outputs": [
    {
     "data": {
      "text/plain": [
       "LinearRegression()"
      ]
     },
     "execution_count": 45,
     "metadata": {},
     "output_type": "execute_result"
    }
   ],
   "source": [
    "# This is a regression task, so we can first use a LinearRegression model\n",
    "lin_reg = LinearRegression()\n",
    "lin_reg.fit(taxi_train_prepared, taxi_labels)"
   ]
  },
  {
   "cell_type": "markdown",
   "id": "educational-paper",
   "metadata": {},
   "source": [
    "Now that we have a working Linear Regression model, let's try it out on a few instances from the training set."
   ]
  },
  {
   "cell_type": "code",
   "execution_count": 46,
   "id": "sorted-publicity",
   "metadata": {},
   "outputs": [
    {
     "name": "stdout",
     "output_type": "stream",
     "text": [
      "Predictions: [ 8.56876963  8.3434661   8.95161446 10.0445168   7.57986829]\n",
      "Labels: [8.6, 11.0, 10.2, 5.3, 8.5]\n"
     ]
    }
   ],
   "source": [
    "# Let's try our model on some data\n",
    "some_data = taxi_train.iloc[:5]\n",
    "some_labels = taxi_labels.iloc[:5]\n",
    "some_data_prepared = full_pipeline.transform(some_data)\n",
    "\n",
    "print(\"Predictions:\", lin_reg.predict(some_data_prepared))\n",
    "print(\"Labels:\", list(some_labels))"
   ]
  },
  {
   "cell_type": "code",
   "execution_count": 47,
   "id": "convertible-behavior",
   "metadata": {},
   "outputs": [
    {
     "data": {
      "text/plain": [
       "8.166863899314343"
      ]
     },
     "execution_count": 47,
     "metadata": {},
     "output_type": "execute_result"
    }
   ],
   "source": [
    "# Evaluate our model's predictions\n",
    "taxi_preds = lin_reg.predict(taxi_train_prepared)\n",
    "lin_mse = mean_squared_error(taxi_labels, taxi_preds)\n",
    "lin_rmse = np.sqrt(lin_mse)\n",
    "lin_rmse"
   ]
  },
  {
   "cell_type": "code",
   "execution_count": 48,
   "id": "final-fisher",
   "metadata": {},
   "outputs": [
    {
     "data": {
      "text/plain": [
       "0.2285849156876707"
      ]
     },
     "execution_count": 48,
     "metadata": {},
     "output_type": "execute_result"
    }
   ],
   "source": [
    "# Score of our model\n",
    "lin_reg.score(taxi_train_prepared, taxi_labels)"
   ]
  },
  {
   "cell_type": "markdown",
   "id": "silent-english",
   "metadata": {},
   "source": [
    "This is not a very good score, let's try with a Random Forest Regression model."
   ]
  },
  {
   "cell_type": "code",
   "execution_count": 49,
   "id": "contrary-walnut",
   "metadata": {},
   "outputs": [
    {
     "name": "stdout",
     "output_type": "stream",
     "text": [
      "Predictions: [ 8.574   9.732  10.9977  5.32    8.405 ]\n",
      "Labels: [8.6, 11.0, 10.2, 5.3, 8.5]\n"
     ]
    }
   ],
   "source": [
    "rd_reg = RandomForestRegressor(n_jobs=1,\n",
    "                             random_state=42)\n",
    "rd_reg.fit(taxi_train_prepared, taxi_labels)\n",
    "\n",
    "print(\"Predictions:\", rd_reg.predict(some_data_prepared))\n",
    "print(\"Labels:\", list(some_labels))"
   ]
  },
  {
   "cell_type": "code",
   "execution_count": 50,
   "id": "mysterious-injury",
   "metadata": {},
   "outputs": [
    {
     "data": {
      "text/plain": [
       "1.5249104096151485"
      ]
     },
     "execution_count": 50,
     "metadata": {},
     "output_type": "execute_result"
    }
   ],
   "source": [
    "# Evaluate our RandomForestReg's predictions\n",
    "taxi_preds = rd_reg.predict(taxi_train_prepared)\n",
    "rd_mse = mean_squared_error(taxi_labels, taxi_preds)\n",
    "rd_rmse = np.sqrt(rd_mse)\n",
    "rd_rmse"
   ]
  },
  {
   "cell_type": "code",
   "execution_count": 51,
   "id": "distant-dependence",
   "metadata": {},
   "outputs": [
    {
     "data": {
      "text/plain": [
       "0.973105334401045"
      ]
     },
     "execution_count": 51,
     "metadata": {},
     "output_type": "execute_result"
    }
   ],
   "source": [
    "# Score of our model\n",
    "rd_reg.score(taxi_train_prepared, taxi_labels)"
   ]
  },
  {
   "cell_type": "markdown",
   "id": "italian-alias",
   "metadata": {},
   "source": [
    "This result is way more better than the first one, but how can we be sure that this model is very good ?"
   ]
  },
  {
   "cell_type": "markdown",
   "id": "smooth-carrier",
   "metadata": {},
   "source": [
    "### Better Evaluation Using Cross-Validation\n",
    "\n",
    "One way to evaluate the Random Forest Regression model would be to use the train_test_split() function to split the training set into a smaller training set and a validation set.\n",
    "\n",
    "Here we will use the Scikit-Learn's **K-fold cross-validation** feature."
   ]
  },
  {
   "cell_type": "code",
   "execution_count": 52,
   "id": "hydraulic-spanish",
   "metadata": {},
   "outputs": [],
   "source": [
    "# Here is a function to evaluate our model on a few different levels\n",
    "def display_scores(scores):\n",
    "    print(\"Scores:\", scores)\n",
    "    print(\"Mean:\", scores.mean())\n",
    "    print(\"Standard deviation\", scores.std())"
   ]
  },
  {
   "cell_type": "code",
   "execution_count": 53,
   "id": "curious-selling",
   "metadata": {},
   "outputs": [
    {
     "name": "stdout",
     "output_type": "stream",
     "text": [
      "Scores: [3.92328344 4.23677373 4.71216644 4.18461923 4.3466174 ]\n",
      "Mean: 4.280692050022301\n",
      "Standard deviation 0.25667723647561214\n"
     ]
    }
   ],
   "source": [
    "# Let's evaluate using the cross-validation\n",
    "scores = cross_val_score(rd_reg, taxi_train_prepared, taxi_labels,\n",
    "                        scoring=\"neg_mean_squared_error\", cv=5)\n",
    "rd_rmse_scores = np.sqrt(-scores)\n",
    "display_scores(rd_rmse_scores)"
   ]
  },
  {
   "cell_type": "markdown",
   "id": "native-sacramento",
   "metadata": {},
   "source": [
    "As we can see, our Random Forest Regressor model is performing much better on the training set (RMSE is at 1.525 versus 4.281), meaning that the model is overfitting the training set.\n",
    "\n",
    "Possible solutions for overfitting are:\n",
    "* To simplify the model\n",
    "* Constrain it\n",
    "* Or get a lot more training data"
   ]
  },
  {
   "cell_type": "markdown",
   "id": "alert-mirror",
   "metadata": {},
   "source": [
    "Let's compute the same scores for the Linear Regression model just to be sure."
   ]
  },
  {
   "cell_type": "code",
   "execution_count": 54,
   "id": "recreational-instruction",
   "metadata": {},
   "outputs": [
    {
     "name": "stdout",
     "output_type": "stream",
     "text": [
      "Scores: [7.77851999 8.78744497 8.1539945  8.25753445 9.0613884 ]\n",
      "Mean: 8.407776460927057\n",
      "Standard deviation 0.45919460117779454\n"
     ]
    }
   ],
   "source": [
    "lin_scores = cross_val_score(lin_reg, taxi_train_prepared, taxi_labels,\n",
    "                        scoring=\"neg_mean_squared_error\", cv=5)\n",
    "lin_rmse_scores = np.sqrt(-lin_scores)\n",
    "display_scores(lin_rmse_scores)"
   ]
  },
  {
   "cell_type": "markdown",
   "id": "configured-orange",
   "metadata": {},
   "source": [
    "#### Let's try some other models to get a few (two to five) promising models before diving much deeper into the Fine-Tune Step."
   ]
  },
  {
   "cell_type": "code",
   "execution_count": 55,
   "id": "mounted-round",
   "metadata": {},
   "outputs": [],
   "source": [
    "# Here we could try SVM, neural networks..."
   ]
  },
  {
   "cell_type": "markdown",
   "id": "three-turkey",
   "metadata": {},
   "source": [
    "#### Save our models"
   ]
  },
  {
   "cell_type": "code",
   "execution_count": 56,
   "id": "opposite-lodge",
   "metadata": {},
   "outputs": [
    {
     "data": {
      "text/plain": [
       "['models/taxi_rd_reg_model.pkl']"
      ]
     },
     "execution_count": 56,
     "metadata": {},
     "output_type": "execute_result"
    }
   ],
   "source": [
    "# Let's save our models we experiment with so that we can come back easily to any model we want.\n",
    "import joblib\n",
    "\n",
    "joblib.dump(lin_reg, \"models/taxi_lin_reg_model.pkl\")\n",
    "joblib.dump(rd_reg, \"models/taxi_rd_reg_model.pkl\")\n",
    "\n",
    "# to load it : taxi_lin_reg_model = joblib.load(\"taxi_rd_reg_model.pkl\")"
   ]
  },
  {
   "cell_type": "markdown",
   "id": "approved-treasure",
   "metadata": {},
   "source": [
    "## 5. Parameters Tuning."
   ]
  },
  {
   "cell_type": "markdown",
   "id": "convertible-latin",
   "metadata": {},
   "source": [
    "### Fine-tune the hyperparameters\n",
    "\n",
    "#### Grid Search & Randomized Search\n",
    "\n",
    "With Scikit-Learn's GridSearchCV , all we need to do is tell it which hyperparameters we want to experiment with and what values to try out and it will use **cross-validation** to evaluate all the possible combinations of hyperparameter values."
   ]
  },
  {
   "cell_type": "code",
   "execution_count": 57,
   "id": "proof-minute",
   "metadata": {},
   "outputs": [
    {
     "name": "stdout",
     "output_type": "stream",
     "text": [
      "Fitting 5 folds for each of 18 candidates, totalling 90 fits\n"
     ]
    },
    {
     "name": "stderr",
     "output_type": "stream",
     "text": [
      "[Parallel(n_jobs=1)]: Using backend SequentialBackend with 1 concurrent workers.\n",
      "[Parallel(n_jobs=1)]: Done  90 out of  90 | elapsed:  2.4min finished\n"
     ]
    },
    {
     "data": {
      "text/plain": [
       "GridSearchCV(cv=5, estimator=RandomForestRegressor(random_state=42),\n",
       "             param_grid=[{'max_features': [6, 8, 10, 12],\n",
       "                          'n_estimators': [10, 30, 40]},\n",
       "                         {'bootstrap': [False], 'max_features': [2, 3, 4],\n",
       "                          'n_estimators': [3, 10]}],\n",
       "             return_train_score=True, scoring='neg_mean_squared_error',\n",
       "             verbose=1)"
      ]
     },
     "execution_count": 57,
     "metadata": {},
     "output_type": "execute_result"
    }
   ],
   "source": [
    "# Perform GridSearch\n",
    "param_grid = [\n",
    "    {'n_estimators': [10, 30, 40], 'max_features': [6, 8, 10, 12]},\n",
    "    {'bootstrap': [False], 'n_estimators':[3, 10], 'max_features': [2, 3, 4]}\n",
    "]\n",
    "\n",
    "grid_search = GridSearchCV(estimator=RandomForestRegressor(random_state=42), \n",
    "                           param_grid=param_grid, cv=5,\n",
    "                           scoring='neg_mean_squared_error', verbose=1,\n",
    "                           return_train_score=True)\n",
    "\n",
    "grid_search.fit(taxi_train_prepared, taxi_labels)"
   ]
  },
  {
   "cell_type": "code",
   "execution_count": 58,
   "id": "viral-taylor",
   "metadata": {},
   "outputs": [
    {
     "data": {
      "text/plain": [
       "{'max_features': 8, 'n_estimators': 40}"
      ]
     },
     "execution_count": 58,
     "metadata": {},
     "output_type": "execute_result"
    }
   ],
   "source": [
    "grid_search.best_params_"
   ]
  },
  {
   "cell_type": "markdown",
   "id": "loving-ranch",
   "metadata": {},
   "source": [
    "Since 8 and 30 are the maximum values that were evaluated, we should probably try searching again with higher values; the score may continue to improve."
   ]
  },
  {
   "cell_type": "code",
   "execution_count": 59,
   "id": "mexican-restriction",
   "metadata": {},
   "outputs": [
    {
     "data": {
      "text/plain": [
       "RandomForestRegressor(max_features=8, n_estimators=40, random_state=42)"
      ]
     },
     "execution_count": 59,
     "metadata": {},
     "output_type": "execute_result"
    }
   ],
   "source": [
    "grid_search.best_estimator_"
   ]
  },
  {
   "cell_type": "code",
   "execution_count": 60,
   "id": "international-empty",
   "metadata": {},
   "outputs": [
    {
     "name": "stdout",
     "output_type": "stream",
     "text": [
      "4.480212384324264 {'max_features': 6, 'n_estimators': 10}\n",
      "4.312684659079851 {'max_features': 6, 'n_estimators': 30}\n",
      "4.288685526208269 {'max_features': 6, 'n_estimators': 40}\n",
      "4.420317326744185 {'max_features': 8, 'n_estimators': 10}\n",
      "4.295743189019244 {'max_features': 8, 'n_estimators': 30}\n",
      "4.282837925942666 {'max_features': 8, 'n_estimators': 40}\n",
      "4.435862676779218 {'max_features': 10, 'n_estimators': 10}\n",
      "4.320655241274716 {'max_features': 10, 'n_estimators': 30}\n",
      "4.309960967515424 {'max_features': 10, 'n_estimators': 40}\n",
      "nan {'max_features': 12, 'n_estimators': 10}\n",
      "nan {'max_features': 12, 'n_estimators': 30}\n",
      "nan {'max_features': 12, 'n_estimators': 40}\n",
      "5.814897201721708 {'bootstrap': False, 'max_features': 2, 'n_estimators': 3}\n",
      "5.055410200282633 {'bootstrap': False, 'max_features': 2, 'n_estimators': 10}\n",
      "5.506766678530013 {'bootstrap': False, 'max_features': 3, 'n_estimators': 3}\n",
      "4.766349469208694 {'bootstrap': False, 'max_features': 3, 'n_estimators': 10}\n",
      "5.111652966667152 {'bootstrap': False, 'max_features': 4, 'n_estimators': 3}\n",
      "4.579714561763528 {'bootstrap': False, 'max_features': 4, 'n_estimators': 10}\n"
     ]
    }
   ],
   "source": [
    "cvres = grid_search.cv_results_\n",
    "for mean_score, params in zip(cvres[\"mean_test_score\"], cvres[\"params\"]):\n",
    "    print(np.sqrt(-mean_score), params)"
   ]
  },
  {
   "cell_type": "markdown",
   "id": "rolled-organization",
   "metadata": {},
   "source": [
    "We can se that the best solution by setting the max_features hyperparameters to 6 and the n_estimators hyperparameter to 30. The RMSE score for this combination is **4.885**, which is not better thant the score we got earlier (4.837)."
   ]
  },
  {
   "cell_type": "code",
   "execution_count": 61,
   "id": "reasonable-drive",
   "metadata": {},
   "outputs": [
    {
     "data": {
      "text/plain": [
       "RandomizedSearchCV(cv=5, estimator=RandomForestRegressor(random_state=42),\n",
       "                   param_distributions={'max_features': <scipy.stats._distn_infrastructure.rv_frozen object at 0x7ff410bc4a00>,\n",
       "                                        'n_estimators': <scipy.stats._distn_infrastructure.rv_frozen object at 0x7ff410ba3e80>},\n",
       "                   random_state=42, scoring='neg_mean_squared_error')"
      ]
     },
     "execution_count": 61,
     "metadata": {},
     "output_type": "execute_result"
    }
   ],
   "source": [
    "# Perform Randomized Search\n",
    "from scipy.stats import randint\n",
    "\n",
    "param_distribs = {\n",
    "        'n_estimators': randint(low=1, high=50),\n",
    "        'max_features': randint(low=1, high=11),\n",
    "    }\n",
    "\n",
    "forest_reg = RandomForestRegressor(random_state=42)\n",
    "rnd_search = RandomizedSearchCV(forest_reg, param_distributions=param_distribs,\n",
    "                                n_iter=10, cv=5, scoring='neg_mean_squared_error', random_state=42)\n",
    "\n",
    "rnd_search.fit(taxi_train_prepared, taxi_labels)"
   ]
  },
  {
   "cell_type": "code",
   "execution_count": 62,
   "id": "educational-detroit",
   "metadata": {},
   "outputs": [
    {
     "data": {
      "text/plain": [
       "RandomForestRegressor(max_features=8, n_estimators=44, random_state=42)"
      ]
     },
     "execution_count": 62,
     "metadata": {},
     "output_type": "execute_result"
    }
   ],
   "source": [
    "rnd_search.best_estimator_"
   ]
  },
  {
   "cell_type": "code",
   "execution_count": 63,
   "id": "modular-thailand",
   "metadata": {},
   "outputs": [
    {
     "name": "stdout",
     "output_type": "stream",
     "text": [
      "4.282303279010175 {'max_features': 7, 'n_estimators': 29}\n",
      "4.311848984419072 {'max_features': 8, 'n_estimators': 21}\n",
      "4.312443494710822 {'max_features': 7, 'n_estimators': 19}\n",
      "4.402262896950013 {'max_features': 7, 'n_estimators': 11}\n",
      "4.293676692138995 {'max_features': 8, 'n_estimators': 36}\n",
      "4.305896176382234 {'max_features': 8, 'n_estimators': 24}\n",
      "4.601016564579419 {'max_features': 3, 'n_estimators': 22}\n",
      "5.421627009886399 {'max_features': 5, 'n_estimators': 2}\n",
      "4.278094671682071 {'max_features': 8, 'n_estimators': 44}\n",
      "5.276041285844006 {'max_features': 6, 'n_estimators': 2}\n"
     ]
    }
   ],
   "source": [
    "cvres = rnd_search.cv_results_\n",
    "for mean_score, params in zip(cvres[\"mean_test_score\"], cvres[\"params\"]):\n",
    "    print(np.sqrt(-mean_score), params)"
   ]
  },
  {
   "cell_type": "markdown",
   "id": "shared-poker",
   "metadata": {},
   "source": [
    "### Ensemble Methods\n",
    "\n",
    "Another way to fine-tune our system is to try to combine the models that perform best. (Chapter 7)"
   ]
  },
  {
   "cell_type": "markdown",
   "id": "disturbed-marina",
   "metadata": {},
   "source": [
    "### Analyze the Best Models and Their Errors\n",
    "\n",
    "The RandomForestRegressor can indicate the relative importance of each attribute for making accurate predictions."
   ]
  },
  {
   "cell_type": "code",
   "execution_count": 64,
   "id": "bigger-script",
   "metadata": {},
   "outputs": [
    {
     "data": {
      "text/plain": [
       "array([0.3026137 , 0.12891754, 0.34098702, 0.14820835, 0.0046625 ,\n",
       "       0.01954075, 0.00573376, 0.01346279, 0.00812533, 0.01473462,\n",
       "       0.01301364])"
      ]
     },
     "execution_count": 64,
     "metadata": {},
     "output_type": "execute_result"
    }
   ],
   "source": [
    "feature_importances = rnd_search.best_estimator_.feature_importances_\n",
    "feature_importances"
   ]
  },
  {
   "cell_type": "code",
   "execution_count": 65,
   "id": "yellow-carroll",
   "metadata": {},
   "outputs": [
    {
     "data": {
      "text/plain": [
       "[(0.34098702473282216, 'dropoff_longitude'),\n",
       " (0.3026137005850168, 'pickup_longitude'),\n",
       " (0.14820834849116693, 'dropoff_latitude'),\n",
       " (0.12891754178277828, 'pickup_latitude'),\n",
       " (0.01954075231532487, 'pickupYear'),\n",
       " (0.014734623625038442, 'pickupDayOfYear'),\n",
       " (0.013462786102370962, 'pickupDay'),\n",
       " (0.0130136426346204, 'pickupHour'),\n",
       " (0.00812532773099214, 'pickupDayOfWeek'),\n",
       " (0.005733756899002964, 'pickupMonth'),\n",
       " (0.004662495100866278, 'passenger_count')]"
      ]
     },
     "execution_count": 65,
     "metadata": {},
     "output_type": "execute_result"
    }
   ],
   "source": [
    "# Let's display these importance scores next to their corresponding attributes names\n",
    "sorted(zip(feature_importances, num_attribs), reverse=True)"
   ]
  },
  {
   "cell_type": "markdown",
   "id": "early-yorkshire",
   "metadata": {},
   "source": [
    "With this information, we could try dropping some of the less useful features (e.g., apparently passenger_count is not really useful).\n",
    "\n",
    "We should also look at the specific errors that our system makes, then try to understand why it makes them and what could fix the problem (adding extra features or getting rid of uninformative ones, cleaning up outliers, etc.)."
   ]
  }
 ],
 "metadata": {
  "kernelspec": {
   "display_name": "Python 3",
   "language": "python",
   "name": "python3"
  },
  "language_info": {
   "codemirror_mode": {
    "name": "ipython",
    "version": 3
   },
   "file_extension": ".py",
   "mimetype": "text/x-python",
   "name": "python",
   "nbconvert_exporter": "python",
   "pygments_lexer": "ipython3",
   "version": "3.8.5"
  }
 },
 "nbformat": 4,
 "nbformat_minor": 5
}
