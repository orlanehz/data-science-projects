{
 "cells": [
  {
   "cell_type": "markdown",
   "id": "three-invitation",
   "metadata": {},
   "source": [
    "<h1 align=\"center\">🚕</h1>\n",
    "<h1 align=\"center\">Predicting the Taxi Fare of New York City riders using Machine Learning</h1>"
   ]
  },
  {
   "cell_type": "markdown",
   "id": "cleared-employment",
   "metadata": {},
   "source": [
    "<hr/>\n",
    "<div align=\"center\">In this notebook, the goal is to predict the New York City Taxi Fare.</div>"
   ]
  },
  {
   "cell_type": "markdown",
   "id": "metallic-words",
   "metadata": {},
   "source": [
    "## The big picture."
   ]
  },
  {
   "cell_type": "markdown",
   "id": "large-sodium",
   "metadata": {},
   "source": [
    "### 1. Problem\n",
    "\n",
    "> How well can we predict the fare amount for a taxi ride in New York City, given the pickup and dropoff locations ?"
   ]
  },
  {
   "cell_type": "markdown",
   "id": "prompt-enclosure",
   "metadata": {},
   "source": [
    "### 2. Data\n",
    "\n",
    "The data is downloaded from the Kaggle New York City Taxi Fare Prediction competition:\n",
    "https://www.kaggle.com/c/new-york-city-taxi-fare-prediction/data\n",
    "\n",
    "There are two main datasets:\n",
    "- **Train.csv**, the training set, which contains data from January 1, 2009 - June 30, 2015.\n",
    "- **Test.csv**, the test set, which contains data from January 1, 2009 - June 30, 2015."
   ]
  },
  {
   "cell_type": "markdown",
   "id": "copyrighted-medicaid",
   "metadata": {},
   "source": [
    "### 3. Evaluation\n",
    "\n",
    "The evaluation metric for this competition is the **RMSE (Root Mean-Squared Error)** between the actual and predicted fare amount.\n",
    "\n",
    "For more on the evaluation on this project check:\n",
    "https://www.kaggle.com/c/new-york-city-taxi-fare-prediction/overview/evaluation"
   ]
  },
  {
   "cell_type": "markdown",
   "id": "growing-artwork",
   "metadata": {},
   "source": [
    "### 4. Features\n",
    "\n",
    "* **pickup_datetime** - timestamp value indicating when the taxi ride started.\n",
    "* **pickup_longitude** - float for longitude coordinate of where the taxi ride started.\n",
    "* **pickup_latitude** - float for latitude coordinate of where the taxi ride started.\n",
    "* **dropoff_longitude** - float for longitude coordinate of where the taxi ride ended.\n",
    "* **dropoff_latitude** - float for latitude coordinate of where the taxi ride ended.\n",
    "* **passenger_count** - integer indicating the number of passengers in the taxi ride.\n",
    "* **fare_amount** - float dollar amount of the cost of the taxi ride."
   ]
  },
  {
   "cell_type": "markdown",
   "id": "finnish-elephant",
   "metadata": {},
   "source": [
    "### 5. Frame the problem\n",
    "\n",
    "It is clearly a typical **supervised learning task**, since we are given a target attribute `fare_amount`.\n",
    "\n",
    "It is also a typical **regression task**, since we aimed to predict a value, the amount of the cost of the taxi ride.\n",
    "\n",
    "More specifically, it is a **multiple regression problem**, since the system will use multiple features to make a prediction, and a **univariate regression problem**, since we are only trying to predict a single value for each taxi ride.\n",
    "\n",
    "Finally, there is no continuous flow of data coming into the system, there is no particular need to adjust to changing data rapidly, and the data is small enough to fit in memory, so **plain batch learning** should do just fine."
   ]
  },
  {
   "cell_type": "markdown",
   "id": "public-special",
   "metadata": {},
   "source": [
    "<hr/>"
   ]
  },
  {
   "cell_type": "code",
   "execution_count": 56,
   "id": "tribal-retention",
   "metadata": {},
   "outputs": [],
   "source": [
    "# Standard imports\n",
    "\n",
    "# Regular EDA and plotting libraries\n",
    "import numpy as np\n",
    "import pandas as pd\n",
    "import matplotlib.pyplot as plt\n",
    "#import seaborn as sns\n",
    "%matplotlib inline\n",
    "\n",
    "# Transformation libraries\n",
    "from sklearn.impute import SimpleImputer\n",
    "from sklearn.pipeline import Pipeline\n",
    "from sklearn.preprocessing import StandardScaler\n",
    "from sklearn.compose import ColumnTransformer\n",
    "\n",
    "# Models from Scikit-Learn\n",
    "from sklearn.linear_model import LinearRegression\n",
    "from sklearn.ensemble import RandomForestRegressor\n",
    "\n",
    "# Model Evaluations\n",
    "from sklearn.metrics import mean_squared_error\n",
    "from sklearn.model_selection import cross_val_score, GridSearchCV, RandomizedSearchCV"
   ]
  },
  {
   "cell_type": "markdown",
   "id": "informative-spider",
   "metadata": {},
   "source": [
    "## Get the Data."
   ]
  },
  {
   "cell_type": "code",
   "execution_count": 2,
   "id": "fresh-exception",
   "metadata": {},
   "outputs": [],
   "source": [
    "# Load the training set\n",
    "NB_ROWS = 20000 # we are sampling the data down to a manageable size which is good to get started\n",
    "taxi_original = pd.read_csv(\"datasets/new-york-city-taxi/train.csv\", nrows=NB_ROWS)\n",
    "\n",
    "#/?\\ I could create here a function to fetch the data\n",
    "#/!\\ I also need to shuffle the data when I sample it down (see page 52 end + 53), avoid the sampling bias, make sure that the 20000 instances are representative? or test set?"
   ]
  },
  {
   "cell_type": "code",
   "execution_count": 3,
   "id": "numerical-baseball",
   "metadata": {},
   "outputs": [],
   "source": [
    "# Load the test set\n",
    "taxi_test = pd.read_csv(\"datasets/new-york-city-taxi/test.csv\")"
   ]
  },
  {
   "cell_type": "code",
   "execution_count": 4,
   "id": "prepared-number",
   "metadata": {},
   "outputs": [
    {
     "data": {
      "text/plain": [
       "((20000, 8), (9914, 7))"
      ]
     },
     "execution_count": 4,
     "metadata": {},
     "output_type": "execute_result"
    }
   ],
   "source": [
    "taxi_original.shape, taxi_test.shape"
   ]
  },
  {
   "cell_type": "code",
   "execution_count": 5,
   "id": "twenty-robert",
   "metadata": {},
   "outputs": [],
   "source": [
    "# Further in the notebook, we have to make sure that the test set is representative of the whole taxi rides. (page 54)\n",
    "# or like in page 56, we can process the strat_.. here in order to have a sample (20000) representative of the test set we are given ?"
   ]
  },
  {
   "cell_type": "markdown",
   "id": "bronze-honduras",
   "metadata": {},
   "source": [
    "## EDA.\n",
    "\n",
    "We will here try to find out more about the data."
   ]
  },
  {
   "cell_type": "markdown",
   "id": "completed-ranking",
   "metadata": {},
   "source": [
    "#### Copy of the original DataFrame for exploration\n",
    "We make a copy of the original DataFrame so when we manipulate the copy, we've still got our original data."
   ]
  },
  {
   "cell_type": "code",
   "execution_count": 6,
   "id": "restricted-development",
   "metadata": {},
   "outputs": [],
   "source": [
    "taxi = taxi_original.copy()"
   ]
  },
  {
   "cell_type": "code",
   "execution_count": 7,
   "id": "floral-spoke",
   "metadata": {},
   "outputs": [
    {
     "data": {
      "text/plain": [
       "6.50     951\n",
       "4.50     834\n",
       "8.50     774\n",
       "5.30     574\n",
       "6.10     565\n",
       "        ... \n",
       "37.53      1\n",
       "41.04      1\n",
       "59.10      1\n",
       "22.54      1\n",
       "28.54      1\n",
       "Name: fare_amount, Length: 483, dtype: int64"
      ]
     },
     "execution_count": 7,
     "metadata": {},
     "output_type": "execute_result"
    }
   ],
   "source": [
    "taxi[\"fare_amount\"].value_counts()"
   ]
  },
  {
   "cell_type": "code",
   "execution_count": 8,
   "id": "logical-hamilton",
   "metadata": {
    "scrolled": true
   },
   "outputs": [
    {
     "data": {
      "text/html": [
       "<div>\n",
       "<style scoped>\n",
       "    .dataframe tbody tr th:only-of-type {\n",
       "        vertical-align: middle;\n",
       "    }\n",
       "\n",
       "    .dataframe tbody tr th {\n",
       "        vertical-align: top;\n",
       "    }\n",
       "\n",
       "    .dataframe thead th {\n",
       "        text-align: right;\n",
       "    }\n",
       "</style>\n",
       "<table border=\"1\" class=\"dataframe\">\n",
       "  <thead>\n",
       "    <tr style=\"text-align: right;\">\n",
       "      <th></th>\n",
       "      <th>key</th>\n",
       "      <th>fare_amount</th>\n",
       "      <th>pickup_datetime</th>\n",
       "      <th>pickup_longitude</th>\n",
       "      <th>pickup_latitude</th>\n",
       "      <th>dropoff_longitude</th>\n",
       "      <th>dropoff_latitude</th>\n",
       "      <th>passenger_count</th>\n",
       "    </tr>\n",
       "  </thead>\n",
       "  <tbody>\n",
       "    <tr>\n",
       "      <th>0</th>\n",
       "      <td>2009-06-15 17:26:21.0000001</td>\n",
       "      <td>4.5</td>\n",
       "      <td>2009-06-15 17:26:21 UTC</td>\n",
       "      <td>-73.844311</td>\n",
       "      <td>40.721319</td>\n",
       "      <td>-73.841610</td>\n",
       "      <td>40.712278</td>\n",
       "      <td>1</td>\n",
       "    </tr>\n",
       "    <tr>\n",
       "      <th>1</th>\n",
       "      <td>2010-01-05 16:52:16.0000002</td>\n",
       "      <td>16.9</td>\n",
       "      <td>2010-01-05 16:52:16 UTC</td>\n",
       "      <td>-74.016048</td>\n",
       "      <td>40.711303</td>\n",
       "      <td>-73.979268</td>\n",
       "      <td>40.782004</td>\n",
       "      <td>1</td>\n",
       "    </tr>\n",
       "    <tr>\n",
       "      <th>2</th>\n",
       "      <td>2011-08-18 00:35:00.00000049</td>\n",
       "      <td>5.7</td>\n",
       "      <td>2011-08-18 00:35:00 UTC</td>\n",
       "      <td>-73.982738</td>\n",
       "      <td>40.761270</td>\n",
       "      <td>-73.991242</td>\n",
       "      <td>40.750562</td>\n",
       "      <td>2</td>\n",
       "    </tr>\n",
       "    <tr>\n",
       "      <th>3</th>\n",
       "      <td>2012-04-21 04:30:42.0000001</td>\n",
       "      <td>7.7</td>\n",
       "      <td>2012-04-21 04:30:42 UTC</td>\n",
       "      <td>-73.987130</td>\n",
       "      <td>40.733143</td>\n",
       "      <td>-73.991567</td>\n",
       "      <td>40.758092</td>\n",
       "      <td>1</td>\n",
       "    </tr>\n",
       "    <tr>\n",
       "      <th>4</th>\n",
       "      <td>2010-03-09 07:51:00.000000135</td>\n",
       "      <td>5.3</td>\n",
       "      <td>2010-03-09 07:51:00 UTC</td>\n",
       "      <td>-73.968095</td>\n",
       "      <td>40.768008</td>\n",
       "      <td>-73.956655</td>\n",
       "      <td>40.783762</td>\n",
       "      <td>1</td>\n",
       "    </tr>\n",
       "  </tbody>\n",
       "</table>\n",
       "</div>"
      ],
      "text/plain": [
       "                             key  fare_amount          pickup_datetime  \\\n",
       "0    2009-06-15 17:26:21.0000001          4.5  2009-06-15 17:26:21 UTC   \n",
       "1    2010-01-05 16:52:16.0000002         16.9  2010-01-05 16:52:16 UTC   \n",
       "2   2011-08-18 00:35:00.00000049          5.7  2011-08-18 00:35:00 UTC   \n",
       "3    2012-04-21 04:30:42.0000001          7.7  2012-04-21 04:30:42 UTC   \n",
       "4  2010-03-09 07:51:00.000000135          5.3  2010-03-09 07:51:00 UTC   \n",
       "\n",
       "   pickup_longitude  pickup_latitude  dropoff_longitude  dropoff_latitude  \\\n",
       "0        -73.844311        40.721319         -73.841610         40.712278   \n",
       "1        -74.016048        40.711303         -73.979268         40.782004   \n",
       "2        -73.982738        40.761270         -73.991242         40.750562   \n",
       "3        -73.987130        40.733143         -73.991567         40.758092   \n",
       "4        -73.968095        40.768008         -73.956655         40.783762   \n",
       "\n",
       "   passenger_count  \n",
       "0                1  \n",
       "1                1  \n",
       "2                2  \n",
       "3                1  \n",
       "4                1  "
      ]
     },
     "execution_count": 8,
     "metadata": {},
     "output_type": "execute_result"
    }
   ],
   "source": [
    "taxi.head()"
   ]
  },
  {
   "cell_type": "code",
   "execution_count": 9,
   "id": "particular-prediction",
   "metadata": {
    "scrolled": true
   },
   "outputs": [
    {
     "name": "stdout",
     "output_type": "stream",
     "text": [
      "<class 'pandas.core.frame.DataFrame'>\n",
      "RangeIndex: 20000 entries, 0 to 19999\n",
      "Data columns (total 8 columns):\n",
      " #   Column             Non-Null Count  Dtype  \n",
      "---  ------             --------------  -----  \n",
      " 0   key                20000 non-null  object \n",
      " 1   fare_amount        20000 non-null  float64\n",
      " 2   pickup_datetime    20000 non-null  object \n",
      " 3   pickup_longitude   20000 non-null  float64\n",
      " 4   pickup_latitude    20000 non-null  float64\n",
      " 5   dropoff_longitude  20000 non-null  float64\n",
      " 6   dropoff_latitude   20000 non-null  float64\n",
      " 7   passenger_count    20000 non-null  int64  \n",
      "dtypes: float64(5), int64(1), object(2)\n",
      "memory usage: 1.2+ MB\n"
     ]
    }
   ],
   "source": [
    "taxi.info()"
   ]
  },
  {
   "cell_type": "code",
   "execution_count": 10,
   "id": "wired-stuart",
   "metadata": {
    "scrolled": true
   },
   "outputs": [
    {
     "data": {
      "text/html": [
       "<div>\n",
       "<style scoped>\n",
       "    .dataframe tbody tr th:only-of-type {\n",
       "        vertical-align: middle;\n",
       "    }\n",
       "\n",
       "    .dataframe tbody tr th {\n",
       "        vertical-align: top;\n",
       "    }\n",
       "\n",
       "    .dataframe thead th {\n",
       "        text-align: right;\n",
       "    }\n",
       "</style>\n",
       "<table border=\"1\" class=\"dataframe\">\n",
       "  <thead>\n",
       "    <tr style=\"text-align: right;\">\n",
       "      <th></th>\n",
       "      <th>fare_amount</th>\n",
       "      <th>pickup_longitude</th>\n",
       "      <th>pickup_latitude</th>\n",
       "      <th>dropoff_longitude</th>\n",
       "      <th>dropoff_latitude</th>\n",
       "      <th>passenger_count</th>\n",
       "    </tr>\n",
       "  </thead>\n",
       "  <tbody>\n",
       "    <tr>\n",
       "      <th>count</th>\n",
       "      <td>20000.000000</td>\n",
       "      <td>20000.000000</td>\n",
       "      <td>20000.000000</td>\n",
       "      <td>20000.000000</td>\n",
       "      <td>20000.000000</td>\n",
       "      <td>20000.000000</td>\n",
       "    </tr>\n",
       "    <tr>\n",
       "      <th>mean</th>\n",
       "      <td>11.303321</td>\n",
       "      <td>-72.478584</td>\n",
       "      <td>39.921043</td>\n",
       "      <td>-72.497221</td>\n",
       "      <td>39.913606</td>\n",
       "      <td>1.658000</td>\n",
       "    </tr>\n",
       "    <tr>\n",
       "      <th>std</th>\n",
       "      <td>9.541637</td>\n",
       "      <td>10.525376</td>\n",
       "      <td>6.678592</td>\n",
       "      <td>10.460530</td>\n",
       "      <td>6.139231</td>\n",
       "      <td>1.283674</td>\n",
       "    </tr>\n",
       "    <tr>\n",
       "      <th>min</th>\n",
       "      <td>-3.000000</td>\n",
       "      <td>-74.438233</td>\n",
       "      <td>-74.006893</td>\n",
       "      <td>-84.654241</td>\n",
       "      <td>-74.006377</td>\n",
       "      <td>0.000000</td>\n",
       "    </tr>\n",
       "    <tr>\n",
       "      <th>25%</th>\n",
       "      <td>6.000000</td>\n",
       "      <td>-73.992150</td>\n",
       "      <td>40.734706</td>\n",
       "      <td>-73.991224</td>\n",
       "      <td>40.734537</td>\n",
       "      <td>1.000000</td>\n",
       "    </tr>\n",
       "    <tr>\n",
       "      <th>50%</th>\n",
       "      <td>8.500000</td>\n",
       "      <td>-73.981711</td>\n",
       "      <td>40.752680</td>\n",
       "      <td>-73.980216</td>\n",
       "      <td>40.753583</td>\n",
       "      <td>1.000000</td>\n",
       "    </tr>\n",
       "    <tr>\n",
       "      <th>75%</th>\n",
       "      <td>12.500000</td>\n",
       "      <td>-73.966802</td>\n",
       "      <td>40.767443</td>\n",
       "      <td>-73.963729</td>\n",
       "      <td>40.768135</td>\n",
       "      <td>2.000000</td>\n",
       "    </tr>\n",
       "    <tr>\n",
       "      <th>max</th>\n",
       "      <td>180.000000</td>\n",
       "      <td>40.766125</td>\n",
       "      <td>401.083332</td>\n",
       "      <td>40.802437</td>\n",
       "      <td>41.366138</td>\n",
       "      <td>6.000000</td>\n",
       "    </tr>\n",
       "  </tbody>\n",
       "</table>\n",
       "</div>"
      ],
      "text/plain": [
       "        fare_amount  pickup_longitude  pickup_latitude  dropoff_longitude  \\\n",
       "count  20000.000000      20000.000000     20000.000000       20000.000000   \n",
       "mean      11.303321        -72.478584        39.921043         -72.497221   \n",
       "std        9.541637         10.525376         6.678592          10.460530   \n",
       "min       -3.000000        -74.438233       -74.006893         -84.654241   \n",
       "25%        6.000000        -73.992150        40.734706         -73.991224   \n",
       "50%        8.500000        -73.981711        40.752680         -73.980216   \n",
       "75%       12.500000        -73.966802        40.767443         -73.963729   \n",
       "max      180.000000         40.766125       401.083332          40.802437   \n",
       "\n",
       "       dropoff_latitude  passenger_count  \n",
       "count      20000.000000     20000.000000  \n",
       "mean          39.913606         1.658000  \n",
       "std            6.139231         1.283674  \n",
       "min          -74.006377         0.000000  \n",
       "25%           40.734537         1.000000  \n",
       "50%           40.753583         1.000000  \n",
       "75%           40.768135         2.000000  \n",
       "max           41.366138         6.000000  "
      ]
     },
     "execution_count": 10,
     "metadata": {},
     "output_type": "execute_result"
    }
   ],
   "source": [
    "taxi.describe()"
   ]
  },
  {
   "cell_type": "code",
   "execution_count": 11,
   "id": "processed-boundary",
   "metadata": {},
   "outputs": [
    {
     "data": {
      "text/plain": [
       "key                  0\n",
       "fare_amount          0\n",
       "pickup_datetime      0\n",
       "pickup_longitude     0\n",
       "pickup_latitude      0\n",
       "dropoff_longitude    0\n",
       "dropoff_latitude     0\n",
       "passenger_count      0\n",
       "dtype: int64"
      ]
     },
     "execution_count": 11,
     "metadata": {},
     "output_type": "execute_result"
    }
   ],
   "source": [
    "# % of missing values\n",
    "taxi.isna().sum()"
   ]
  },
  {
   "cell_type": "markdown",
   "id": "serial-madison",
   "metadata": {},
   "source": [
    "Each row represents one race. There are 7 attributes: `key`, `pickup_datetime`, `pickup_longitude`, `pickup_latitude`, `dropoff_longitude`, `dropoff_latitude` and `passenger_count`.\n",
    "\n",
    "All attributes are numerical except the `key` and the `pickup_datetime` fields. For `pickup_datetime`, its type is object, but we know that it must be a date attribute. `key` is the combination of `pickup_datetime` and an id.\n",
    "\n",
    "There are 20,000 instances in the dataset. Notice that none of the attributes contain null values."
   ]
  },
  {
   "cell_type": "markdown",
   "id": "superior-council",
   "metadata": {},
   "source": [
    "#### Visualizing the Data"
   ]
  },
  {
   "cell_type": "code",
   "execution_count": 12,
   "id": "portuguese-presentation",
   "metadata": {},
   "outputs": [
    {
     "data": {
      "image/png": "[encoded data removed]",
      "text/plain": [
       "<Figure size 1440x1080 with 6 Axes>"
      ]
     },
     "metadata": {
      "needs_background": "light"
     },
     "output_type": "display_data"
    }
   ],
   "source": [
    "taxi.hist(bins=30, figsize=(20,15))\n",
    "plt.show()"
   ]
  },
  {
   "cell_type": "markdown",
   "id": "dependent-chapter",
   "metadata": {},
   "source": [
    "We notice that some attributes have a tail-heavy distribution. It seems maybe that long/lat have outliers."
   ]
  },
  {
   "cell_type": "code",
   "execution_count": 13,
   "id": "settled-interest",
   "metadata": {},
   "outputs": [],
   "source": [
    "#Corriger plus tard ces outliers dans la section Prepare the Data"
   ]
  },
  {
   "cell_type": "code",
   "execution_count": 14,
   "id": "durable-calcium",
   "metadata": {},
   "outputs": [
    {
     "data": {
      "text/plain": [
       "0    2009-06-15 17:26:21 UTC\n",
       "1    2010-01-05 16:52:16 UTC\n",
       "2    2011-08-18 00:35:00 UTC\n",
       "3    2012-04-21 04:30:42 UTC\n",
       "4    2010-03-09 07:51:00 UTC\n",
       "5    2011-01-06 09:50:45 UTC\n",
       "6    2012-11-20 20:35:00 UTC\n",
       "7    2012-01-04 17:22:00 UTC\n",
       "8    2012-12-03 13:10:00 UTC\n",
       "9    2009-09-02 01:11:00 UTC\n",
       "Name: pickup_datetime, dtype: object"
      ]
     },
     "execution_count": 14,
     "metadata": {},
     "output_type": "execute_result"
    }
   ],
   "source": [
    "# Let's see the pickup_datetime attribute and plot it with the fare_amount value\n",
    "taxi.pickup_datetime[:10]"
   ]
  },
  {
   "cell_type": "code",
   "execution_count": 15,
   "id": "cross-manor",
   "metadata": {},
   "outputs": [
    {
     "data": {
      "image/png": "[encoded data removed]",
      "text/plain": [
       "<Figure size 432x288 with 1 Axes>"
      ]
     },
     "metadata": {
      "needs_background": "light"
     },
     "output_type": "display_data"
    }
   ],
   "source": [
    "fig, ax = plt.subplots()\n",
    "ax.scatter(taxi[\"pickup_datetime\"][:1000], taxi[\"fare_amount\"][:1000]);"
   ]
  },
  {
   "cell_type": "code",
   "execution_count": 16,
   "id": "solved-resolution",
   "metadata": {},
   "outputs": [
    {
     "data": {
      "text/plain": [
       "1    13999\n",
       "2     2912\n",
       "5     1327\n",
       "3      860\n",
       "4      420\n",
       "6      407\n",
       "0       75\n",
       "Name: passenger_count, dtype: int64"
      ]
     },
     "execution_count": 16,
     "metadata": {},
     "output_type": "execute_result"
    }
   ],
   "source": [
    "taxi.passenger_count.value_counts()"
   ]
  },
  {
   "cell_type": "code",
   "execution_count": 17,
   "id": "natural-marsh",
   "metadata": {},
   "outputs": [],
   "source": [
    "# Should we delete data instances with no passengers?"
   ]
  },
  {
   "cell_type": "markdown",
   "id": "bound-luxembourg",
   "metadata": {},
   "source": [
    "#### Visualizing Geographical Data\n",
    "\n",
    "Since there is geographical information (`latitud`, `longitude`), it is a good idea to plot the data of all taxi rides."
   ]
  },
  {
   "cell_type": "code",
   "execution_count": 18,
   "id": "measured-sunday",
   "metadata": {},
   "outputs": [
    {
     "data": {
      "image/png": "[encoded data removed]",
      "text/plain": [
       "<Figure size 432x288 with 1 Axes>"
      ]
     },
     "metadata": {
      "needs_background": "light"
     },
     "output_type": "display_data"
    }
   ],
   "source": [
    "taxi.plot(kind=\"scatter\", x=\"pickup_longitude\", y=\"pickup_latitude\");"
   ]
  },
  {
   "cell_type": "code",
   "execution_count": 19,
   "id": "statutory-dragon",
   "metadata": {},
   "outputs": [
    {
     "data": {
      "image/png": "[encoded data removed]",
      "text/plain": [
       "<Figure size 432x288 with 1 Axes>"
      ]
     },
     "metadata": {
      "needs_background": "light"
     },
     "output_type": "display_data"
    }
   ],
   "source": [
    "taxi.plot(kind=\"scatter\", x=\"dropoff_longitude\", y=\"dropoff_latitude\");"
   ]
  },
  {
   "cell_type": "markdown",
   "id": "engaged-treatment",
   "metadata": {},
   "source": [
    "#### Looking for Correlations\n",
    "\n",
    "Now let's look at how much each attribute correlates with the fare amount value."
   ]
  },
  {
   "cell_type": "code",
   "execution_count": 20,
   "id": "flying-capture",
   "metadata": {},
   "outputs": [
    {
     "data": {
      "text/html": [
       "<div>\n",
       "<style scoped>\n",
       "    .dataframe tbody tr th:only-of-type {\n",
       "        vertical-align: middle;\n",
       "    }\n",
       "\n",
       "    .dataframe tbody tr th {\n",
       "        vertical-align: top;\n",
       "    }\n",
       "\n",
       "    .dataframe thead th {\n",
       "        text-align: right;\n",
       "    }\n",
       "</style>\n",
       "<table border=\"1\" class=\"dataframe\">\n",
       "  <thead>\n",
       "    <tr style=\"text-align: right;\">\n",
       "      <th></th>\n",
       "      <th>fare_amount</th>\n",
       "      <th>pickup_longitude</th>\n",
       "      <th>pickup_latitude</th>\n",
       "      <th>dropoff_longitude</th>\n",
       "      <th>dropoff_latitude</th>\n",
       "      <th>passenger_count</th>\n",
       "    </tr>\n",
       "  </thead>\n",
       "  <tbody>\n",
       "    <tr>\n",
       "      <th>fare_amount</th>\n",
       "      <td>1.000000</td>\n",
       "      <td>0.013226</td>\n",
       "      <td>-0.015276</td>\n",
       "      <td>0.013114</td>\n",
       "      <td>-0.014112</td>\n",
       "      <td>0.010379</td>\n",
       "    </tr>\n",
       "    <tr>\n",
       "      <th>pickup_longitude</th>\n",
       "      <td>0.013226</td>\n",
       "      <td>1.000000</td>\n",
       "      <td>-0.907930</td>\n",
       "      <td>0.961721</td>\n",
       "      <td>-0.947875</td>\n",
       "      <td>-0.008849</td>\n",
       "    </tr>\n",
       "    <tr>\n",
       "      <th>pickup_latitude</th>\n",
       "      <td>-0.015276</td>\n",
       "      <td>-0.907930</td>\n",
       "      <td>1.000000</td>\n",
       "      <td>-0.877113</td>\n",
       "      <td>0.894926</td>\n",
       "      <td>0.006015</td>\n",
       "    </tr>\n",
       "    <tr>\n",
       "      <th>dropoff_longitude</th>\n",
       "      <td>0.013114</td>\n",
       "      <td>0.961721</td>\n",
       "      <td>-0.877113</td>\n",
       "      <td>1.000000</td>\n",
       "      <td>-0.977122</td>\n",
       "      <td>-0.007974</td>\n",
       "    </tr>\n",
       "    <tr>\n",
       "      <th>dropoff_latitude</th>\n",
       "      <td>-0.014112</td>\n",
       "      <td>-0.947875</td>\n",
       "      <td>0.894926</td>\n",
       "      <td>-0.977122</td>\n",
       "      <td>1.000000</td>\n",
       "      <td>0.006698</td>\n",
       "    </tr>\n",
       "    <tr>\n",
       "      <th>passenger_count</th>\n",
       "      <td>0.010379</td>\n",
       "      <td>-0.008849</td>\n",
       "      <td>0.006015</td>\n",
       "      <td>-0.007974</td>\n",
       "      <td>0.006698</td>\n",
       "      <td>1.000000</td>\n",
       "    </tr>\n",
       "  </tbody>\n",
       "</table>\n",
       "</div>"
      ],
      "text/plain": [
       "                   fare_amount  pickup_longitude  pickup_latitude  \\\n",
       "fare_amount           1.000000          0.013226        -0.015276   \n",
       "pickup_longitude      0.013226          1.000000        -0.907930   \n",
       "pickup_latitude      -0.015276         -0.907930         1.000000   \n",
       "dropoff_longitude     0.013114          0.961721        -0.877113   \n",
       "dropoff_latitude     -0.014112         -0.947875         0.894926   \n",
       "passenger_count       0.010379         -0.008849         0.006015   \n",
       "\n",
       "                   dropoff_longitude  dropoff_latitude  passenger_count  \n",
       "fare_amount                 0.013114         -0.014112         0.010379  \n",
       "pickup_longitude            0.961721         -0.947875        -0.008849  \n",
       "pickup_latitude            -0.877113          0.894926         0.006015  \n",
       "dropoff_longitude           1.000000         -0.977122        -0.007974  \n",
       "dropoff_latitude           -0.977122          1.000000         0.006698  \n",
       "passenger_count            -0.007974          0.006698         1.000000  "
      ]
     },
     "execution_count": 20,
     "metadata": {},
     "output_type": "execute_result"
    }
   ],
   "source": [
    "corr_matrix = taxi.corr()\n",
    "corr_matrix"
   ]
  },
  {
   "cell_type": "code",
   "execution_count": 21,
   "id": "stunning-contrast",
   "metadata": {},
   "outputs": [
    {
     "data": {
      "text/plain": [
       "fare_amount          1.000000\n",
       "pickup_longitude     0.013226\n",
       "dropoff_longitude    0.013114\n",
       "passenger_count      0.010379\n",
       "dropoff_latitude    -0.014112\n",
       "pickup_latitude     -0.015276\n",
       "Name: fare_amount, dtype: float64"
      ]
     },
     "execution_count": 21,
     "metadata": {},
     "output_type": "execute_result"
    }
   ],
   "source": [
    "corr_matrix[\"fare_amount\"].sort_values(ascending=False)"
   ]
  },
  {
   "cell_type": "markdown",
   "id": "jewish-interface",
   "metadata": {},
   "source": [
    "Coefficients close to 0 mean that there is no linear correlation."
   ]
  },
  {
   "cell_type": "code",
   "execution_count": 22,
   "id": "going-concept",
   "metadata": {},
   "outputs": [
    {
     "data": {
      "image/png": "[encoded data removed]",
      "text/plain": [
       "<Figure size 1440x1080 with 36 Axes>"
      ]
     },
     "metadata": {
      "needs_background": "light"
     },
     "output_type": "display_data"
    }
   ],
   "source": [
    "from pandas.plotting import scatter_matrix\n",
    "attributes = [\"fare_amount\", \"pickup_longitude\", \"pickup_latitude\", \"dropoff_longitude\", \"dropoff_latitude\", \"passenger_count\"]\n",
    "scatter_matrix(taxi[attributes], figsize=(20, 15))\n",
    "plt.show()"
   ]
  },
  {
   "cell_type": "code",
   "execution_count": 23,
   "id": "developmental-effects",
   "metadata": {},
   "outputs": [],
   "source": [
    "# peut être enlever ce dernier graph"
   ]
  },
  {
   "cell_type": "markdown",
   "id": "worthy-nightmare",
   "metadata": {},
   "source": [
    "#### Let's try some various attribute combinations"
   ]
  },
  {
   "cell_type": "code",
   "execution_count": null,
   "id": "honey-tribute",
   "metadata": {},
   "outputs": [],
   "source": []
  },
  {
   "cell_type": "markdown",
   "id": "sporting-resistance",
   "metadata": {},
   "source": [
    "#### Parsing dates\n",
    "\n",
    "As we are working with time series data, we want to enrich the time and date component as much as possible."
   ]
  },
  {
   "cell_type": "code",
   "execution_count": 24,
   "id": "simple-scientist",
   "metadata": {},
   "outputs": [
    {
     "data": {
      "text/html": [
       "<div>\n",
       "<style scoped>\n",
       "    .dataframe tbody tr th:only-of-type {\n",
       "        vertical-align: middle;\n",
       "    }\n",
       "\n",
       "    .dataframe tbody tr th {\n",
       "        vertical-align: top;\n",
       "    }\n",
       "\n",
       "    .dataframe thead th {\n",
       "        text-align: right;\n",
       "    }\n",
       "</style>\n",
       "<table border=\"1\" class=\"dataframe\">\n",
       "  <thead>\n",
       "    <tr style=\"text-align: right;\">\n",
       "      <th></th>\n",
       "      <th>key</th>\n",
       "      <th>fare_amount</th>\n",
       "      <th>pickup_datetime</th>\n",
       "      <th>pickup_longitude</th>\n",
       "      <th>pickup_latitude</th>\n",
       "      <th>dropoff_longitude</th>\n",
       "      <th>dropoff_latitude</th>\n",
       "      <th>passenger_count</th>\n",
       "    </tr>\n",
       "  </thead>\n",
       "  <tbody>\n",
       "    <tr>\n",
       "      <th>0</th>\n",
       "      <td>2009-06-15 17:26:21.0000001</td>\n",
       "      <td>4.5</td>\n",
       "      <td>2009-06-15 17:26:21+00:00</td>\n",
       "      <td>-73.844311</td>\n",
       "      <td>40.721319</td>\n",
       "      <td>-73.841610</td>\n",
       "      <td>40.712278</td>\n",
       "      <td>1</td>\n",
       "    </tr>\n",
       "    <tr>\n",
       "      <th>1</th>\n",
       "      <td>2010-01-05 16:52:16.0000002</td>\n",
       "      <td>16.9</td>\n",
       "      <td>2010-01-05 16:52:16+00:00</td>\n",
       "      <td>-74.016048</td>\n",
       "      <td>40.711303</td>\n",
       "      <td>-73.979268</td>\n",
       "      <td>40.782004</td>\n",
       "      <td>1</td>\n",
       "    </tr>\n",
       "    <tr>\n",
       "      <th>2</th>\n",
       "      <td>2011-08-18 00:35:00.00000049</td>\n",
       "      <td>5.7</td>\n",
       "      <td>2011-08-18 00:35:00+00:00</td>\n",
       "      <td>-73.982738</td>\n",
       "      <td>40.761270</td>\n",
       "      <td>-73.991242</td>\n",
       "      <td>40.750562</td>\n",
       "      <td>2</td>\n",
       "    </tr>\n",
       "    <tr>\n",
       "      <th>3</th>\n",
       "      <td>2012-04-21 04:30:42.0000001</td>\n",
       "      <td>7.7</td>\n",
       "      <td>2012-04-21 04:30:42+00:00</td>\n",
       "      <td>-73.987130</td>\n",
       "      <td>40.733143</td>\n",
       "      <td>-73.991567</td>\n",
       "      <td>40.758092</td>\n",
       "      <td>1</td>\n",
       "    </tr>\n",
       "    <tr>\n",
       "      <th>4</th>\n",
       "      <td>2010-03-09 07:51:00.000000135</td>\n",
       "      <td>5.3</td>\n",
       "      <td>2010-03-09 07:51:00+00:00</td>\n",
       "      <td>-73.968095</td>\n",
       "      <td>40.768008</td>\n",
       "      <td>-73.956655</td>\n",
       "      <td>40.783762</td>\n",
       "      <td>1</td>\n",
       "    </tr>\n",
       "  </tbody>\n",
       "</table>\n",
       "</div>"
      ],
      "text/plain": [
       "                             key  fare_amount           pickup_datetime  \\\n",
       "0    2009-06-15 17:26:21.0000001          4.5 2009-06-15 17:26:21+00:00   \n",
       "1    2010-01-05 16:52:16.0000002         16.9 2010-01-05 16:52:16+00:00   \n",
       "2   2011-08-18 00:35:00.00000049          5.7 2011-08-18 00:35:00+00:00   \n",
       "3    2012-04-21 04:30:42.0000001          7.7 2012-04-21 04:30:42+00:00   \n",
       "4  2010-03-09 07:51:00.000000135          5.3 2010-03-09 07:51:00+00:00   \n",
       "\n",
       "   pickup_longitude  pickup_latitude  dropoff_longitude  dropoff_latitude  \\\n",
       "0        -73.844311        40.721319         -73.841610         40.712278   \n",
       "1        -74.016048        40.711303         -73.979268         40.782004   \n",
       "2        -73.982738        40.761270         -73.991242         40.750562   \n",
       "3        -73.987130        40.733143         -73.991567         40.758092   \n",
       "4        -73.968095        40.768008         -73.956655         40.783762   \n",
       "\n",
       "   passenger_count  \n",
       "0                1  \n",
       "1                1  \n",
       "2                2  \n",
       "3                1  \n",
       "4                1  "
      ]
     },
     "execution_count": 24,
     "metadata": {},
     "output_type": "execute_result"
    }
   ],
   "source": [
    "# We import the data again but we parse dates\n",
    "taxi = pd.read_csv(\"datasets/new-york-city-taxi/train.csv\", nrows=NB_ROWS,\n",
    "                  low_memory=False,\n",
    "                  parse_dates=[\"pickup_datetime\"])\n",
    "taxi.head()"
   ]
  },
  {
   "cell_type": "code",
   "execution_count": 25,
   "id": "adjustable-telephone",
   "metadata": {},
   "outputs": [
    {
     "data": {
      "text/plain": [
       "datetime64[ns, UTC]"
      ]
     },
     "execution_count": 25,
     "metadata": {},
     "output_type": "execute_result"
    }
   ],
   "source": [
    "taxi.pickup_datetime.dtype"
   ]
  },
  {
   "cell_type": "code",
   "execution_count": 26,
   "id": "necessary-helena",
   "metadata": {},
   "outputs": [
    {
     "data": {
      "text/plain": [
       "0   2009-06-15 17:26:21+00:00\n",
       "1   2010-01-05 16:52:16+00:00\n",
       "2   2011-08-18 00:35:00+00:00\n",
       "3   2012-04-21 04:30:42+00:00\n",
       "4   2010-03-09 07:51:00+00:00\n",
       "5   2011-01-06 09:50:45+00:00\n",
       "6   2012-11-20 20:35:00+00:00\n",
       "7   2012-01-04 17:22:00+00:00\n",
       "8   2012-12-03 13:10:00+00:00\n",
       "9   2009-09-02 01:11:00+00:00\n",
       "Name: pickup_datetime, dtype: datetime64[ns, UTC]"
      ]
     },
     "execution_count": 26,
     "metadata": {},
     "output_type": "execute_result"
    }
   ],
   "source": [
    "taxi.pickup_datetime[:10]"
   ]
  },
  {
   "cell_type": "code",
   "execution_count": 27,
   "id": "offensive-genesis",
   "metadata": {},
   "outputs": [
    {
     "data": {
      "image/png": "[encoded data removed]",
      "text/plain": [
       "<Figure size 432x288 with 1 Axes>"
      ]
     },
     "metadata": {
      "needs_background": "light"
     },
     "output_type": "display_data"
    }
   ],
   "source": [
    "fig, ax = plt.subplots()\n",
    "ax.scatter(taxi[\"pickup_datetime\"][:1000], taxi[\"fare_amount\"][:1000]);"
   ]
  },
  {
   "cell_type": "code",
   "execution_count": 28,
   "id": "heated-moscow",
   "metadata": {},
   "outputs": [
    {
     "data": {
      "text/plain": [
       "12739   2009-01-01 01:31:49+00:00\n",
       "17546   2009-01-01 02:05:37+00:00\n",
       "8684    2009-01-01 02:51:52+00:00\n",
       "11623   2009-01-01 15:19:00+00:00\n",
       "10004   2009-01-01 16:52:00+00:00\n",
       "7756    2009-01-01 17:07:00+00:00\n",
       "13904   2009-01-01 19:57:19+00:00\n",
       "16313   2009-01-01 22:40:03+00:00\n",
       "2354    2009-01-02 02:32:41+00:00\n",
       "7704    2009-01-02 06:35:00+00:00\n",
       "Name: pickup_datetime, dtype: datetime64[ns, UTC]"
      ]
     },
     "execution_count": 28,
     "metadata": {},
     "output_type": "execute_result"
    }
   ],
   "source": [
    "# Sort DataFrame in date order\n",
    "taxi.sort_values(by=[\"pickup_datetime\"], inplace=True, ascending=True)\n",
    "taxi.pickup_datetime.head(10)"
   ]
  },
  {
   "cell_type": "code",
   "execution_count": 29,
   "id": "illegal-control",
   "metadata": {},
   "outputs": [],
   "source": [
    "# Add datetime parameters for pickup_datetime column\n",
    "taxi[\"pickupYear\"] = taxi.pickup_datetime.dt.year\n",
    "taxi[\"pickupMonth\"] = taxi.pickup_datetime.dt.month\n",
    "taxi[\"pickupDay\"] = taxi.pickup_datetime.dt.day\n",
    "taxi[\"pickupDayOfWeek\"] = taxi.pickup_datetime.dt.dayofweek\n",
    "taxi[\"pickupDayOfYear\"] = taxi.pickup_datetime.dt.dayofyear"
   ]
  },
  {
   "cell_type": "code",
   "execution_count": 30,
   "id": "graphic-style",
   "metadata": {},
   "outputs": [
    {
     "data": {
      "text/html": [
       "<div>\n",
       "<style scoped>\n",
       "    .dataframe tbody tr th:only-of-type {\n",
       "        vertical-align: middle;\n",
       "    }\n",
       "\n",
       "    .dataframe tbody tr th {\n",
       "        vertical-align: top;\n",
       "    }\n",
       "\n",
       "    .dataframe thead th {\n",
       "        text-align: right;\n",
       "    }\n",
       "</style>\n",
       "<table border=\"1\" class=\"dataframe\">\n",
       "  <thead>\n",
       "    <tr style=\"text-align: right;\">\n",
       "      <th></th>\n",
       "      <th>12739</th>\n",
       "      <th>17546</th>\n",
       "      <th>8684</th>\n",
       "      <th>11623</th>\n",
       "      <th>10004</th>\n",
       "    </tr>\n",
       "  </thead>\n",
       "  <tbody>\n",
       "    <tr>\n",
       "      <th>key</th>\n",
       "      <td>2009-01-01 01:31:49.0000003</td>\n",
       "      <td>2009-01-01 02:05:37.0000004</td>\n",
       "      <td>2009-01-01 02:51:52.0000002</td>\n",
       "      <td>2009-01-01 15:19:00.000000146</td>\n",
       "      <td>2009-01-01 16:52:00.00000053</td>\n",
       "    </tr>\n",
       "    <tr>\n",
       "      <th>fare_amount</th>\n",
       "      <td>8.600000</td>\n",
       "      <td>11.000000</td>\n",
       "      <td>10.200000</td>\n",
       "      <td>5.300000</td>\n",
       "      <td>8.500000</td>\n",
       "    </tr>\n",
       "    <tr>\n",
       "      <th>pickup_datetime</th>\n",
       "      <td>2009-01-01 01:31:49+00:00</td>\n",
       "      <td>2009-01-01 02:05:37+00:00</td>\n",
       "      <td>2009-01-01 02:51:52+00:00</td>\n",
       "      <td>2009-01-01 15:19:00+00:00</td>\n",
       "      <td>2009-01-01 16:52:00+00:00</td>\n",
       "    </tr>\n",
       "    <tr>\n",
       "      <th>pickup_longitude</th>\n",
       "      <td>-73.994192</td>\n",
       "      <td>-73.978433</td>\n",
       "      <td>-73.956172</td>\n",
       "      <td>-73.949937</td>\n",
       "      <td>-73.967647</td>\n",
       "    </tr>\n",
       "    <tr>\n",
       "      <th>pickup_latitude</th>\n",
       "      <td>40.720077</td>\n",
       "      <td>40.744781</td>\n",
       "      <td>40.771965</td>\n",
       "      <td>40.784427</td>\n",
       "      <td>40.763077</td>\n",
       "    </tr>\n",
       "    <tr>\n",
       "      <th>dropoff_longitude</th>\n",
       "      <td>-73.993356</td>\n",
       "      <td>-74.004713</td>\n",
       "      <td>-73.991027</td>\n",
       "      <td>-73.948735</td>\n",
       "      <td>-73.977438</td>\n",
       "    </tr>\n",
       "    <tr>\n",
       "      <th>dropoff_latitude</th>\n",
       "      <td>40.742642</td>\n",
       "      <td>40.734328</td>\n",
       "      <td>40.751035</td>\n",
       "      <td>40.773738</td>\n",
       "      <td>40.787097</td>\n",
       "    </tr>\n",
       "    <tr>\n",
       "      <th>passenger_count</th>\n",
       "      <td>1</td>\n",
       "      <td>1</td>\n",
       "      <td>2</td>\n",
       "      <td>5</td>\n",
       "      <td>2</td>\n",
       "    </tr>\n",
       "    <tr>\n",
       "      <th>pickupYear</th>\n",
       "      <td>2009</td>\n",
       "      <td>2009</td>\n",
       "      <td>2009</td>\n",
       "      <td>2009</td>\n",
       "      <td>2009</td>\n",
       "    </tr>\n",
       "    <tr>\n",
       "      <th>pickupMonth</th>\n",
       "      <td>1</td>\n",
       "      <td>1</td>\n",
       "      <td>1</td>\n",
       "      <td>1</td>\n",
       "      <td>1</td>\n",
       "    </tr>\n",
       "    <tr>\n",
       "      <th>pickupDay</th>\n",
       "      <td>1</td>\n",
       "      <td>1</td>\n",
       "      <td>1</td>\n",
       "      <td>1</td>\n",
       "      <td>1</td>\n",
       "    </tr>\n",
       "    <tr>\n",
       "      <th>pickupDayOfWeek</th>\n",
       "      <td>3</td>\n",
       "      <td>3</td>\n",
       "      <td>3</td>\n",
       "      <td>3</td>\n",
       "      <td>3</td>\n",
       "    </tr>\n",
       "    <tr>\n",
       "      <th>pickupDayOfYear</th>\n",
       "      <td>1</td>\n",
       "      <td>1</td>\n",
       "      <td>1</td>\n",
       "      <td>1</td>\n",
       "      <td>1</td>\n",
       "    </tr>\n",
       "  </tbody>\n",
       "</table>\n",
       "</div>"
      ],
      "text/plain": [
       "                                         12739                        17546  \\\n",
       "key                2009-01-01 01:31:49.0000003  2009-01-01 02:05:37.0000004   \n",
       "fare_amount                           8.600000                    11.000000   \n",
       "pickup_datetime      2009-01-01 01:31:49+00:00    2009-01-01 02:05:37+00:00   \n",
       "pickup_longitude                    -73.994192                   -73.978433   \n",
       "pickup_latitude                      40.720077                    40.744781   \n",
       "dropoff_longitude                   -73.993356                   -74.004713   \n",
       "dropoff_latitude                     40.742642                    40.734328   \n",
       "passenger_count                              1                            1   \n",
       "pickupYear                                2009                         2009   \n",
       "pickupMonth                                  1                            1   \n",
       "pickupDay                                    1                            1   \n",
       "pickupDayOfWeek                              3                            3   \n",
       "pickupDayOfYear                              1                            1   \n",
       "\n",
       "                                         8684                           11623  \\\n",
       "key                2009-01-01 02:51:52.0000002  2009-01-01 15:19:00.000000146   \n",
       "fare_amount                          10.200000                       5.300000   \n",
       "pickup_datetime      2009-01-01 02:51:52+00:00      2009-01-01 15:19:00+00:00   \n",
       "pickup_longitude                    -73.956172                     -73.949937   \n",
       "pickup_latitude                      40.771965                      40.784427   \n",
       "dropoff_longitude                   -73.991027                     -73.948735   \n",
       "dropoff_latitude                     40.751035                      40.773738   \n",
       "passenger_count                              2                              5   \n",
       "pickupYear                                2009                           2009   \n",
       "pickupMonth                                  1                              1   \n",
       "pickupDay                                    1                              1   \n",
       "pickupDayOfWeek                              3                              3   \n",
       "pickupDayOfYear                              1                              1   \n",
       "\n",
       "                                          10004  \n",
       "key                2009-01-01 16:52:00.00000053  \n",
       "fare_amount                            8.500000  \n",
       "pickup_datetime       2009-01-01 16:52:00+00:00  \n",
       "pickup_longitude                     -73.967647  \n",
       "pickup_latitude                       40.763077  \n",
       "dropoff_longitude                    -73.977438  \n",
       "dropoff_latitude                      40.787097  \n",
       "passenger_count                               2  \n",
       "pickupYear                                 2009  \n",
       "pickupMonth                                   1  \n",
       "pickupDay                                     1  \n",
       "pickupDayOfWeek                               3  \n",
       "pickupDayOfYear                               1  "
      ]
     },
     "execution_count": 30,
     "metadata": {},
     "output_type": "execute_result"
    }
   ],
   "source": [
    "taxi.head().T"
   ]
  },
  {
   "cell_type": "code",
   "execution_count": 31,
   "id": "confirmed-sculpture",
   "metadata": {},
   "outputs": [],
   "source": [
    "# We don't need the pickup_datetime attribute anymore\n",
    "taxi.drop(\"pickup_datetime\", axis=1, inplace=True)"
   ]
  },
  {
   "cell_type": "markdown",
   "id": "simple-zoning",
   "metadata": {},
   "source": [
    "#### Conclusion EDA\n",
    "\n",
    "We have noticed few things about the data so we are going to clean up before feeding the data to a Machine Learning algorithm."
   ]
  },
  {
   "cell_type": "markdown",
   "id": "statutory-single",
   "metadata": {},
   "source": [
    "## Prepare the Data."
   ]
  },
  {
   "cell_type": "code",
   "execution_count": 32,
   "id": "destroyed-surprise",
   "metadata": {},
   "outputs": [],
   "source": [
    "# Let's separate the predictors and the labels\n",
    "taxi_train = taxi.drop(\"fare_amount\", axis=1)\n",
    "taxi_labels = taxi[\"fare_amount\"].copy()"
   ]
  },
  {
   "cell_type": "code",
   "execution_count": 33,
   "id": "suffering-adventure",
   "metadata": {},
   "outputs": [
    {
     "data": {
      "text/html": [
       "<div>\n",
       "<style scoped>\n",
       "    .dataframe tbody tr th:only-of-type {\n",
       "        vertical-align: middle;\n",
       "    }\n",
       "\n",
       "    .dataframe tbody tr th {\n",
       "        vertical-align: top;\n",
       "    }\n",
       "\n",
       "    .dataframe thead th {\n",
       "        text-align: right;\n",
       "    }\n",
       "</style>\n",
       "<table border=\"1\" class=\"dataframe\">\n",
       "  <thead>\n",
       "    <tr style=\"text-align: right;\">\n",
       "      <th></th>\n",
       "      <th>key</th>\n",
       "      <th>pickup_longitude</th>\n",
       "      <th>pickup_latitude</th>\n",
       "      <th>dropoff_longitude</th>\n",
       "      <th>dropoff_latitude</th>\n",
       "      <th>passenger_count</th>\n",
       "      <th>pickupYear</th>\n",
       "      <th>pickupMonth</th>\n",
       "      <th>pickupDay</th>\n",
       "      <th>pickupDayOfWeek</th>\n",
       "      <th>pickupDayOfYear</th>\n",
       "    </tr>\n",
       "  </thead>\n",
       "  <tbody>\n",
       "    <tr>\n",
       "      <th>12739</th>\n",
       "      <td>2009-01-01 01:31:49.0000003</td>\n",
       "      <td>-73.994192</td>\n",
       "      <td>40.720077</td>\n",
       "      <td>-73.993356</td>\n",
       "      <td>40.742642</td>\n",
       "      <td>1</td>\n",
       "      <td>2009</td>\n",
       "      <td>1</td>\n",
       "      <td>1</td>\n",
       "      <td>3</td>\n",
       "      <td>1</td>\n",
       "    </tr>\n",
       "    <tr>\n",
       "      <th>17546</th>\n",
       "      <td>2009-01-01 02:05:37.0000004</td>\n",
       "      <td>-73.978433</td>\n",
       "      <td>40.744781</td>\n",
       "      <td>-74.004713</td>\n",
       "      <td>40.734328</td>\n",
       "      <td>1</td>\n",
       "      <td>2009</td>\n",
       "      <td>1</td>\n",
       "      <td>1</td>\n",
       "      <td>3</td>\n",
       "      <td>1</td>\n",
       "    </tr>\n",
       "    <tr>\n",
       "      <th>8684</th>\n",
       "      <td>2009-01-01 02:51:52.0000002</td>\n",
       "      <td>-73.956172</td>\n",
       "      <td>40.771965</td>\n",
       "      <td>-73.991027</td>\n",
       "      <td>40.751035</td>\n",
       "      <td>2</td>\n",
       "      <td>2009</td>\n",
       "      <td>1</td>\n",
       "      <td>1</td>\n",
       "      <td>3</td>\n",
       "      <td>1</td>\n",
       "    </tr>\n",
       "    <tr>\n",
       "      <th>11623</th>\n",
       "      <td>2009-01-01 15:19:00.000000146</td>\n",
       "      <td>-73.949937</td>\n",
       "      <td>40.784427</td>\n",
       "      <td>-73.948735</td>\n",
       "      <td>40.773738</td>\n",
       "      <td>5</td>\n",
       "      <td>2009</td>\n",
       "      <td>1</td>\n",
       "      <td>1</td>\n",
       "      <td>3</td>\n",
       "      <td>1</td>\n",
       "    </tr>\n",
       "    <tr>\n",
       "      <th>10004</th>\n",
       "      <td>2009-01-01 16:52:00.00000053</td>\n",
       "      <td>-73.967647</td>\n",
       "      <td>40.763077</td>\n",
       "      <td>-73.977438</td>\n",
       "      <td>40.787097</td>\n",
       "      <td>2</td>\n",
       "      <td>2009</td>\n",
       "      <td>1</td>\n",
       "      <td>1</td>\n",
       "      <td>3</td>\n",
       "      <td>1</td>\n",
       "    </tr>\n",
       "  </tbody>\n",
       "</table>\n",
       "</div>"
      ],
      "text/plain": [
       "                                 key  pickup_longitude  pickup_latitude  \\\n",
       "12739    2009-01-01 01:31:49.0000003        -73.994192        40.720077   \n",
       "17546    2009-01-01 02:05:37.0000004        -73.978433        40.744781   \n",
       "8684     2009-01-01 02:51:52.0000002        -73.956172        40.771965   \n",
       "11623  2009-01-01 15:19:00.000000146        -73.949937        40.784427   \n",
       "10004   2009-01-01 16:52:00.00000053        -73.967647        40.763077   \n",
       "\n",
       "       dropoff_longitude  dropoff_latitude  passenger_count  pickupYear  \\\n",
       "12739         -73.993356         40.742642                1        2009   \n",
       "17546         -74.004713         40.734328                1        2009   \n",
       "8684          -73.991027         40.751035                2        2009   \n",
       "11623         -73.948735         40.773738                5        2009   \n",
       "10004         -73.977438         40.787097                2        2009   \n",
       "\n",
       "       pickupMonth  pickupDay  pickupDayOfWeek  pickupDayOfYear  \n",
       "12739            1          1                3                1  \n",
       "17546            1          1                3                1  \n",
       "8684             1          1                3                1  \n",
       "11623            1          1                3                1  \n",
       "10004            1          1                3                1  "
      ]
     },
     "execution_count": 33,
     "metadata": {},
     "output_type": "execute_result"
    }
   ],
   "source": [
    "taxi_train.head()"
   ]
  },
  {
   "cell_type": "code",
   "execution_count": 34,
   "id": "mobile-trance",
   "metadata": {},
   "outputs": [
    {
     "data": {
      "text/html": [
       "<div>\n",
       "<style scoped>\n",
       "    .dataframe tbody tr th:only-of-type {\n",
       "        vertical-align: middle;\n",
       "    }\n",
       "\n",
       "    .dataframe tbody tr th {\n",
       "        vertical-align: top;\n",
       "    }\n",
       "\n",
       "    .dataframe thead th {\n",
       "        text-align: right;\n",
       "    }\n",
       "</style>\n",
       "<table border=\"1\" class=\"dataframe\">\n",
       "  <thead>\n",
       "    <tr style=\"text-align: right;\">\n",
       "      <th></th>\n",
       "      <th>pickup_longitude</th>\n",
       "      <th>pickup_latitude</th>\n",
       "      <th>dropoff_longitude</th>\n",
       "      <th>dropoff_latitude</th>\n",
       "      <th>passenger_count</th>\n",
       "      <th>pickupYear</th>\n",
       "      <th>pickupMonth</th>\n",
       "      <th>pickupDay</th>\n",
       "      <th>pickupDayOfWeek</th>\n",
       "      <th>pickupDayOfYear</th>\n",
       "    </tr>\n",
       "  </thead>\n",
       "  <tbody>\n",
       "    <tr>\n",
       "      <th>count</th>\n",
       "      <td>20000.000000</td>\n",
       "      <td>20000.000000</td>\n",
       "      <td>20000.000000</td>\n",
       "      <td>20000.000000</td>\n",
       "      <td>20000.000000</td>\n",
       "      <td>20000.000000</td>\n",
       "      <td>20000.000000</td>\n",
       "      <td>20000.00000</td>\n",
       "      <td>20000.000000</td>\n",
       "      <td>20000.000000</td>\n",
       "    </tr>\n",
       "    <tr>\n",
       "      <th>mean</th>\n",
       "      <td>-72.478584</td>\n",
       "      <td>39.921043</td>\n",
       "      <td>-72.497221</td>\n",
       "      <td>39.913606</td>\n",
       "      <td>1.658000</td>\n",
       "      <td>2011.750050</td>\n",
       "      <td>6.244350</td>\n",
       "      <td>15.67785</td>\n",
       "      <td>3.037000</td>\n",
       "      <td>174.514600</td>\n",
       "    </tr>\n",
       "    <tr>\n",
       "      <th>std</th>\n",
       "      <td>10.525376</td>\n",
       "      <td>6.678592</td>\n",
       "      <td>10.460530</td>\n",
       "      <td>6.139231</td>\n",
       "      <td>1.283674</td>\n",
       "      <td>1.863343</td>\n",
       "      <td>3.445335</td>\n",
       "      <td>8.67658</td>\n",
       "      <td>1.964516</td>\n",
       "      <td>105.092987</td>\n",
       "    </tr>\n",
       "    <tr>\n",
       "      <th>min</th>\n",
       "      <td>-74.438233</td>\n",
       "      <td>-74.006893</td>\n",
       "      <td>-84.654241</td>\n",
       "      <td>-74.006377</td>\n",
       "      <td>0.000000</td>\n",
       "      <td>2009.000000</td>\n",
       "      <td>1.000000</td>\n",
       "      <td>1.00000</td>\n",
       "      <td>0.000000</td>\n",
       "      <td>1.000000</td>\n",
       "    </tr>\n",
       "    <tr>\n",
       "      <th>25%</th>\n",
       "      <td>-73.992150</td>\n",
       "      <td>40.734706</td>\n",
       "      <td>-73.991224</td>\n",
       "      <td>40.734537</td>\n",
       "      <td>1.000000</td>\n",
       "      <td>2010.000000</td>\n",
       "      <td>3.000000</td>\n",
       "      <td>8.00000</td>\n",
       "      <td>1.000000</td>\n",
       "      <td>84.000000</td>\n",
       "    </tr>\n",
       "    <tr>\n",
       "      <th>50%</th>\n",
       "      <td>-73.981711</td>\n",
       "      <td>40.752680</td>\n",
       "      <td>-73.980216</td>\n",
       "      <td>40.753583</td>\n",
       "      <td>1.000000</td>\n",
       "      <td>2012.000000</td>\n",
       "      <td>6.000000</td>\n",
       "      <td>16.00000</td>\n",
       "      <td>3.000000</td>\n",
       "      <td>166.000000</td>\n",
       "    </tr>\n",
       "    <tr>\n",
       "      <th>75%</th>\n",
       "      <td>-73.966802</td>\n",
       "      <td>40.767443</td>\n",
       "      <td>-73.963729</td>\n",
       "      <td>40.768135</td>\n",
       "      <td>2.000000</td>\n",
       "      <td>2013.000000</td>\n",
       "      <td>9.000000</td>\n",
       "      <td>23.00000</td>\n",
       "      <td>5.000000</td>\n",
       "      <td>267.000000</td>\n",
       "    </tr>\n",
       "    <tr>\n",
       "      <th>max</th>\n",
       "      <td>40.766125</td>\n",
       "      <td>401.083332</td>\n",
       "      <td>40.802437</td>\n",
       "      <td>41.366138</td>\n",
       "      <td>6.000000</td>\n",
       "      <td>2015.000000</td>\n",
       "      <td>12.000000</td>\n",
       "      <td>31.00000</td>\n",
       "      <td>6.000000</td>\n",
       "      <td>366.000000</td>\n",
       "    </tr>\n",
       "  </tbody>\n",
       "</table>\n",
       "</div>"
      ],
      "text/plain": [
       "       pickup_longitude  pickup_latitude  dropoff_longitude  dropoff_latitude  \\\n",
       "count      20000.000000     20000.000000       20000.000000      20000.000000   \n",
       "mean         -72.478584        39.921043         -72.497221         39.913606   \n",
       "std           10.525376         6.678592          10.460530          6.139231   \n",
       "min          -74.438233       -74.006893         -84.654241        -74.006377   \n",
       "25%          -73.992150        40.734706         -73.991224         40.734537   \n",
       "50%          -73.981711        40.752680         -73.980216         40.753583   \n",
       "75%          -73.966802        40.767443         -73.963729         40.768135   \n",
       "max           40.766125       401.083332          40.802437         41.366138   \n",
       "\n",
       "       passenger_count    pickupYear   pickupMonth    pickupDay  \\\n",
       "count     20000.000000  20000.000000  20000.000000  20000.00000   \n",
       "mean          1.658000   2011.750050      6.244350     15.67785   \n",
       "std           1.283674      1.863343      3.445335      8.67658   \n",
       "min           0.000000   2009.000000      1.000000      1.00000   \n",
       "25%           1.000000   2010.000000      3.000000      8.00000   \n",
       "50%           1.000000   2012.000000      6.000000     16.00000   \n",
       "75%           2.000000   2013.000000      9.000000     23.00000   \n",
       "max           6.000000   2015.000000     12.000000     31.00000   \n",
       "\n",
       "       pickupDayOfWeek  pickupDayOfYear  \n",
       "count     20000.000000     20000.000000  \n",
       "mean          3.037000       174.514600  \n",
       "std           1.964516       105.092987  \n",
       "min           0.000000         1.000000  \n",
       "25%           1.000000        84.000000  \n",
       "50%           3.000000       166.000000  \n",
       "75%           5.000000       267.000000  \n",
       "max           6.000000       366.000000  "
      ]
     },
     "execution_count": 34,
     "metadata": {},
     "output_type": "execute_result"
    }
   ],
   "source": [
    "taxi_train.describe()"
   ]
  },
  {
   "cell_type": "code",
   "execution_count": 35,
   "id": "latin-canvas",
   "metadata": {},
   "outputs": [
    {
     "data": {
      "text/plain": [
       "key                   object\n",
       "pickup_longitude     float64\n",
       "pickup_latitude      float64\n",
       "dropoff_longitude    float64\n",
       "dropoff_latitude     float64\n",
       "passenger_count        int64\n",
       "pickupYear             int64\n",
       "pickupMonth            int64\n",
       "pickupDay              int64\n",
       "pickupDayOfWeek        int64\n",
       "pickupDayOfYear        int64\n",
       "dtype: object"
      ]
     },
     "execution_count": 35,
     "metadata": {},
     "output_type": "execute_result"
    }
   ],
   "source": [
    "taxi_train.dtypes"
   ]
  },
  {
   "cell_type": "code",
   "execution_count": 37,
   "id": "cloudy-future",
   "metadata": {},
   "outputs": [
    {
     "data": {
      "text/plain": [
       "12739     8.6\n",
       "17546    11.0\n",
       "8684     10.2\n",
       "11623     5.3\n",
       "10004     8.5\n",
       "Name: fare_amount, dtype: float64"
      ]
     },
     "execution_count": 37,
     "metadata": {},
     "output_type": "execute_result"
    }
   ],
   "source": [
    "taxi_labels.head()"
   ]
  },
  {
   "cell_type": "code",
   "execution_count": 38,
   "id": "neutral-jimmy",
   "metadata": {},
   "outputs": [
    {
     "data": {
      "text/plain": [
       "12739      2009-01-01 01:31:49.0000003\n",
       "17546      2009-01-01 02:05:37.0000004\n",
       "8684       2009-01-01 02:51:52.0000002\n",
       "11623    2009-01-01 15:19:00.000000146\n",
       "10004     2009-01-01 16:52:00.00000053\n",
       "Name: key, dtype: object"
      ]
     },
     "execution_count": 38,
     "metadata": {},
     "output_type": "execute_result"
    }
   ],
   "source": [
    "taxi_train[\"key\"].head()"
   ]
  },
  {
   "cell_type": "markdown",
   "id": "unnecessary-cigarette",
   "metadata": {},
   "source": [
    "### Data Cleaning, Feature Engineering and Feature Scaling\n",
    "\n",
    "#### Handling Attributes with Missing Values\n",
    "As we are not sure that our whole dataset doesn't contain missing values, we will apply the imputer (a Scikit-Learn handy class) to all the numerical attributes. For doing this, we will use the transformer named `SimpleImputer`.\n",
    "\n",
    "\n",
    "#### Handling Text and Categorical Attributes\n",
    "In this project, we don't have categorical attributes.\n",
    "Still, we have to handle the text attribute that is `key`.\n",
    "\n",
    "We could handle this text attribute by using a regex to split datetime and the id separated by a \".\", but we consider that we will not use this id and we already have the datetime information in other attributes.\n",
    "\n",
    "\n",
    "#### Standardize numerical features\n",
    "ML algorithms don't perform well when the input numerical attributes have very different scales.\n",
    "\n",
    "This is the case for the taxi data: the `pickup_longitude` ranges from about -74 to 40.767, while the `passenger_count` ranges from 0 to 6."
   ]
  },
  {
   "cell_type": "markdown",
   "id": "freelance-attack",
   "metadata": {},
   "source": [
    "#### Transformation Pipeline\n",
    "\n",
    "We create a Pipeline so we will be able to apply the transformations to our whole dataset (including the test set) and to new fresh dataset.\n"
   ]
  },
  {
   "cell_type": "code",
   "execution_count": 39,
   "id": "naughty-episode",
   "metadata": {},
   "outputs": [
    {
     "data": {
      "text/plain": [
       "['pickup_longitude',\n",
       " 'pickup_latitude',\n",
       " 'dropoff_longitude',\n",
       " 'dropoff_latitude',\n",
       " 'passenger_count',\n",
       " 'pickupYear',\n",
       " 'pickupMonth',\n",
       " 'pickupDay',\n",
       " 'pickupDayOfWeek',\n",
       " 'pickupDayOfYear']"
      ]
     },
     "execution_count": 39,
     "metadata": {},
     "output_type": "execute_result"
    }
   ],
   "source": [
    "# Check which columns are numerical and which one are non numerical\n",
    "def get_num_col(df):\n",
    "    \"\"\"\n",
    "    Given a dataset, it returns a list of the columns that are numerical.\n",
    "    \"\"\"\n",
    "    \n",
    "    num_col = []\n",
    "    for label, content in df.items():\n",
    "        if pd.api.types.is_numeric_dtype(content):\n",
    "            num_col.append(label)\n",
    "    return num_col\n",
    "\n",
    "num_attribs = get_num_col(taxi_train)\n",
    "num_attribs"
   ]
  },
  {
   "cell_type": "code",
   "execution_count": 40,
   "id": "satellite-battery",
   "metadata": {},
   "outputs": [],
   "source": [
    "num_pipeline = Pipeline([\n",
    "    ('imputer', SimpleImputer(strategy=\"median\")),\n",
    "    ('std_scaler', StandardScaler())\n",
    "])\n",
    "\n",
    "\n",
    "full_pipeline = ColumnTransformer([\n",
    "    (\"num\", num_pipeline, num_attribs),\n",
    "    (\"key_att\", \"drop\", [\"key\"])\n",
    "])\n",
    "\n",
    "taxi_train_prepared = full_pipeline.fit_transform(taxi_train)"
   ]
  },
  {
   "cell_type": "code",
   "execution_count": 41,
   "id": "enclosed-rebound",
   "metadata": {},
   "outputs": [],
   "source": [
    "# Drop the `key` attribute\n",
    "#taxi_train.drop(\"key\", axis=1, inplace=True)"
   ]
  },
  {
   "cell_type": "code",
   "execution_count": 42,
   "id": "ethical-scene",
   "metadata": {},
   "outputs": [],
   "source": [
    "#taxi_train = pd.DataFrame(taxi_train_prepared, columns=taxi_train.columns, index=taxi_train.index)"
   ]
  },
  {
   "cell_type": "code",
   "execution_count": 43,
   "id": "suitable-responsibility",
   "metadata": {},
   "outputs": [],
   "source": [
    "#taxi_train.head()"
   ]
  },
  {
   "cell_type": "code",
   "execution_count": 44,
   "id": "invisible-account",
   "metadata": {},
   "outputs": [],
   "source": [
    "#taxi_train.dtypes"
   ]
  },
  {
   "cell_type": "code",
   "execution_count": 45,
   "id": "emotional-induction",
   "metadata": {},
   "outputs": [],
   "source": [
    "#taxi_train.describe()"
   ]
  },
  {
   "cell_type": "markdown",
   "id": "economic-terrace",
   "metadata": {},
   "source": [
    "#### Fix or remove outliers\n",
    "\n",
    "Here we don't need to handle this step because we have used the StandardScaler and this standardization is not affected by outliers.\n",
    "\n",
    "If we think that it may affect our estimation, we may want to fix outliers."
   ]
  },
  {
   "cell_type": "markdown",
   "id": "empty-baseball",
   "metadata": {},
   "source": [
    "We've done some EDA and preprocessing on our data. Now let's start to do some model-driven EDA."
   ]
  },
  {
   "cell_type": "markdown",
   "id": "immune-baseball",
   "metadata": {},
   "source": [
    "## Select and Train a Model."
   ]
  },
  {
   "cell_type": "markdown",
   "id": "democratic-waters",
   "metadata": {},
   "source": [
    "### Training and Evaluating on the Training Set"
   ]
  },
  {
   "cell_type": "code",
   "execution_count": 46,
   "id": "delayed-theory",
   "metadata": {},
   "outputs": [
    {
     "data": {
      "text/plain": [
       "LinearRegression()"
      ]
     },
     "execution_count": 46,
     "metadata": {},
     "output_type": "execute_result"
    }
   ],
   "source": [
    "lin_reg = LinearRegression()\n",
    "lin_reg.fit(taxi_train_prepared, taxi_labels)"
   ]
  },
  {
   "cell_type": "markdown",
   "id": "square-fighter",
   "metadata": {},
   "source": [
    "Now that we have a working Linear Regression model, let's try it out on a few instances from the training set."
   ]
  },
  {
   "cell_type": "code",
   "execution_count": 47,
   "id": "european-feeling",
   "metadata": {},
   "outputs": [
    {
     "name": "stdout",
     "output_type": "stream",
     "text": [
      "Predictions: [8.83818612 8.83780784 8.90394054 9.10457808 8.90343936]\n",
      "Labels: [8.6, 11.0, 10.2, 5.3, 8.5]\n"
     ]
    }
   ],
   "source": [
    "some_data = taxi_train.iloc[:5]\n",
    "some_labels = taxi_labels.iloc[:5]\n",
    "some_data_prepared = full_pipeline.transform(some_data)\n",
    "print(\"Predictions:\", lin_reg.predict(some_data_prepared))\n",
    "print(\"Labels:\", list(some_labels))"
   ]
  },
  {
   "cell_type": "code",
   "execution_count": 48,
   "id": "synthetic-providence",
   "metadata": {},
   "outputs": [
    {
     "data": {
      "text/plain": [
       "9.465258686830639"
      ]
     },
     "execution_count": 48,
     "metadata": {},
     "output_type": "execute_result"
    }
   ],
   "source": [
    "taxi_preds = lin_reg.predict(taxi_train_prepared)\n",
    "lin_mse = mean_squared_error(taxi_labels, taxi_preds)\n",
    "lin_rmse = np.sqrt(lin_mse)\n",
    "lin_rmse"
   ]
  },
  {
   "cell_type": "code",
   "execution_count": 49,
   "id": "pacific-blues",
   "metadata": {},
   "outputs": [
    {
     "data": {
      "text/plain": [
       "0.015896203581442725"
      ]
     },
     "execution_count": 49,
     "metadata": {},
     "output_type": "execute_result"
    }
   ],
   "source": [
    "lin_reg.score(taxi_train_prepared, taxi_labels)"
   ]
  },
  {
   "cell_type": "markdown",
   "id": "satisfied-shoulder",
   "metadata": {},
   "source": [
    "This is not a very good score, let's try with a Random Forest Regression model."
   ]
  },
  {
   "cell_type": "code",
   "execution_count": 51,
   "id": "canadian-berkeley",
   "metadata": {},
   "outputs": [
    {
     "data": {
      "text/plain": [
       "RandomForestRegressor(n_jobs=1, random_state=42)"
      ]
     },
     "execution_count": 51,
     "metadata": {},
     "output_type": "execute_result"
    }
   ],
   "source": [
    "rd_reg = RandomForestRegressor(n_jobs=1,\n",
    "                             random_state=42)\n",
    "rd_reg.fit(taxi_train_prepared, taxi_labels)"
   ]
  },
  {
   "cell_type": "code",
   "execution_count": 52,
   "id": "powered-alexander",
   "metadata": {},
   "outputs": [
    {
     "name": "stdout",
     "output_type": "stream",
     "text": [
      "Predictions: [ 8.792 10.123 11.036  5.214  8.256]\n",
      "Labels: [8.6, 11.0, 10.2, 5.3, 8.5]\n"
     ]
    }
   ],
   "source": [
    "print(\"Predictions:\", rd_reg.predict(some_data_prepared))\n",
    "print(\"Labels:\", list(some_labels))"
   ]
  },
  {
   "cell_type": "code",
   "execution_count": 54,
   "id": "normal-supervision",
   "metadata": {},
   "outputs": [
    {
     "data": {
      "text/plain": [
       "1.7999813009992358"
      ]
     },
     "execution_count": 54,
     "metadata": {},
     "output_type": "execute_result"
    }
   ],
   "source": [
    "taxi_preds = rd_reg.predict(taxi_train_prepared)\n",
    "rd_mse = mean_squared_error(taxi_labels, taxi_preds)\n",
    "rd_rmse = np.sqrt(rd_mse)\n",
    "rd_rmse"
   ]
  },
  {
   "cell_type": "code",
   "execution_count": 55,
   "id": "respiratory-ministry",
   "metadata": {},
   "outputs": [
    {
     "data": {
      "text/plain": [
       "0.9644113168478252"
      ]
     },
     "execution_count": 55,
     "metadata": {},
     "output_type": "execute_result"
    }
   ],
   "source": [
    "rd_reg.score(taxi_train_prepared, taxi_labels)"
   ]
  },
  {
   "cell_type": "markdown",
   "id": "built-thumbnail",
   "metadata": {},
   "source": [
    "This result is way more better than the first one, but how can we be sure that this model is very good ?"
   ]
  },
  {
   "cell_type": "markdown",
   "id": "ignored-mounting",
   "metadata": {},
   "source": [
    "### Better Evaluation Using Cross-Validation\n",
    "\n",
    "One way to evaluate the Random Forest Regression model would be to use the train_test_split() function to split the training set into a smaller training set and a validation set.\n",
    "\n",
    "Here we will use the Scikit-Learn's **K-fold cross-validation** feature."
   ]
  },
  {
   "cell_type": "code",
   "execution_count": 57,
   "id": "metallic-webmaster",
   "metadata": {},
   "outputs": [],
   "source": [
    "scores = cross_val_score(rd_reg, taxi_train_prepared, taxi_labels,\n",
    "                        scoring=\"neg_mean_squared_error\", cv=10)\n",
    "rd_rmse_scores = np.sqrt(-scores)"
   ]
  },
  {
   "cell_type": "code",
   "execution_count": 58,
   "id": "blocked-table",
   "metadata": {},
   "outputs": [
    {
     "name": "stdout",
     "output_type": "stream",
     "text": [
      "Scores: [4.93059435 4.64672716 5.62165436 3.51557174 5.26611154 4.50697569\n",
      " 5.69201895 3.8669315  5.60678144 4.71677038]\n",
      "Mean: 4.837013712164774\n",
      "Standard deviation 0.7056189085250095\n"
     ]
    }
   ],
   "source": [
    "# Create function to evaluate model on a few different levels\n",
    "\n",
    "def display_scores(scores):\n",
    "    print(\"Scores:\", scores)\n",
    "    print(\"Mean:\", scores.mean())\n",
    "    print(\"Standard deviation\", scores.std())\n",
    "    \n",
    "display_scores(rd_rmse_scores)"
   ]
  },
  {
   "cell_type": "markdown",
   "id": "related-eligibility",
   "metadata": {},
   "source": [
    "Let's compute the same scores for the Linear Regression model just to be sure."
   ]
  },
  {
   "cell_type": "code",
   "execution_count": 59,
   "id": "painful-metallic",
   "metadata": {},
   "outputs": [],
   "source": [
    "lin_scores = cross_val_score(lin_reg, taxi_train_prepared, taxi_labels,\n",
    "                        scoring=\"neg_mean_squared_error\", cv=10)\n",
    "lin_rmse_scores = np.sqrt(-lin_scores)"
   ]
  },
  {
   "cell_type": "code",
   "execution_count": 60,
   "id": "amateur-lecture",
   "metadata": {},
   "outputs": [
    {
     "name": "stdout",
     "output_type": "stream",
     "text": [
      "Scores: [ 8.44409326  8.41005001  8.70225606  7.68353457  9.23639974  9.6932067\n",
      " 10.53314879  9.8544775  11.01869018 10.61641849]\n",
      "Mean: 9.419227529456602\n",
      "Standard deviation 1.0500621358530147\n"
     ]
    }
   ],
   "source": [
    "display_scores(lin_rmse_scores)"
   ]
  },
  {
   "cell_type": "markdown",
   "id": "front-branch",
   "metadata": {},
   "source": [
    "As we can see, our Random Forest Regressor model is performing much better on the training set, meaning that the model is overfitting the training set.\n",
    "\n",
    "Possible solutions for overfitting are:\n",
    "* To simplify the model\n",
    "* Constrain it\n",
    "* Or get a lot more training data"
   ]
  },
  {
   "cell_type": "markdown",
   "id": "focal-walker",
   "metadata": {},
   "source": [
    "#### Let's try some other models to get a few (two to five) promising models before diving much deeper into the Fine-Tune Step."
   ]
  },
  {
   "cell_type": "code",
   "execution_count": null,
   "id": "hundred-academy",
   "metadata": {},
   "outputs": [],
   "source": []
  }
 ],
 "metadata": {
  "kernelspec": {
   "display_name": "Python 3",
   "language": "python",
   "name": "python3"
  },
  "language_info": {
   "codemirror_mode": {
    "name": "ipython",
    "version": 3
   },
   "file_extension": ".py",
   "mimetype": "text/x-python",
   "name": "python",
   "nbconvert_exporter": "python",
   "pygments_lexer": "ipython3",
   "version": "3.8.5"
  }
 },
 "nbformat": 4,
 "nbformat_minor": 5
}
